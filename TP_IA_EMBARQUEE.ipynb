{
 "cells": [
  {
   "cell_type": "markdown",
   "metadata": {
    "id": "ZLQS0KLMycmb"
   },
   "source": [
    "## **PRACTICAL SESSION 1** — Deep Learning for predictive maintenance"
   ]
  },
  {
   "cell_type": "markdown",
   "metadata": {
    "id": "3mjNAfgj4K1_"
   },
   "source": [
    "The dataset used is the **AI4I 2020** Predictive Maintenance Dataset, which contains 10,000 instances of industrial sensor data. Each instance represents the operating condition of a machine and is associated with a label indicating whether a failure has occurred and, if so, what type of failure it is.\n",
    "\n",
    "The 5 possible labels are:\n",
    "\n",
    "\n",
    "\n",
    "*   **TWF**: Tool Wear Failure\n",
    "*   **HDF**: Heat Dissipation Failure\n",
    "*   **PWF**: Power Failure\n",
    "*   **OSF**: Overstrain Failure\n",
    "*   **RNF**: Random Failure\n",
    "\n",
    "\n",
    "The data is available on eCAMPUS as CSV file called: \"ai4i2020.csv\"\n",
    "\n"
   ]
  },
  {
   "cell_type": "markdown",
   "metadata": {
    "id": "4_LBMVsgRI9W"
   },
   "source": [
    "## **PRACTICAL SESSION Goal** — Ceate a deep leanring model allowing to realize a predictive maintenance mission"
   ]
  },
  {
   "cell_type": "markdown",
   "metadata": {
    "id": "wt7L0p4MbIIw"
   },
   "source": [
    "## **1 - Analysis of the dataset**\n",
    "\n"
   ]
  },
  {
   "cell_type": "markdown",
   "metadata": {
    "id": "0JFIZ6mtRapt"
   },
   "source": [
    "All libraries used ***SHOULD BE PLACED*** in the code cell below"
   ]
  },
  {
   "cell_type": "code",
   "execution_count": 25,
   "metadata": {
    "id": "UQp7FGSb5Vlv"
   },
   "outputs": [],
   "source": [
    "import pandas as pd\n",
    "import numpy as np\n",
    "import matplotlib.pyplot as plt\n",
    "\n",
    "from sklearn.model_selection import train_test_split\n",
    "\n",
    "import tensorflow as tf\n",
    "from tensorflow.keras.layers import Dense\n",
    "from tensorflow.keras.optimizers import Adam\n",
    "\n",
    "from sklearn.metrics import confusion_matrix, ConfusionMatrixDisplay\n",
    "from sklearn.metrics import classification_report\n",
    "from sklearn import metrics\n",
    "\n",
    "from collections import Counter\n",
    "from imblearn.over_sampling import SMOTE\n",
    "from imblearn.under_sampling import RandomUnderSampler"
   ]
  },
  {
   "cell_type": "markdown",
   "metadata": {
    "id": "eFRcS74MDeSf"
   },
   "source": [
    "**QUESTION:** Load dataset and display some lines of the csv file."
   ]
  },
  {
   "cell_type": "code",
   "execution_count": 26,
   "metadata": {
    "id": "9l044FZ_5-fN"
   },
   "outputs": [
    {
     "data": {
      "text/html": [
       "<div>\n",
       "<style scoped>\n",
       "    .dataframe tbody tr th:only-of-type {\n",
       "        vertical-align: middle;\n",
       "    }\n",
       "\n",
       "    .dataframe tbody tr th {\n",
       "        vertical-align: top;\n",
       "    }\n",
       "\n",
       "    .dataframe thead th {\n",
       "        text-align: right;\n",
       "    }\n",
       "</style>\n",
       "<table border=\"1\" class=\"dataframe\">\n",
       "  <thead>\n",
       "    <tr style=\"text-align: right;\">\n",
       "      <th></th>\n",
       "      <th>UDI</th>\n",
       "      <th>Product ID</th>\n",
       "      <th>Type</th>\n",
       "      <th>Air temperature [K]</th>\n",
       "      <th>Process temperature [K]</th>\n",
       "      <th>Rotational speed [rpm]</th>\n",
       "      <th>Torque [Nm]</th>\n",
       "      <th>Tool wear [min]</th>\n",
       "      <th>Machine failure</th>\n",
       "      <th>TWF</th>\n",
       "      <th>HDF</th>\n",
       "      <th>PWF</th>\n",
       "      <th>OSF</th>\n",
       "      <th>RNF</th>\n",
       "    </tr>\n",
       "  </thead>\n",
       "  <tbody>\n",
       "    <tr>\n",
       "      <th>0</th>\n",
       "      <td>1</td>\n",
       "      <td>M14860</td>\n",
       "      <td>M</td>\n",
       "      <td>298.1</td>\n",
       "      <td>308.6</td>\n",
       "      <td>1551</td>\n",
       "      <td>42.8</td>\n",
       "      <td>0</td>\n",
       "      <td>0</td>\n",
       "      <td>0</td>\n",
       "      <td>0</td>\n",
       "      <td>0</td>\n",
       "      <td>0</td>\n",
       "      <td>0</td>\n",
       "    </tr>\n",
       "    <tr>\n",
       "      <th>1</th>\n",
       "      <td>2</td>\n",
       "      <td>L47181</td>\n",
       "      <td>L</td>\n",
       "      <td>298.2</td>\n",
       "      <td>308.7</td>\n",
       "      <td>1408</td>\n",
       "      <td>46.3</td>\n",
       "      <td>3</td>\n",
       "      <td>0</td>\n",
       "      <td>0</td>\n",
       "      <td>0</td>\n",
       "      <td>0</td>\n",
       "      <td>0</td>\n",
       "      <td>0</td>\n",
       "    </tr>\n",
       "    <tr>\n",
       "      <th>2</th>\n",
       "      <td>3</td>\n",
       "      <td>L47182</td>\n",
       "      <td>L</td>\n",
       "      <td>298.1</td>\n",
       "      <td>308.5</td>\n",
       "      <td>1498</td>\n",
       "      <td>49.4</td>\n",
       "      <td>5</td>\n",
       "      <td>0</td>\n",
       "      <td>0</td>\n",
       "      <td>0</td>\n",
       "      <td>0</td>\n",
       "      <td>0</td>\n",
       "      <td>0</td>\n",
       "    </tr>\n",
       "    <tr>\n",
       "      <th>3</th>\n",
       "      <td>4</td>\n",
       "      <td>L47183</td>\n",
       "      <td>L</td>\n",
       "      <td>298.2</td>\n",
       "      <td>308.6</td>\n",
       "      <td>1433</td>\n",
       "      <td>39.5</td>\n",
       "      <td>7</td>\n",
       "      <td>0</td>\n",
       "      <td>0</td>\n",
       "      <td>0</td>\n",
       "      <td>0</td>\n",
       "      <td>0</td>\n",
       "      <td>0</td>\n",
       "    </tr>\n",
       "    <tr>\n",
       "      <th>4</th>\n",
       "      <td>5</td>\n",
       "      <td>L47184</td>\n",
       "      <td>L</td>\n",
       "      <td>298.2</td>\n",
       "      <td>308.7</td>\n",
       "      <td>1408</td>\n",
       "      <td>40.0</td>\n",
       "      <td>9</td>\n",
       "      <td>0</td>\n",
       "      <td>0</td>\n",
       "      <td>0</td>\n",
       "      <td>0</td>\n",
       "      <td>0</td>\n",
       "      <td>0</td>\n",
       "    </tr>\n",
       "  </tbody>\n",
       "</table>\n",
       "</div>"
      ],
      "text/plain": [
       "   UDI Product ID Type  Air temperature [K]  Process temperature [K]  \\\n",
       "0    1     M14860    M                298.1                    308.6   \n",
       "1    2     L47181    L                298.2                    308.7   \n",
       "2    3     L47182    L                298.1                    308.5   \n",
       "3    4     L47183    L                298.2                    308.6   \n",
       "4    5     L47184    L                298.2                    308.7   \n",
       "\n",
       "   Rotational speed [rpm]  Torque [Nm]  Tool wear [min]  Machine failure  TWF  \\\n",
       "0                    1551         42.8                0                0    0   \n",
       "1                    1408         46.3                3                0    0   \n",
       "2                    1498         49.4                5                0    0   \n",
       "3                    1433         39.5                7                0    0   \n",
       "4                    1408         40.0                9                0    0   \n",
       "\n",
       "   HDF  PWF  OSF  RNF  \n",
       "0    0    0    0    0  \n",
       "1    0    0    0    0  \n",
       "2    0    0    0    0  \n",
       "3    0    0    0    0  \n",
       "4    0    0    0    0  "
      ]
     },
     "execution_count": 26,
     "metadata": {},
     "output_type": "execute_result"
    }
   ],
   "source": [
    "data = pd.read_csv(\"ai4i2020.csv\")\n",
    "data.head()"
   ]
  },
  {
   "cell_type": "markdown",
   "metadata": {},
   "source": [
    "We can see that the input data are :\n",
    "- UDI\n",
    "- Product ID\n",
    "- Product type\n",
    "- Air temperature\n",
    "- Process temperature\n",
    "- Rotational speed\n",
    "- Torque\n",
    "- Tool wear\n",
    "- Machine failure"
   ]
  },
  {
   "cell_type": "markdown",
   "metadata": {
    "id": "joQOXoqaD8JA"
   },
   "source": [
    "**QUESTION:** Display the distribution of machine failures and non-failures with a bar graph."
   ]
  },
  {
   "cell_type": "code",
   "execution_count": 27,
   "metadata": {
    "id": "r3Q1l9JoMs7m"
   },
   "outputs": [
    {
     "data": {
      "image/png": "[encoded data removed]",
      "text/plain": [
       "<Figure size 640x480 with 1 Axes>"
      ]
     },
     "metadata": {},
     "output_type": "display_data"
    },
    {
     "name": "stdout",
     "output_type": "stream",
     "text": [
      "Nombre d'occurrences de chaque état :\n",
      " Machine failure\n",
      "0    9661\n",
      "1     339\n",
      "Name: count, dtype: int64\n",
      "Pourcentage de machines en panne : 3.39%\n"
     ]
    }
   ],
   "source": [
    "counts_failure = data['Machine failure'].value_counts()\n",
    "\n",
    "plt.bar(counts_failure.index, counts_failure.values, color=[\"green\", \"red\"])\n",
    "\n",
    "plt.xticks([0, 1], [\"Working\", \"Failure\"])  # Noms des états\n",
    "plt.xlabel(\"État de la machine\")\n",
    "plt.ylabel(\"Nombre d'occurrences\")\n",
    "plt.title(\"Répartition des machines en fonctionnement et en panne\")\n",
    "\n",
    "plt.show()\n",
    "print(\"Nombre d'occurrences de chaque état :\\n\", counts_failure)\n",
    "\n",
    "print(\"Pourcentage de machines en panne : {:.2f}%\".format(counts_failure[1] / counts_failure.sum() * 100))"
   ]
  },
  {
   "cell_type": "markdown",
   "metadata": {
    "id": "vCNIqXVyEkrR"
   },
   "source": [
    "**ANALYSIS QUESTION:** What do you observe?"
   ]
  },
  {
   "cell_type": "markdown",
   "metadata": {
    "id": "6BMGtlIWE-C0"
   },
   "source": [
    "\n",
    "Lorsque nous affichons les données nous mettons les RNF dans la colonne Working. En effet lorsqu'un RNF a lieu cela n'est pas répertorié comme une 'Machine Failure'. On les retrouve donc dans la colonne Working ce qui est cohérent puisque ces problèmes sont aléatoires et que l'objectif de notre modèle est de prévoir les problèmes sur les machines. Nous ne pouvons pas prévoir les problèmes aléatoires, il est donc cohérent que nous ne comptabilisions pas ces Fail aléatoires comme des Fails puisque nous ne souhaitons pas les prendre en compte dans l'apprentissage.\n",
    "\n",
    "Au final nous voyons que nous avons peu de données pour les Failure (uniquement 339 sur 10 000 données au total). Cela va donc compliquer l'apprentissage."
   ]
  },
  {
   "cell_type": "markdown",
   "metadata": {
    "id": "huU5I4x8SzlN"
   },
   "source": [
    "**ANALYSIS QUESTION:** What will be the consequence of this phenomenon on the model's learning?"
   ]
  },
  {
   "cell_type": "markdown",
   "metadata": {
    "id": "JHmYROP0TLIS"
   },
   "source": [
    "Nous avons peu de données répertoriant des Fails dans notre Dataset. Notre objectif est d'identifier les pannes sur la machine et nous avons seulement 339 réferencements de pannes. Ainsi, même si notre Dataset est de grande taille il n'est pas très complet car 96,61% (1 - 339/10000) des données correspondent à un fonctionnement normal.\n",
    "\n",
    "Notre apprentissage risque donc d'être peu précis à cause d'une faible quantité de données."
   ]
  },
  {
   "cell_type": "markdown",
   "metadata": {
    "id": "0s-mzCCsSasl"
   },
   "source": [
    "**QUESTION:** Create a bar chart showing the distribution of different failure types (TWF, HDF, PWF, OSF, RNF). Display the exact values above each bar in the chart.\""
   ]
  },
  {
   "cell_type": "code",
   "execution_count": 28,
   "metadata": {
    "id": "nQyJCfamMdJN"
   },
   "outputs": [
    {
     "data": {
      "image/png": "[encoded data removed]",
      "text/plain": [
       "<Figure size 800x500 with 1 Axes>"
      ]
     },
     "metadata": {},
     "output_type": "display_data"
    }
   ],
   "source": [
    "dataset = pd.read_csv(\"ai4i2020.csv\")\n",
    "\n",
    "failure_types = ['TWF', 'HDF', 'PWF', 'OSF', 'RNF'] # types de panne\n",
    "failure_counts = dataset[failure_types].sum()\n",
    "\n",
    "plt.figure(figsize=(8, 5))\n",
    "bars = plt.bar(failure_counts.index, failure_counts.values, color='skyblue')\n",
    "\n",
    "# valeurs sur les barres\n",
    "for bar in bars:\n",
    "    plt.text(bar.get_x() + bar.get_width()/2, bar.get_height(), \n",
    "             int(bar.get_height()), ha='center', va='bottom', fontsize=12)\n",
    "\n",
    "plt.xlabel(\"Type de Failure\")\n",
    "plt.ylabel(\"Nombre\")\n",
    "plt.title(\"Distribution des différentes failures\")\n",
    "plt.xticks(rotation=45)\n",
    "plt.grid(axis='y', linestyle='--', alpha=0.7)\n",
    "plt.show()\n"
   ]
  },
  {
   "cell_type": "markdown",
   "metadata": {
    "id": "NXyHa73yU8g_"
   },
   "source": [
    "**ANALYSIS QUESTION:** What do you observe?"
   ]
  },
  {
   "cell_type": "markdown",
   "metadata": {
    "id": "WRDFE_dsVBBU"
   },
   "source": [
    "Nous observons 19 RNF, qui correspondent à des pannes qui ne peuvent pas être prédites.\n",
    "De plus, en faisant la sommes des pannes, nous trouvons 373 pannes. Alors que précédemment quand on sommait les Machine Failure, nous en comptabilisions 339. Cela montre que certaines pannes sont comptabilisées plusieurs fois.\n",
    "Cela n'est pas l'idéal pour un dataset, il faudra y remédier en enlevant les doublons. "
   ]
  },
  {
   "cell_type": "markdown",
   "metadata": {
    "id": "cvaO2bEIMxLd"
   },
   "source": [
    "**QUESTION:** Create a bar chart showing the distribution of failure types (TWF, HDF, PWF, OSF, RNF) among machines that experienced a failure (Machine failure == 1). Additionally, add a \"No Specific Failure\" category to count cases where a machine failed but no specific failure type was recorded. Display the exact values above each bar in the chart.\""
   ]
  },
  {
   "cell_type": "code",
   "execution_count": 29,
   "metadata": {
    "id": "e97htGyyMsle"
   },
   "outputs": [
    {
     "data": {
      "image/png": "[encoded data removed]",
      "text/plain": [
       "<Figure size 800x500 with 1 Axes>"
      ]
     },
     "metadata": {},
     "output_type": "display_data"
    }
   ],
   "source": [
    "dataset = pd.read_csv(\"ai4i2020.csv\")\n",
    "failed_machines = dataset[dataset[\"Machine failure\"] == 1]\n",
    "failure_types = [\"TWF\", \"HDF\", \"PWF\", \"OSF\", \"RNF\"]\n",
    "failure_counts = failed_machines[failure_types].sum()\n",
    "no_specific_failure = (failed_machines[failure_types].sum(axis=1) == 0).sum()\n",
    "\n",
    "failure_counts[\"No Specific Failure\"] = no_specific_failure\n",
    "\n",
    "plt.figure(figsize=(8, 5))\n",
    "bars = plt.bar(failure_counts.index, failure_counts.values, color='lightcoral')\n",
    "\n",
    "for bar in bars:\n",
    "    plt.text(bar.get_x() + bar.get_width()/2, bar.get_height(), \n",
    "             int(bar.get_height()), ha='center', va='bottom', fontsize=12)\n",
    "\n",
    "plt.xlabel(\"Type de failure\")\n",
    "plt.ylabel(\"Nombre\")\n",
    "plt.title(\"Distribution des types de failure parmi les machines qui ont fail\")\n",
    "plt.xticks(rotation=45)\n",
    "plt.grid(axis='y', linestyle='--', alpha=0.7)\n",
    "\n",
    "plt.show()\n"
   ]
  },
  {
   "cell_type": "markdown",
   "metadata": {
    "id": "U6_3vAQCOUGb"
   },
   "source": [
    "**ANALYSIS QUESTION:** What do you observe compared to the previous question ? What can you conclude?"
   ]
  },
  {
   "cell_type": "markdown",
   "metadata": {
    "id": "i-6t7nqlOjMo"
   },
   "source": [
    "On pense que la seule donnée RNF est sûrement une erreur dans le dataset, puisque RNF et TWF sont à 1. Cela veut dire que la machine failure est contabilisée 2 fois, en tant que random et en tant que failure définie. Cela est contradictoire.\n",
    "\n",
    "De plus, les No Specific Failure ne seront pas comptabilisés dans la suite du traitement de données, puisque notre objectif est de prédire les pannes. Donc ces No Specific Failure ne nous seront d'aucune utilité pour entrainer le modèle à prédire les pannes.\n",
    "\n",
    "D'autre part, nous constatons que TWF, HDF, PWF et OSF sont du même ordre de grandeur. Ainsi il faut en priorité régler la différence de taille de données entre les 9661 No Failure et les Fails, de sorte à avoir un dataset plus homogène."
   ]
  },
  {
   "cell_type": "markdown",
   "metadata": {
    "id": "muXeS0eVVW6H"
   },
   "source": [
    "**QUESTION:** Display the names of the different columns in the dataset with their respective data types."
   ]
  },
  {
   "cell_type": "code",
   "execution_count": 30,
   "metadata": {
    "id": "pa9Tptu7nPMp"
   },
   "outputs": [
    {
     "name": "stdout",
     "output_type": "stream",
     "text": [
      "UDI                          int64\n",
      "Product ID                  object\n",
      "Type                        object\n",
      "Air temperature [K]        float64\n",
      "Process temperature [K]    float64\n",
      "Rotational speed [rpm]       int64\n",
      "Torque [Nm]                float64\n",
      "Tool wear [min]              int64\n",
      "Machine failure              int64\n",
      "TWF                          int64\n",
      "HDF                          int64\n",
      "PWF                          int64\n",
      "OSF                          int64\n",
      "RNF                          int64\n",
      "dtype: object\n"
     ]
    }
   ],
   "source": [
    "print(dataset.dtypes)"
   ]
  },
  {
   "cell_type": "markdown",
   "metadata": {
    "id": "cezua1bMVTCM"
   },
   "source": [
    "**ANALYSIS QUESTION:** To train the model, what will be the inputs and outputs (What are the names of the columns that you will use?)? Justify your response.\n",
    "Remember, you want to predict if the machine will fail, and if so, what kind of failure. You need to use previous results to justify your response."
   ]
  },
  {
   "cell_type": "markdown",
   "metadata": {
    "id": "0gy8oDgxbjol"
   },
   "source": [
    "**Outputs**\n",
    "Nous voulons prévoir si une machine va fail et son type de failure donc on a les outputs suivants :\n",
    "\n",
    "- machine failure (0 ou 1)\n",
    "- le type de failure (TWF, HDF, PWF, OSF, RNF qui sont à 0 ou 1)\n",
    "\n",
    "**Inputs**\n",
    "Le model doit utiliser les conditions dans lesquelles est la machine, et ses paramètres pour prédire la failure. Donc les inputs sont :\n",
    "\n",
    "- Air temperature\n",
    "- Process temperature\n",
    "- Rotational speed \n",
    "- Torque \n",
    "- Tool wear \n",
    "\n",
    "On ne prend pas UDI, product ID et Type puisqu'ils ne renseigne aucune donnée utilisable pour prédire la failure. Il serait tout de même intéressant de tester un modèle prenant en compte ces paramètres."
   ]
  },
  {
   "cell_type": "markdown",
   "metadata": {
    "id": "CFXLkBzTiafx"
   },
   "source": [
    "## **2- Train model Without balancing the dataset**\n",
    "\n",
    "---\n",
    "\n"
   ]
  },
  {
   "cell_type": "markdown",
   "metadata": {
    "id": "plBeUOCKvVNU"
   },
   "source": [
    "In this section, you must build and train a model without rebalancing the dataset."
   ]
  },
  {
   "cell_type": "markdown",
   "metadata": {
    "id": "yj7CMqdVbxg2"
   },
   "source": [
    "**QUESTION:** Create X_train, Y_train, X_test, and Y_test. How many elements are present in X_train, Y_train, X_test, and Y_test? (Print the values)"
   ]
  },
  {
   "cell_type": "code",
   "execution_count": 31,
   "metadata": {
    "id": "Wdght-L8wQQQ"
   },
   "outputs": [
    {
     "name": "stdout",
     "output_type": "stream",
     "text": [
      "Nombre d'éléments dans X_train : (8000, 5)\n",
      "Nombre d'éléments dans Y_train : (8000, 5)\n",
      "Nombre d'éléments dans X_test : (2000, 5)\n",
      "Nombre d'éléments dans Y_test : (2000, 5)\n"
     ]
    }
   ],
   "source": [
    "dataset['No Failure'] = 1 - dataset[\"Machine failure\"]\n",
    "#La première classe correspondra à \"pas d'erreur\"\n",
    "\n",
    "X = dataset[[\"Air temperature [K]\", \"Process temperature [K]\", \"Rotational speed [rpm]\", \"Torque [Nm]\", \"Tool wear [min]\"]].to_numpy()\n",
    "Y = dataset[[\"No Failure\", \"TWF\", \"HDF\", \"PWF\", \"OSF\"]].to_numpy()\n",
    "#La première classe correspondra à \"pas d'erreur\", les autres sont les erreurs possibles sans compter \"RNF\"\n",
    "\n",
    "# Division en jeu d'entraînement (80%) et de test (20%)\n",
    "X_train, X_test, Y_train, Y_test = train_test_split(X, Y, test_size=0.2, random_state=42)\n",
    "\n",
    "# Afficher le nombre d'éléments dans chaque ensemble\n",
    "print(f\"Nombre d'éléments dans X_train : {X_train.shape}\")\n",
    "print(f\"Nombre d'éléments dans Y_train : {Y_train.shape}\")\n",
    "print(f\"Nombre d'éléments dans X_test : {X_test.shape}\")\n",
    "print(f\"Nombre d'éléments dans Y_test : {Y_test.shape}\")"
   ]
  },
  {
   "cell_type": "markdown",
   "metadata": {
    "id": "eqBuZsqKdQ7u"
   },
   "source": [
    "**QUESTION** Code below the model architecture"
   ]
  },
  {
   "cell_type": "markdown",
   "metadata": {},
   "source": [
    "Nous mettons en place un réseau de neurone MLP."
   ]
  },
  {
   "cell_type": "code",
   "execution_count": 32,
   "metadata": {
    "id": "F35j0VRDdNLc"
   },
   "outputs": [
    {
     "data": {
      "text/html": [
       "<pre style=\"white-space:pre;overflow-x:auto;line-height:normal;font-family:Menlo,'DejaVu Sans Mono',consolas,'Courier New',monospace\"><span style=\"font-weight: bold\">Model: \"improved_mlp_model\"</span>\n",
       "</pre>\n"
      ],
      "text/plain": [
       "\u001b[1mModel: \"improved_mlp_model\"\u001b[0m\n"
      ]
     },
     "metadata": {},
     "output_type": "display_data"
    },
    {
     "data": {
      "text/html": [
       "<pre style=\"white-space:pre;overflow-x:auto;line-height:normal;font-family:Menlo,'DejaVu Sans Mono',consolas,'Courier New',monospace\">┏━━━━━━━━━━━━━━━━━━━━━━━━━━━━━━━━━┳━━━━━━━━━━━━━━━━━━━━━━━━┳━━━━━━━━━━━━━━━┓\n",
       "┃<span style=\"font-weight: bold\"> Layer (type)                    </span>┃<span style=\"font-weight: bold\"> Output Shape           </span>┃<span style=\"font-weight: bold\">       Param # </span>┃\n",
       "┡━━━━━━━━━━━━━━━━━━━━━━━━━━━━━━━━━╇━━━━━━━━━━━━━━━━━━━━━━━━╇━━━━━━━━━━━━━━━┩\n",
       "│ input_layer_2 (<span style=\"color: #0087ff; text-decoration-color: #0087ff\">InputLayer</span>)      │ (<span style=\"color: #00d7ff; text-decoration-color: #00d7ff\">None</span>, <span style=\"color: #00af00; text-decoration-color: #00af00\">5</span>)              │             <span style=\"color: #00af00; text-decoration-color: #00af00\">0</span> │\n",
       "├─────────────────────────────────┼────────────────────────┼───────────────┤\n",
       "│ dense_9 (<span style=\"color: #0087ff; text-decoration-color: #0087ff\">Dense</span>)                 │ (<span style=\"color: #00d7ff; text-decoration-color: #00d7ff\">None</span>, <span style=\"color: #00af00; text-decoration-color: #00af00\">64</span>)             │           <span style=\"color: #00af00; text-decoration-color: #00af00\">384</span> │\n",
       "├─────────────────────────────────┼────────────────────────┼───────────────┤\n",
       "│ dense_10 (<span style=\"color: #0087ff; text-decoration-color: #0087ff\">Dense</span>)                │ (<span style=\"color: #00d7ff; text-decoration-color: #00d7ff\">None</span>, <span style=\"color: #00af00; text-decoration-color: #00af00\">32</span>)             │         <span style=\"color: #00af00; text-decoration-color: #00af00\">2,080</span> │\n",
       "├─────────────────────────────────┼────────────────────────┼───────────────┤\n",
       "│ dense_11 (<span style=\"color: #0087ff; text-decoration-color: #0087ff\">Dense</span>)                │ (<span style=\"color: #00d7ff; text-decoration-color: #00d7ff\">None</span>, <span style=\"color: #00af00; text-decoration-color: #00af00\">5</span>)              │           <span style=\"color: #00af00; text-decoration-color: #00af00\">165</span> │\n",
       "└─────────────────────────────────┴────────────────────────┴───────────────┘\n",
       "</pre>\n"
      ],
      "text/plain": [
       "┏━━━━━━━━━━━━━━━━━━━━━━━━━━━━━━━━━┳━━━━━━━━━━━━━━━━━━━━━━━━┳━━━━━━━━━━━━━━━┓\n",
       "┃\u001b[1m \u001b[0m\u001b[1mLayer (type)                   \u001b[0m\u001b[1m \u001b[0m┃\u001b[1m \u001b[0m\u001b[1mOutput Shape          \u001b[0m\u001b[1m \u001b[0m┃\u001b[1m \u001b[0m\u001b[1m      Param #\u001b[0m\u001b[1m \u001b[0m┃\n",
       "┡━━━━━━━━━━━━━━━━━━━━━━━━━━━━━━━━━╇━━━━━━━━━━━━━━━━━━━━━━━━╇━━━━━━━━━━━━━━━┩\n",
       "│ input_layer_2 (\u001b[38;5;33mInputLayer\u001b[0m)      │ (\u001b[38;5;45mNone\u001b[0m, \u001b[38;5;34m5\u001b[0m)              │             \u001b[38;5;34m0\u001b[0m │\n",
       "├─────────────────────────────────┼────────────────────────┼───────────────┤\n",
       "│ dense_9 (\u001b[38;5;33mDense\u001b[0m)                 │ (\u001b[38;5;45mNone\u001b[0m, \u001b[38;5;34m64\u001b[0m)             │           \u001b[38;5;34m384\u001b[0m │\n",
       "├─────────────────────────────────┼────────────────────────┼───────────────┤\n",
       "│ dense_10 (\u001b[38;5;33mDense\u001b[0m)                │ (\u001b[38;5;45mNone\u001b[0m, \u001b[38;5;34m32\u001b[0m)             │         \u001b[38;5;34m2,080\u001b[0m │\n",
       "├─────────────────────────────────┼────────────────────────┼───────────────┤\n",
       "│ dense_11 (\u001b[38;5;33mDense\u001b[0m)                │ (\u001b[38;5;45mNone\u001b[0m, \u001b[38;5;34m5\u001b[0m)              │           \u001b[38;5;34m165\u001b[0m │\n",
       "└─────────────────────────────────┴────────────────────────┴───────────────┘\n"
      ]
     },
     "metadata": {},
     "output_type": "display_data"
    },
    {
     "data": {
      "text/html": [
       "<pre style=\"white-space:pre;overflow-x:auto;line-height:normal;font-family:Menlo,'DejaVu Sans Mono',consolas,'Courier New',monospace\"><span style=\"font-weight: bold\"> Total params: </span><span style=\"color: #00af00; text-decoration-color: #00af00\">2,629</span> (10.27 KB)\n",
       "</pre>\n"
      ],
      "text/plain": [
       "\u001b[1m Total params: \u001b[0m\u001b[38;5;34m2,629\u001b[0m (10.27 KB)\n"
      ]
     },
     "metadata": {},
     "output_type": "display_data"
    },
    {
     "data": {
      "text/html": [
       "<pre style=\"white-space:pre;overflow-x:auto;line-height:normal;font-family:Menlo,'DejaVu Sans Mono',consolas,'Courier New',monospace\"><span style=\"font-weight: bold\"> Trainable params: </span><span style=\"color: #00af00; text-decoration-color: #00af00\">2,629</span> (10.27 KB)\n",
       "</pre>\n"
      ],
      "text/plain": [
       "\u001b[1m Trainable params: \u001b[0m\u001b[38;5;34m2,629\u001b[0m (10.27 KB)\n"
      ]
     },
     "metadata": {},
     "output_type": "display_data"
    },
    {
     "data": {
      "text/html": [
       "<pre style=\"white-space:pre;overflow-x:auto;line-height:normal;font-family:Menlo,'DejaVu Sans Mono',consolas,'Courier New',monospace\"><span style=\"font-weight: bold\"> Non-trainable params: </span><span style=\"color: #00af00; text-decoration-color: #00af00\">0</span> (0.00 B)\n",
       "</pre>\n"
      ],
      "text/plain": [
       "\u001b[1m Non-trainable params: \u001b[0m\u001b[38;5;34m0\u001b[0m (0.00 B)\n"
      ]
     },
     "metadata": {},
     "output_type": "display_data"
    }
   ],
   "source": [
    "inputs = tf.keras.Input(shape=(X_train.shape[1],))  # Suppression de la dimension supplémentaire\n",
    "x = tf.keras.layers.Dense(32, activation='relu')(inputs)  # Plus de neurones dans la première couche cachée\n",
    "x = tf.keras.layers.Dense(64, activation='relu')(inputs) \n",
    "x = tf.keras.layers.Dense(32, activation='relu')(x)  # Ajout d'une deuxième couche cachée\n",
    "outputs = tf.keras.layers.Dense(Y_train.shape[1], activation='softmax')(x)  # Couche de sortie pour 5 classes\n",
    "my_mlp_model = tf.keras.Model(inputs=inputs, outputs=outputs, name=\"improved_mlp_model\")\n",
    "\n",
    "my_mlp_model.summary()\n",
    "my_mlp_model.compile(optimizer='adam', loss='categorical_crossentropy', metrics=['accuracy'])\n"
   ]
  },
  {
   "cell_type": "markdown",
   "metadata": {
    "id": "dIONoP2Jdg8Q"
   },
   "source": [
    "**QUESTION** Code below the algorithms allowing to train model\n",
    "\n",
    "**WARNING!** You need to plot the training and test accuracy and loss to check if our model is overfitting"
   ]
  },
  {
   "cell_type": "code",
   "execution_count": 33,
   "metadata": {
    "id": "jJ2bYxZydhW2"
   },
   "outputs": [
    {
     "name": "stdout",
     "output_type": "stream",
     "text": [
      "Epoch 1/20\n",
      "\u001b[1m250/250\u001b[0m \u001b[32m━━━━━━━━━━━━━━━━━━━━\u001b[0m\u001b[37m\u001b[0m \u001b[1m1s\u001b[0m 1ms/step - accuracy: 0.6848 - loss: 97.5473   \n",
      "Epoch 2/20\n",
      "\u001b[1m250/250\u001b[0m \u001b[32m━━━━━━━━━━━━━━━━━━━━\u001b[0m\u001b[37m\u001b[0m \u001b[1m0s\u001b[0m 981us/step - accuracy: 0.9573 - loss: 0.3808\n",
      "Epoch 3/20\n",
      "\u001b[1m250/250\u001b[0m \u001b[32m━━━━━━━━━━━━━━━━━━━━\u001b[0m\u001b[37m\u001b[0m \u001b[1m0s\u001b[0m 901us/step - accuracy: 0.9575 - loss: 0.3351\n",
      "Epoch 4/20\n",
      "\u001b[1m250/250\u001b[0m \u001b[32m━━━━━━━━━━━━━━━━━━━━\u001b[0m\u001b[37m\u001b[0m \u001b[1m0s\u001b[0m 848us/step - accuracy: 0.9569 - loss: 0.3072\n",
      "Epoch 5/20\n",
      "\u001b[1m250/250\u001b[0m \u001b[32m━━━━━━━━━━━━━━━━━━━━\u001b[0m\u001b[37m\u001b[0m \u001b[1m0s\u001b[0m 825us/step - accuracy: 0.9585 - loss: 0.3252\n",
      "Epoch 6/20\n",
      "\u001b[1m250/250\u001b[0m \u001b[32m━━━━━━━━━━━━━━━━━━━━\u001b[0m\u001b[37m\u001b[0m \u001b[1m0s\u001b[0m 851us/step - accuracy: 0.9573 - loss: 0.2991\n",
      "Epoch 7/20\n",
      "\u001b[1m250/250\u001b[0m \u001b[32m━━━━━━━━━━━━━━━━━━━━\u001b[0m\u001b[37m\u001b[0m \u001b[1m0s\u001b[0m 909us/step - accuracy: 0.9550 - loss: 0.4197\n",
      "Epoch 8/20\n",
      "\u001b[1m250/250\u001b[0m \u001b[32m━━━━━━━━━━━━━━━━━━━━\u001b[0m\u001b[37m\u001b[0m \u001b[1m0s\u001b[0m 899us/step - accuracy: 0.9560 - loss: 0.2383\n",
      "Epoch 9/20\n",
      "\u001b[1m250/250\u001b[0m \u001b[32m━━━━━━━━━━━━━━━━━━━━\u001b[0m\u001b[37m\u001b[0m \u001b[1m0s\u001b[0m 854us/step - accuracy: 0.9544 - loss: 0.3056\n",
      "Epoch 10/20\n",
      "\u001b[1m250/250\u001b[0m \u001b[32m━━━━━━━━━━━━━━━━━━━━\u001b[0m\u001b[37m\u001b[0m \u001b[1m0s\u001b[0m 1ms/step - accuracy: 0.9624 - loss: 0.2348\n",
      "Epoch 11/20\n",
      "\u001b[1m250/250\u001b[0m \u001b[32m━━━━━━━━━━━━━━━━━━━━\u001b[0m\u001b[37m\u001b[0m \u001b[1m0s\u001b[0m 908us/step - accuracy: 0.9473 - loss: 0.4579\n",
      "Epoch 12/20\n",
      "\u001b[1m250/250\u001b[0m \u001b[32m━━━━━━━━━━━━━━━━━━━━\u001b[0m\u001b[37m\u001b[0m \u001b[1m0s\u001b[0m 888us/step - accuracy: 0.9618 - loss: 0.2938\n",
      "Epoch 13/20\n",
      "\u001b[1m250/250\u001b[0m \u001b[32m━━━━━━━━━━━━━━━━━━━━\u001b[0m\u001b[37m\u001b[0m \u001b[1m0s\u001b[0m 932us/step - accuracy: 0.9532 - loss: 0.4931\n",
      "Epoch 14/20\n",
      "\u001b[1m250/250\u001b[0m \u001b[32m━━━━━━━━━━━━━━━━━━━━\u001b[0m\u001b[37m\u001b[0m \u001b[1m0s\u001b[0m 940us/step - accuracy: 0.9593 - loss: 0.2653\n",
      "Epoch 15/20\n",
      "\u001b[1m250/250\u001b[0m \u001b[32m━━━━━━━━━━━━━━━━━━━━\u001b[0m\u001b[37m\u001b[0m \u001b[1m0s\u001b[0m 1ms/step - accuracy: 0.9595 - loss: 0.2931\n",
      "Epoch 16/20\n",
      "\u001b[1m250/250\u001b[0m \u001b[32m━━━━━━━━━━━━━━━━━━━━\u001b[0m\u001b[37m\u001b[0m \u001b[1m0s\u001b[0m 1ms/step - accuracy: 0.9544 - loss: 0.3008\n",
      "Epoch 17/20\n",
      "\u001b[1m250/250\u001b[0m \u001b[32m━━━━━━━━━━━━━━━━━━━━\u001b[0m\u001b[37m\u001b[0m \u001b[1m0s\u001b[0m 1ms/step - accuracy: 0.9594 - loss: 0.2578\n",
      "Epoch 18/20\n",
      "\u001b[1m250/250\u001b[0m \u001b[32m━━━━━━━━━━━━━━━━━━━━\u001b[0m\u001b[37m\u001b[0m \u001b[1m0s\u001b[0m 1ms/step - accuracy: 0.9532 - loss: 0.3503\n",
      "Epoch 19/20\n",
      "\u001b[1m250/250\u001b[0m \u001b[32m━━━━━━━━━━━━━━━━━━━━\u001b[0m\u001b[37m\u001b[0m \u001b[1m0s\u001b[0m 1ms/step - accuracy: 0.9599 - loss: 0.2990\n",
      "Epoch 20/20\n",
      "\u001b[1m250/250\u001b[0m \u001b[32m━━━━━━━━━━━━━━━━━━━━\u001b[0m\u001b[37m\u001b[0m \u001b[1m0s\u001b[0m 1ms/step - accuracy: 0.9591 - loss: 0.2503\n",
      "\u001b[1m63/63\u001b[0m \u001b[32m━━━━━━━━━━━━━━━━━━━━\u001b[0m\u001b[37m\u001b[0m \u001b[1m0s\u001b[0m 1ms/step - accuracy: 0.9570 - loss: 0.1695  \n",
      "Test accuracy: 0.9585000276565552\n"
     ]
    }
   ],
   "source": [
    "nb_epochs=20\n",
    "batch_size=32\n",
    "\n",
    "training_history = my_mlp_model.fit(X_train,Y_train,\n",
    "                                    epochs=nb_epochs,\n",
    "                                    batch_size=batch_size)\n",
    "\n",
    "# Évaluation du modèle sur les données de test\n",
    "test_loss, test_acc = my_mlp_model.evaluate(X_test, Y_test)\n",
    "print(f\"Test accuracy: {test_acc}\")"
   ]
  },
  {
   "cell_type": "code",
   "execution_count": 34,
   "metadata": {},
   "outputs": [
    {
     "data": {
      "image/png": "[encoded data removed]",
      "text/plain": [
       "<Figure size 640x480 with 1 Axes>"
      ]
     },
     "metadata": {},
     "output_type": "display_data"
    },
    {
     "data": {
      "image/png": "[encoded data removed]",
      "text/plain": [
       "<Figure size 640x480 with 1 Axes>"
      ]
     },
     "metadata": {},
     "output_type": "display_data"
    },
    {
     "name": "stdout",
     "output_type": "stream",
     "text": [
      "Final Accuracy on test set: 0.9585000276565552\n"
     ]
    }
   ],
   "source": [
    "def display_training_curves(training_history):\n",
    "  # affichage loss\n",
    "  plt.plot(training_history.history['loss'],label='loss')\n",
    "  plt.xlabel(\"epoch\")\n",
    "  plt.legend(bbox_to_anchor=(1.05, 1), loc=2)\n",
    "  plt.show()\n",
    "  # affichage accuracy\n",
    "  plt.plot(training_history.history['accuracy'],label='acc')\n",
    "  plt.xlabel(\"epoch\")\n",
    "  plt.legend(bbox_to_anchor=(1.05, 1), loc=2)\n",
    "  plt.show()\n",
    "\n",
    "display_training_curves(training_history)\n",
    "\n",
    "print(\"Final Accuracy on test set:\", test_acc)\n"
   ]
  },
  {
   "cell_type": "markdown",
   "metadata": {
    "id": "yvmyHnqYpbf-"
   },
   "source": [
    "**QUESTION** Plot the confusion matrix and the classification report"
   ]
  },
  {
   "cell_type": "markdown",
   "metadata": {
    "id": "FUXSeJ1ZpsSP"
   },
   "source": [
    "**Tips:**\n",
    "\n",
    "*   classification report link\n",
    "\n",
    "> https://scikit-learn.org/stable/modules/generated/sklearn.metrics.classification_report.html\n",
    "\n",
    "*   Matrix confusion\n",
    "\n",
    "> https://scikit-learn.org/stable/modules/generated/sklearn.metrics.ConfusionMatrixDisplay.html\n",
    "\n",
    "\n",
    "\n"
   ]
  },
  {
   "cell_type": "code",
   "execution_count": 35,
   "metadata": {
    "id": "m4q5wvHNnAdu"
   },
   "outputs": [
    {
     "name": "stdout",
     "output_type": "stream",
     "text": [
      "\u001b[1m63/63\u001b[0m \u001b[32m━━━━━━━━━━━━━━━━━━━━\u001b[0m\u001b[37m\u001b[0m \u001b[1m0s\u001b[0m 1ms/step\n",
      "Classification report for classifier my_mlp_model:\n",
      "              precision    recall  f1-score   support\n",
      "\n",
      "  No Failure       0.99      0.98      0.98      1941\n",
      "         TWF       0.00      0.00      0.00        11\n",
      "         HDF       0.00      0.00      0.00        17\n",
      "         PWF       0.75      0.17      0.27        18\n",
      "         OSF       0.19      1.00      0.32        13\n",
      "\n",
      "   micro avg       0.96      0.96      0.96      2000\n",
      "   macro avg       0.38      0.43      0.31      2000\n",
      "weighted avg       0.97      0.96      0.96      2000\n",
      " samples avg       0.96      0.96      0.96      2000\n",
      "\n",
      "\n"
     ]
    },
    {
     "name": "stderr",
     "output_type": "stream",
     "text": [
      "C:\\Users\\mathi\\AppData\\Local\\Packages\\PythonSoftwareFoundation.Python.3.12_qbz5n2kfra8p0\\LocalCache\\local-packages\\Python312\\site-packages\\sklearn\\metrics\\_classification.py:1565: UndefinedMetricWarning: Precision is ill-defined and being set to 0.0 in labels with no predicted samples. Use `zero_division` parameter to control this behavior.\n",
      "  _warn_prf(average, modifier, f\"{metric.capitalize()} is\", len(result))\n"
     ]
    },
    {
     "data": {
      "text/plain": [
       "<sklearn.metrics._plot.confusion_matrix.ConfusionMatrixDisplay at 0x1eea6b3af00>"
      ]
     },
     "execution_count": 35,
     "metadata": {},
     "output_type": "execute_result"
    },
    {
     "data": {
      "image/png": "[encoded data removed]",
      "text/plain": [
       "<Figure size 640x480 with 2 Axes>"
      ]
     },
     "metadata": {},
     "output_type": "display_data"
    }
   ],
   "source": [
    "predictions = my_mlp_model.predict(X_test) \n",
    "predictions_bin = np.zeros_like(predictions) # initialisation avec des 0\n",
    "predictions_bin[np.arange(predictions.shape[0]), np.argmax(predictions, axis=1)] = 1 # 1 au niveau de la classe prédite\n",
    "\n",
    "\n",
    "Y_test_bin  = np.zeros_like(Y_test) # initialisation avec des 0\n",
    "Y_test_bin[np.arange(Y_test.shape[0]), np.argmax(Y_test, axis=1)] = 1 # 1 au niveau de la classe réelle\n",
    "\n",
    "class_names = [\"No Failure\", \"TWF\", \"HDF\", \"PWF\", \"OSF\"]\n",
    "\n",
    "# Affichage du rapport de classification\n",
    "print(\n",
    "    f\"Classification report for classifier my_mlp_model:\\n\"\n",
    "    f\"{classification_report(Y_test_bin, predictions_bin, target_names=class_names)}\\n\"\n",
    ")\n",
    "\n",
    "# Affichage de la matrice de confusion\n",
    "cm = confusion_matrix(Y_test_bin.argmax(axis=1), predictions_bin.argmax(axis=1))\n",
    "cm_display = ConfusionMatrixDisplay(confusion_matrix=cm)\n",
    "cm_display.plot()"
   ]
  },
  {
   "cell_type": "markdown",
   "metadata": {
    "id": "ImGsmryGkKhj"
   },
   "source": [
    "**ANALYSIS QUESTION** What do you observe? What can you conclude?"
   ]
  },
  {
   "cell_type": "markdown",
   "metadata": {
    "id": "y1f5OneQknZy"
   },
   "source": [
    "On voit bien sur la matrice de confusion que le modèle fait des bonnes prédictions pour la classe 0 mais pas pour les autres.\n",
    "En effet, la classe 0 correspond à \"No Failure\" et pour rappel, nous avions trouvé les résultats suivants dans la première partie de ce rapport : \n",
    "Nombre d'occurrences de chaque état :\n",
    "| Machine failure | Count |\n",
    "|----------------|-------|\n",
    "| 0              | 9661  |\n",
    "| 1              | 339   |\n",
    "\n",
    "\n",
    "On voit donc que dans le Dataset complet, 97% des données correspondent à une absence de défaut.\n",
    "\n",
    "Ainsi, lorsque le modèle apprend il catégorise en permancence dans la classe 0 ce qui fait que l'accuracy est de 97% comme on peut le voir sur les graphiques plus haut lors de l'apprentissage.\n",
    "\n",
    "Il est donc nécessaire de modifier le dataset pour que les données de la classe 0 soient en proportion similaires à celles des autres classes."
   ]
  },
  {
   "cell_type": "markdown",
   "metadata": {
    "id": "EYUyUAN5ji0x"
   },
   "source": [
    "## **3- Train model With balancing the dataset**\n",
    "\n",
    "---"
   ]
  },
  {
   "cell_type": "markdown",
   "metadata": {
    "id": "EQWut50JhKdD"
   },
   "source": [
    " Methods for rebalancing a dataset:\n",
    "\n",
    "\n",
    "*   Use oversampling techniques (e.g., SMOTE) to generate synthetic data for minority classes\n",
    "\n",
    "\n",
    "> https://imbalanced-learn.org/stable/references/generated/imblearn.over_sampling.SMOTE.html\n",
    "\n",
    "\n",
    "\n",
    "*   Apply undersampling techniques (e.g., random undersampling, Tomek Links, Edited Nearest Neighbors) to reduce the majority class size\n",
    "\n",
    "\n",
    "\n",
    "> https://imbalanced-learn.org/stable/references/generated/imblearn.under_sampling.RandomUnderSampler.html\n",
    "\n",
    "\n",
    "\n",
    "*   Use class weighting during model training to penalize errors on minority classes\n",
    "\n",
    "\n",
    "\n",
    "> https://www.tensorflow.org/tutorials/structured_data/imbalanced_data?hl=fr\n"
   ]
  },
  {
   "cell_type": "markdown",
   "metadata": {
    "id": "--pWJzaUnXdY"
   },
   "source": [
    "**QUESTION:** Create X_train, Y_train, X_test, and Y_test. How many elements are present in X_train, Y_train, X_test, and Y_test? (Print the values)"
   ]
  },
  {
   "cell_type": "code",
   "execution_count": 41,
   "metadata": {},
   "outputs": [
    {
     "name": "stdout",
     "output_type": "stream",
     "text": [
      "Original dataset shape:\n",
      " Counter({np.int64(0): 9670, np.int64(2): 115, np.int64(3): 91, np.int64(4): 78, np.int64(1): 46})\n",
      "Resampled dataset shape with SMOTE: \n",
      " Counter({np.int64(0): 9670, np.int64(3): 9670, np.int64(1): 9670, np.int64(4): 9670, np.int64(2): 9670})\n",
      "Resampled dataset shape after RandomUnderSampler: \n",
      " Counter({np.int64(0): 9670, np.int64(1): 9670, np.int64(2): 9670, np.int64(3): 9670, np.int64(4): 9670})\n",
      "Nombre d'éléments dans X_train : (38680, 5)\n",
      "Nombre d'éléments dans Y_train : (38680, 5)\n",
      "Nombre d'éléments dans X_test : (9670, 5)\n",
      "Nombre d'éléments dans Y_test : (9670, 5)\n"
     ]
    }
   ],
   "source": [
    "# Convertir les étiquettes multilabel en une seule étiquette par échantillon pour utiliser SMOTE\n",
    "Y_single_label = np.array([np.argmax(row) for row in Y]) # On prend la classe la plus probable\n",
    "\n",
    "# Afficher la distribution originale des classes\n",
    "print('Original dataset shape:\\n', Counter(Y_single_label))\n",
    "\n",
    "# Appliquer SMOTE pour équilibrer les classes\n",
    "sm = SMOTE(random_state=42)\n",
    "X_res, Y_res = sm.fit_resample(X_scaled, Y_single_label)\n",
    "\n",
    "# Afficher la distribution des classes après rééchantillonnage\n",
    "print('Resampled dataset shape with SMOTE: \\n', Counter(Y_res))\n",
    "\n",
    "# A commenter si on veut appliquer uniquement SMOTE\n",
    "# Appliquer RandomUnderSampler pour équilibrer les classes avec un trie aléatoire avec sampling_strategy='auto'\n",
    "rus = RandomUnderSampler(sampling_strategy='auto', random_state=42)\n",
    "X_res, Y_res_single_label = rus.fit_resample(X_res, Y_res)\n",
    "\n",
    "# Afficher la distribution des classes après rééchantillonnage\n",
    "print('Resampled dataset shape after RandomUnderSampler: \\n', Counter(Y_res_single_label))\n",
    "\n",
    "Y_res_multilabel = np.zeros((Y_res_single_label.size, Y.shape[1])) \n",
    "Y_res_multilabel[np.arange(Y_res_single_label.size), Y_res_single_label] = 1 \n",
    "\n",
    "# Diviser les données rééchantillonnées en ensembles d'entraînement et de test\n",
    "X_train_SMOTE, X_test_SMOTE, Y_train_SMOTE, Y_test_SMOTE = train_test_split(X_res, Y_res_multilabel, test_size=0.2, random_state=42)\n",
    "\n",
    "# Afficher le nombre d'éléments dans chaque ensemble\n",
    "print(f\"Nombre d'éléments dans X_train : {X_train_SMOTE.shape}\")\n",
    "print(f\"Nombre d'éléments dans Y_train : {Y_train_SMOTE.shape}\")\n",
    "print(f\"Nombre d'éléments dans X_test : {X_test_SMOTE.shape}\")\n",
    "print(f\"Nombre d'éléments dans Y_test : {Y_test_SMOTE.shape}\")"
   ]
  },
  {
   "cell_type": "markdown",
   "metadata": {
    "id": "-YcZXIadnbcm"
   },
   "source": [
    "**ANALYSIS QUESTION:** Explain the choices you made to balance the dataset."
   ]
  },
  {
   "cell_type": "markdown",
   "metadata": {
    "id": "Rku3pnWxnxhI"
   },
   "source": [
    "Le test de la méthode RandomUnderSampling seule donnait une accuracy correcte, mais pas assez convaincante. Cela peut s'expliquer par le fait sue nous supprimons une quantité immense de données, et nous nous retrouvons avec un dataset très appauvrit.\n",
    "\n",
    "Nous avons ensuite testé la méthode SMOTE seule, qui va permettre de générer des échantillons pour les classes en minorité. Ainsi, on enrichira notre dataset au lieu de l'appauvrir comme la technique précédente. Nous avons obtenu des résultats très encourageants avec cette méthode (plus de 90% d'accuracy) ce qui nous a poussé à poursuivre dans cette voie.\n",
    "\n",
    "On garde le RandomUnderSampling pour trier aléatoirement les données, après le SMOTE. En effet, nous avons observvé que cette étape améliorait légèrement notre accuracy."
   ]
  },
  {
   "cell_type": "markdown",
   "metadata": {
    "id": "BVryPCQFn4Dd"
   },
   "source": [
    "**QUESTION:** Code below the model architecture\n"
   ]
  },
  {
   "cell_type": "markdown",
   "metadata": {
    "id": "Q5BGfI7TpVDD"
   },
   "source": [
    "**TIP:** It could be interesting to keep it the same as before"
   ]
  },
  {
   "cell_type": "code",
   "execution_count": 42,
   "metadata": {
    "id": "S0UbMHN6OC51"
   },
   "outputs": [
    {
     "data": {
      "text/html": [
       "<pre style=\"white-space:pre;overflow-x:auto;line-height:normal;font-family:Menlo,'DejaVu Sans Mono',consolas,'Courier New',monospace\"><span style=\"font-weight: bold\">Model: \"improved_mlp_model\"</span>\n",
       "</pre>\n"
      ],
      "text/plain": [
       "\u001b[1mModel: \"improved_mlp_model\"\u001b[0m\n"
      ]
     },
     "metadata": {},
     "output_type": "display_data"
    },
    {
     "data": {
      "text/html": [
       "<pre style=\"white-space:pre;overflow-x:auto;line-height:normal;font-family:Menlo,'DejaVu Sans Mono',consolas,'Courier New',monospace\">┏━━━━━━━━━━━━━━━━━━━━━━━━━━━━━━━━━┳━━━━━━━━━━━━━━━━━━━━━━━━┳━━━━━━━━━━━━━━━┓\n",
       "┃<span style=\"font-weight: bold\"> Layer (type)                    </span>┃<span style=\"font-weight: bold\"> Output Shape           </span>┃<span style=\"font-weight: bold\">       Param # </span>┃\n",
       "┡━━━━━━━━━━━━━━━━━━━━━━━━━━━━━━━━━╇━━━━━━━━━━━━━━━━━━━━━━━━╇━━━━━━━━━━━━━━━┩\n",
       "│ input_layer_4 (<span style=\"color: #0087ff; text-decoration-color: #0087ff\">InputLayer</span>)      │ (<span style=\"color: #00d7ff; text-decoration-color: #00d7ff\">None</span>, <span style=\"color: #00af00; text-decoration-color: #00af00\">5</span>)              │             <span style=\"color: #00af00; text-decoration-color: #00af00\">0</span> │\n",
       "├─────────────────────────────────┼────────────────────────┼───────────────┤\n",
       "│ dense_17 (<span style=\"color: #0087ff; text-decoration-color: #0087ff\">Dense</span>)                │ (<span style=\"color: #00d7ff; text-decoration-color: #00d7ff\">None</span>, <span style=\"color: #00af00; text-decoration-color: #00af00\">64</span>)             │           <span style=\"color: #00af00; text-decoration-color: #00af00\">384</span> │\n",
       "├─────────────────────────────────┼────────────────────────┼───────────────┤\n",
       "│ dense_18 (<span style=\"color: #0087ff; text-decoration-color: #0087ff\">Dense</span>)                │ (<span style=\"color: #00d7ff; text-decoration-color: #00d7ff\">None</span>, <span style=\"color: #00af00; text-decoration-color: #00af00\">32</span>)             │         <span style=\"color: #00af00; text-decoration-color: #00af00\">2,080</span> │\n",
       "├─────────────────────────────────┼────────────────────────┼───────────────┤\n",
       "│ dense_19 (<span style=\"color: #0087ff; text-decoration-color: #0087ff\">Dense</span>)                │ (<span style=\"color: #00d7ff; text-decoration-color: #00d7ff\">None</span>, <span style=\"color: #00af00; text-decoration-color: #00af00\">5</span>)              │           <span style=\"color: #00af00; text-decoration-color: #00af00\">165</span> │\n",
       "└─────────────────────────────────┴────────────────────────┴───────────────┘\n",
       "</pre>\n"
      ],
      "text/plain": [
       "┏━━━━━━━━━━━━━━━━━━━━━━━━━━━━━━━━━┳━━━━━━━━━━━━━━━━━━━━━━━━┳━━━━━━━━━━━━━━━┓\n",
       "┃\u001b[1m \u001b[0m\u001b[1mLayer (type)                   \u001b[0m\u001b[1m \u001b[0m┃\u001b[1m \u001b[0m\u001b[1mOutput Shape          \u001b[0m\u001b[1m \u001b[0m┃\u001b[1m \u001b[0m\u001b[1m      Param #\u001b[0m\u001b[1m \u001b[0m┃\n",
       "┡━━━━━━━━━━━━━━━━━━━━━━━━━━━━━━━━━╇━━━━━━━━━━━━━━━━━━━━━━━━╇━━━━━━━━━━━━━━━┩\n",
       "│ input_layer_4 (\u001b[38;5;33mInputLayer\u001b[0m)      │ (\u001b[38;5;45mNone\u001b[0m, \u001b[38;5;34m5\u001b[0m)              │             \u001b[38;5;34m0\u001b[0m │\n",
       "├─────────────────────────────────┼────────────────────────┼───────────────┤\n",
       "│ dense_17 (\u001b[38;5;33mDense\u001b[0m)                │ (\u001b[38;5;45mNone\u001b[0m, \u001b[38;5;34m64\u001b[0m)             │           \u001b[38;5;34m384\u001b[0m │\n",
       "├─────────────────────────────────┼────────────────────────┼───────────────┤\n",
       "│ dense_18 (\u001b[38;5;33mDense\u001b[0m)                │ (\u001b[38;5;45mNone\u001b[0m, \u001b[38;5;34m32\u001b[0m)             │         \u001b[38;5;34m2,080\u001b[0m │\n",
       "├─────────────────────────────────┼────────────────────────┼───────────────┤\n",
       "│ dense_19 (\u001b[38;5;33mDense\u001b[0m)                │ (\u001b[38;5;45mNone\u001b[0m, \u001b[38;5;34m5\u001b[0m)              │           \u001b[38;5;34m165\u001b[0m │\n",
       "└─────────────────────────────────┴────────────────────────┴───────────────┘\n"
      ]
     },
     "metadata": {},
     "output_type": "display_data"
    },
    {
     "data": {
      "text/html": [
       "<pre style=\"white-space:pre;overflow-x:auto;line-height:normal;font-family:Menlo,'DejaVu Sans Mono',consolas,'Courier New',monospace\"><span style=\"font-weight: bold\"> Total params: </span><span style=\"color: #00af00; text-decoration-color: #00af00\">2,629</span> (10.27 KB)\n",
       "</pre>\n"
      ],
      "text/plain": [
       "\u001b[1m Total params: \u001b[0m\u001b[38;5;34m2,629\u001b[0m (10.27 KB)\n"
      ]
     },
     "metadata": {},
     "output_type": "display_data"
    },
    {
     "data": {
      "text/html": [
       "<pre style=\"white-space:pre;overflow-x:auto;line-height:normal;font-family:Menlo,'DejaVu Sans Mono',consolas,'Courier New',monospace\"><span style=\"font-weight: bold\"> Trainable params: </span><span style=\"color: #00af00; text-decoration-color: #00af00\">2,629</span> (10.27 KB)\n",
       "</pre>\n"
      ],
      "text/plain": [
       "\u001b[1m Trainable params: \u001b[0m\u001b[38;5;34m2,629\u001b[0m (10.27 KB)\n"
      ]
     },
     "metadata": {},
     "output_type": "display_data"
    },
    {
     "data": {
      "text/html": [
       "<pre style=\"white-space:pre;overflow-x:auto;line-height:normal;font-family:Menlo,'DejaVu Sans Mono',consolas,'Courier New',monospace\"><span style=\"font-weight: bold\"> Non-trainable params: </span><span style=\"color: #00af00; text-decoration-color: #00af00\">0</span> (0.00 B)\n",
       "</pre>\n"
      ],
      "text/plain": [
       "\u001b[1m Non-trainable params: \u001b[0m\u001b[38;5;34m0\u001b[0m (0.00 B)\n"
      ]
     },
     "metadata": {},
     "output_type": "display_data"
    }
   ],
   "source": [
    "# Utilisation du modèle de la partie 2, pour comparer\n",
    "inputs = tf.keras.Input(shape=(X_train_SMOTE.shape[1],))  # Première couche de la taille des données d'entrée (5)\n",
    "x = tf.keras.layers.Dense(32, activation='relu')(inputs)  # 3 couches cachées\n",
    "x = tf.keras.layers.Dense(64, activation='relu')(inputs) \n",
    "x = tf.keras.layers.Dense(32, activation='relu')(x) \n",
    "outputs = tf.keras.layers.Dense(Y_train_SMOTE.shape[1], activation='softmax')(x)  # Couche de sortie pour 5 classes\n",
    "improved_mlp_model = tf.keras.Model(inputs=inputs, outputs=outputs, name=\"improved_mlp_model\")\n",
    "\n",
    "improved_mlp_model.summary()\n",
    "\n",
    "# Compilation du modèle\n",
    "improved_mlp_model.compile(optimizer='adam', loss='categorical_crossentropy', metrics=['accuracy'])\n"
   ]
  },
  {
   "cell_type": "markdown",
   "metadata": {
    "id": "wBZyS7DdofFq"
   },
   "source": [
    "**QUESTION** Code below the algorithms allowing to train model\n"
   ]
  },
  {
   "cell_type": "code",
   "execution_count": 43,
   "metadata": {
    "id": "my6Ck5JbMDOG"
   },
   "outputs": [
    {
     "name": "stdout",
     "output_type": "stream",
     "text": [
      "Epoch 1/40\n",
      "\u001b[1m1209/1209\u001b[0m \u001b[32m━━━━━━━━━━━━━━━━━━━━\u001b[0m\u001b[37m\u001b[0m \u001b[1m2s\u001b[0m 1ms/step - accuracy: 0.5486 - loss: 9.7232\n",
      "Epoch 2/40\n",
      "\u001b[1m1209/1209\u001b[0m \u001b[32m━━━━━━━━━━━━━━━━━━━━\u001b[0m\u001b[37m\u001b[0m \u001b[1m1s\u001b[0m 1ms/step - accuracy: 0.7549 - loss: 0.8527\n",
      "Epoch 3/40\n",
      "\u001b[1m1209/1209\u001b[0m \u001b[32m━━━━━━━━━━━━━━━━━━━━\u001b[0m\u001b[37m\u001b[0m \u001b[1m2s\u001b[0m 1ms/step - accuracy: 0.7860 - loss: 0.7960\n",
      "Epoch 4/40\n",
      "\u001b[1m1209/1209\u001b[0m \u001b[32m━━━━━━━━━━━━━━━━━━━━\u001b[0m\u001b[37m\u001b[0m \u001b[1m1s\u001b[0m 1ms/step - accuracy: 0.8112 - loss: 0.6544\n",
      "Epoch 5/40\n",
      "\u001b[1m1209/1209\u001b[0m \u001b[32m━━━━━━━━━━━━━━━━━━━━\u001b[0m\u001b[37m\u001b[0m \u001b[1m1s\u001b[0m 1ms/step - accuracy: 0.8018 - loss: 0.7314\n",
      "Epoch 6/40\n",
      "\u001b[1m1209/1209\u001b[0m \u001b[32m━━━━━━━━━━━━━━━━━━━━\u001b[0m\u001b[37m\u001b[0m \u001b[1m1s\u001b[0m 1ms/step - accuracy: 0.8286 - loss: 0.5904\n",
      "Epoch 7/40\n",
      "\u001b[1m1209/1209\u001b[0m \u001b[32m━━━━━━━━━━━━━━━━━━━━\u001b[0m\u001b[37m\u001b[0m \u001b[1m1s\u001b[0m 1ms/step - accuracy: 0.8301 - loss: 0.5750\n",
      "Epoch 8/40\n",
      "\u001b[1m1209/1209\u001b[0m \u001b[32m━━━━━━━━━━━━━━━━━━━━\u001b[0m\u001b[37m\u001b[0m \u001b[1m1s\u001b[0m 1ms/step - accuracy: 0.8505 - loss: 0.4999\n",
      "Epoch 9/40\n",
      "\u001b[1m1209/1209\u001b[0m \u001b[32m━━━━━━━━━━━━━━━━━━━━\u001b[0m\u001b[37m\u001b[0m \u001b[1m2s\u001b[0m 1ms/step - accuracy: 0.8530 - loss: 0.4719\n",
      "Epoch 10/40\n",
      "\u001b[1m1209/1209\u001b[0m \u001b[32m━━━━━━━━━━━━━━━━━━━━\u001b[0m\u001b[37m\u001b[0m \u001b[1m1s\u001b[0m 1ms/step - accuracy: 0.8479 - loss: 0.4836\n",
      "Epoch 11/40\n",
      "\u001b[1m1209/1209\u001b[0m \u001b[32m━━━━━━━━━━━━━━━━━━━━\u001b[0m\u001b[37m\u001b[0m \u001b[1m1s\u001b[0m 1ms/step - accuracy: 0.8647 - loss: 0.4238\n",
      "Epoch 12/40\n",
      "\u001b[1m1209/1209\u001b[0m \u001b[32m━━━━━━━━━━━━━━━━━━━━\u001b[0m\u001b[37m\u001b[0m \u001b[1m1s\u001b[0m 1ms/step - accuracy: 0.8809 - loss: 0.3824\n",
      "Epoch 13/40\n",
      "\u001b[1m1209/1209\u001b[0m \u001b[32m━━━━━━━━━━━━━━━━━━━━\u001b[0m\u001b[37m\u001b[0m \u001b[1m1s\u001b[0m 1ms/step - accuracy: 0.8739 - loss: 0.3960\n",
      "Epoch 14/40\n",
      "\u001b[1m1209/1209\u001b[0m \u001b[32m━━━━━━━━━━━━━━━━━━━━\u001b[0m\u001b[37m\u001b[0m \u001b[1m1s\u001b[0m 1ms/step - accuracy: 0.8882 - loss: 0.3527\n",
      "Epoch 15/40\n",
      "\u001b[1m1209/1209\u001b[0m \u001b[32m━━━━━━━━━━━━━━━━━━━━\u001b[0m\u001b[37m\u001b[0m \u001b[1m1s\u001b[0m 1ms/step - accuracy: 0.8971 - loss: 0.3207\n",
      "Epoch 16/40\n",
      "\u001b[1m1209/1209\u001b[0m \u001b[32m━━━━━━━━━━━━━━━━━━━━\u001b[0m\u001b[37m\u001b[0m \u001b[1m1s\u001b[0m 1ms/step - accuracy: 0.9042 - loss: 0.3018\n",
      "Epoch 17/40\n",
      "\u001b[1m1209/1209\u001b[0m \u001b[32m━━━━━━━━━━━━━━━━━━━━\u001b[0m\u001b[37m\u001b[0m \u001b[1m1s\u001b[0m 1ms/step - accuracy: 0.9045 - loss: 0.2945\n",
      "Epoch 18/40\n",
      "\u001b[1m1209/1209\u001b[0m \u001b[32m━━━━━━━━━━━━━━━━━━━━\u001b[0m\u001b[37m\u001b[0m \u001b[1m2s\u001b[0m 938us/step - accuracy: 0.9018 - loss: 0.3029\n",
      "Epoch 19/40\n",
      "\u001b[1m1209/1209\u001b[0m \u001b[32m━━━━━━━━━━━━━━━━━━━━\u001b[0m\u001b[37m\u001b[0m \u001b[1m1s\u001b[0m 1ms/step - accuracy: 0.9115 - loss: 0.2715\n",
      "Epoch 20/40\n",
      "\u001b[1m1209/1209\u001b[0m \u001b[32m━━━━━━━━━━━━━━━━━━━━\u001b[0m\u001b[37m\u001b[0m \u001b[1m1s\u001b[0m 1ms/step - accuracy: 0.9161 - loss: 0.2619\n",
      "Epoch 21/40\n",
      "\u001b[1m1209/1209\u001b[0m \u001b[32m━━━━━━━━━━━━━━━━━━━━\u001b[0m\u001b[37m\u001b[0m \u001b[1m1s\u001b[0m 1ms/step - accuracy: 0.9126 - loss: 0.2619\n",
      "Epoch 22/40\n",
      "\u001b[1m1209/1209\u001b[0m \u001b[32m━━━━━━━━━━━━━━━━━━━━\u001b[0m\u001b[37m\u001b[0m \u001b[1m1s\u001b[0m 1ms/step - accuracy: 0.9181 - loss: 0.2480\n",
      "Epoch 23/40\n",
      "\u001b[1m1209/1209\u001b[0m \u001b[32m━━━━━━━━━━━━━━━━━━━━\u001b[0m\u001b[37m\u001b[0m \u001b[1m1s\u001b[0m 1ms/step - accuracy: 0.9163 - loss: 0.2585\n",
      "Epoch 24/40\n",
      "\u001b[1m1209/1209\u001b[0m \u001b[32m━━━━━━━━━━━━━━━━━━━━\u001b[0m\u001b[37m\u001b[0m \u001b[1m1s\u001b[0m 1ms/step - accuracy: 0.9162 - loss: 0.2543\n",
      "Epoch 25/40\n",
      "\u001b[1m1209/1209\u001b[0m \u001b[32m━━━━━━━━━━━━━━━━━━━━\u001b[0m\u001b[37m\u001b[0m \u001b[1m1s\u001b[0m 1ms/step - accuracy: 0.9192 - loss: 0.2435\n",
      "Epoch 26/40\n",
      "\u001b[1m1209/1209\u001b[0m \u001b[32m━━━━━━━━━━━━━━━━━━━━\u001b[0m\u001b[37m\u001b[0m \u001b[1m1s\u001b[0m 1ms/step - accuracy: 0.9263 - loss: 0.2301\n",
      "Epoch 27/40\n",
      "\u001b[1m1209/1209\u001b[0m \u001b[32m━━━━━━━━━━━━━━━━━━━━\u001b[0m\u001b[37m\u001b[0m \u001b[1m1s\u001b[0m 1ms/step - accuracy: 0.9197 - loss: 0.2425\n",
      "Epoch 28/40\n",
      "\u001b[1m1209/1209\u001b[0m \u001b[32m━━━━━━━━━━━━━━━━━━━━\u001b[0m\u001b[37m\u001b[0m \u001b[1m1s\u001b[0m 1ms/step - accuracy: 0.9218 - loss: 0.2378\n",
      "Epoch 29/40\n",
      "\u001b[1m1209/1209\u001b[0m \u001b[32m━━━━━━━━━━━━━━━━━━━━\u001b[0m\u001b[37m\u001b[0m \u001b[1m2s\u001b[0m 1ms/step - accuracy: 0.9226 - loss: 0.2332\n",
      "Epoch 30/40\n",
      "\u001b[1m1209/1209\u001b[0m \u001b[32m━━━━━━━━━━━━━━━━━━━━\u001b[0m\u001b[37m\u001b[0m \u001b[1m2s\u001b[0m 1ms/step - accuracy: 0.9236 - loss: 0.2336\n",
      "Epoch 31/40\n",
      "\u001b[1m1209/1209\u001b[0m \u001b[32m━━━━━━━━━━━━━━━━━━━━\u001b[0m\u001b[37m\u001b[0m \u001b[1m1s\u001b[0m 1ms/step - accuracy: 0.9279 - loss: 0.2229\n",
      "Epoch 32/40\n",
      "\u001b[1m1209/1209\u001b[0m \u001b[32m━━━━━━━━━━━━━━━━━━━━\u001b[0m\u001b[37m\u001b[0m \u001b[1m2s\u001b[0m 1ms/step - accuracy: 0.9201 - loss: 0.2419\n",
      "Epoch 33/40\n",
      "\u001b[1m1209/1209\u001b[0m \u001b[32m━━━━━━━━━━━━━━━━━━━━\u001b[0m\u001b[37m\u001b[0m \u001b[1m2s\u001b[0m 1ms/step - accuracy: 0.9262 - loss: 0.2230\n",
      "Epoch 34/40\n",
      "\u001b[1m1209/1209\u001b[0m \u001b[32m━━━━━━━━━━━━━━━━━━━━\u001b[0m\u001b[37m\u001b[0m \u001b[1m2s\u001b[0m 1ms/step - accuracy: 0.9262 - loss: 0.2263\n",
      "Epoch 35/40\n",
      "\u001b[1m1209/1209\u001b[0m \u001b[32m━━━━━━━━━━━━━━━━━━━━\u001b[0m\u001b[37m\u001b[0m \u001b[1m2s\u001b[0m 1ms/step - accuracy: 0.9270 - loss: 0.2256\n",
      "Epoch 36/40\n",
      "\u001b[1m1209/1209\u001b[0m \u001b[32m━━━━━━━━━━━━━━━━━━━━\u001b[0m\u001b[37m\u001b[0m \u001b[1m1s\u001b[0m 1ms/step - accuracy: 0.9258 - loss: 0.2234\n",
      "Epoch 37/40\n",
      "\u001b[1m1209/1209\u001b[0m \u001b[32m━━━━━━━━━━━━━━━━━━━━\u001b[0m\u001b[37m\u001b[0m \u001b[1m1s\u001b[0m 1ms/step - accuracy: 0.9255 - loss: 0.2263\n",
      "Epoch 38/40\n",
      "\u001b[1m1209/1209\u001b[0m \u001b[32m━━━━━━━━━━━━━━━━━━━━\u001b[0m\u001b[37m\u001b[0m \u001b[1m1s\u001b[0m 1ms/step - accuracy: 0.9254 - loss: 0.2273\n",
      "Epoch 39/40\n",
      "\u001b[1m1209/1209\u001b[0m \u001b[32m━━━━━━━━━━━━━━━━━━━━\u001b[0m\u001b[37m\u001b[0m \u001b[1m1s\u001b[0m 1ms/step - accuracy: 0.9258 - loss: 0.2277\n",
      "Epoch 40/40\n",
      "\u001b[1m1209/1209\u001b[0m \u001b[32m━━━━━━━━━━━━━━━━━━━━\u001b[0m\u001b[37m\u001b[0m \u001b[1m2s\u001b[0m 1ms/step - accuracy: 0.9278 - loss: 0.2197\n",
      "\u001b[1m303/303\u001b[0m \u001b[32m━━━━━━━━━━━━━━━━━━━━\u001b[0m\u001b[37m\u001b[0m \u001b[1m0s\u001b[0m 937us/step - accuracy: 0.9477 - loss: 0.1851\n",
      "Test accuracy: 0.946949303150177\n"
     ]
    },
    {
     "data": {
      "image/png": "[encoded data removed]",
      "text/plain": [
       "<Figure size 640x480 with 1 Axes>"
      ]
     },
     "metadata": {},
     "output_type": "display_data"
    },
    {
     "data": {
      "image/png": "[encoded data removed]",
      "text/plain": [
       "<Figure size 640x480 with 1 Axes>"
      ]
     },
     "metadata": {},
     "output_type": "display_data"
    },
    {
     "name": "stdout",
     "output_type": "stream",
     "text": [
      "Final Accuracy on test set: 0.946949303150177\n"
     ]
    }
   ],
   "source": [
    "nb_epochs=40\n",
    "batch_size=32\n",
    "\n",
    "training_history = improved_mlp_model.fit(X_train_SMOTE,Y_train_SMOTE,\n",
    "                                    epochs=nb_epochs,\n",
    "                                    batch_size=batch_size)\n",
    "\n",
    "# Évaluation du modèle sur les données de test\n",
    "test_loss, test_acc = improved_mlp_model.evaluate(X_test_SMOTE, Y_test_SMOTE)\n",
    "print(f\"Test accuracy: {test_acc}\")\n",
    "\n",
    "display_training_curves(training_history)\n",
    "print(\"Final Accuracy on test set:\", test_acc)"
   ]
  },
  {
   "cell_type": "markdown",
   "metadata": {
    "id": "77ftkfv5oqp0"
   },
   "source": [
    "**QUESTION** Plot the confusion matrix and the classification report"
   ]
  },
  {
   "cell_type": "code",
   "execution_count": 44,
   "metadata": {
    "id": "kRmkOI_co5d9"
   },
   "outputs": [
    {
     "name": "stdout",
     "output_type": "stream",
     "text": [
      "\u001b[1m303/303\u001b[0m \u001b[32m━━━━━━━━━━━━━━━━━━━━\u001b[0m\u001b[37m\u001b[0m \u001b[1m0s\u001b[0m 826us/step\n",
      "Classification report for classifier improved_mlp_model:\n",
      "              precision    recall  f1-score   support\n",
      "\n",
      "  No Failure       0.99      0.84      0.91      1967\n",
      "         TWF       0.94      0.93      0.93      1845\n",
      "         HDF       0.90      0.97      0.93      1965\n",
      "         PWF       0.98      1.00      0.99      1959\n",
      "         OSF       0.93      0.99      0.96      1934\n",
      "\n",
      "   micro avg       0.95      0.95      0.95      9670\n",
      "   macro avg       0.95      0.95      0.95      9670\n",
      "weighted avg       0.95      0.95      0.95      9670\n",
      " samples avg       0.95      0.95      0.95      9670\n",
      "\n",
      "\n"
     ]
    },
    {
     "data": {
      "text/plain": [
       "<sklearn.metrics._plot.confusion_matrix.ConfusionMatrixDisplay at 0x1eeab5b3b00>"
      ]
     },
     "execution_count": 44,
     "metadata": {},
     "output_type": "execute_result"
    },
    {
     "data": {
      "image/png": "[encoded data removed]",
      "text/plain": [
       "<Figure size 640x480 with 2 Axes>"
      ]
     },
     "metadata": {},
     "output_type": "display_data"
    }
   ],
   "source": [
    "predictions = improved_mlp_model.predict(X_test_SMOTE) \n",
    "predictions_bin = np.zeros_like(predictions) \n",
    "predictions_bin[np.arange(predictions.shape[0]), np.argmax(predictions, axis=1)] = 1 # 1 au niveau de la classe prédite\n",
    "\n",
    "Y_test_bin  = np.zeros_like(Y_test_SMOTE)\n",
    "Y_test_bin[np.arange(Y_test_SMOTE.shape[0]), np.argmax(Y_test_SMOTE, axis=1)] = 1 # 1 au niveau de la classe réelle\n",
    "\n",
    "# Affichage du rapport de classification\n",
    "print(\n",
    "    f\"Classification report for classifier improved_mlp_model:\\n\"\n",
    "    f\"{classification_report(Y_test_bin, predictions_bin, target_names=class_names)}\\n\"\n",
    ")\n",
    "\n",
    "# Affichage de la matrice de confusion\n",
    "cm = confusion_matrix(Y_test_bin.argmax(axis=1), predictions_bin.argmax(axis=1))\n",
    "cm_display = ConfusionMatrixDisplay(confusion_matrix=cm)\n",
    "cm_display.plot()"
   ]
  },
  {
   "cell_type": "markdown",
   "metadata": {},
   "source": [
    "On trace maintenant la matrice avec les données réelles préalablement équilibrées (sans le SMOTE)."
   ]
  },
  {
   "cell_type": "code",
   "execution_count": 45,
   "metadata": {},
   "outputs": [
    {
     "name": "stdout",
     "output_type": "stream",
     "text": [
      "\u001b[1m8/8\u001b[0m \u001b[32m━━━━━━━━━━━━━━━━━━━━\u001b[0m\u001b[37m\u001b[0m \u001b[1m0s\u001b[0m 3ms/step \n",
      "Classification report for classifier improved_mlp_model:\n",
      "              precision    recall  f1-score   support\n",
      "\n",
      "  No Failure       0.97      0.85      0.91        46\n",
      "         TWF       1.00      0.91      0.95        46\n",
      "         HDF       0.82      1.00      0.90        46\n",
      "         PWF       0.98      1.00      0.99        46\n",
      "         OSF       0.98      0.96      0.97        46\n",
      "\n",
      "    accuracy                           0.94       230\n",
      "   macro avg       0.95      0.94      0.94       230\n",
      "weighted avg       0.95      0.94      0.94       230\n",
      "\n",
      "\n",
      "Confusion matrix after resampling:\n"
     ]
    },
    {
     "data": {
      "text/plain": [
       "<sklearn.metrics._plot.confusion_matrix.ConfusionMatrixDisplay at 0x1eeb35bc080>"
      ]
     },
     "execution_count": 45,
     "metadata": {},
     "output_type": "execute_result"
    },
    {
     "data": {
      "image/png": "[encoded data removed]",
      "text/plain": [
       "<Figure size 640x480 with 2 Axes>"
      ]
     },
     "metadata": {},
     "output_type": "display_data"
    }
   ],
   "source": [
    "# Feature extraction\n",
    "X = dataset[[\"Air temperature [K]\", \"Process temperature [K]\", \"Rotational speed [rpm]\", \"Torque [Nm]\", \"Tool wear [min]\"]].to_numpy()\n",
    "Y = dataset[[\"No Failure\", \"TWF\", \"HDF\", \"PWF\", \"OSF\"]].to_numpy()\n",
    "\n",
    "Y_single_label = np.argmax(Y, axis=1)\n",
    "\n",
    "# Perform random undersampling\n",
    "rus = RandomUnderSampler(sampling_strategy='not minority', random_state=42)\n",
    "X_res, Y_res_single_label = rus.fit_resample(X, Y_single_label)\n",
    "\n",
    "# Convert back to multi-label representation\n",
    "Y_res_multilabel = np.zeros((Y_res_single_label.size, Y.shape[1]))\n",
    "Y_res_multilabel[np.arange(Y_res_single_label.size), Y_res_single_label] = 1\n",
    "\n",
    "predictions = improved_mlp_model.predict(X_res)\n",
    "\n",
    "predictions_bin = np.zeros_like(predictions)\n",
    "predictions_bin[np.arange(predictions.shape[0]), np.argmax(predictions, axis=1)] = 1\n",
    "\n",
    "Y_test_bin = Y_res_multilabel\n",
    "\n",
    "# Affichage du rapport de classification\n",
    "print(\n",
    "    f\"Classification report for classifier improved_mlp_model:\\n\"\n",
    "    f\"{classification_report(Y_test_bin.argmax(axis=1), predictions_bin.argmax(axis=1), target_names=class_names)}\\n\"\n",
    ")\n",
    "\n",
    "# Affichage de la matrice de confusion\n",
    "print(\"Confusion matrix after resampling:\")\n",
    "cm = confusion_matrix(Y_test_bin.argmax(axis=1), predictions_bin.argmax(axis=1))\n",
    "cm_display = ConfusionMatrixDisplay(confusion_matrix=cm)\n",
    "cm_display.plot()"
   ]
  },
  {
   "cell_type": "markdown",
   "metadata": {
    "id": "Zn5BBAI3pHXf"
   },
   "source": [
    "**ANALYSIS QUESTION** What do you observe? What can you conclude?"
   ]
  },
  {
   "cell_type": "markdown",
   "metadata": {
    "id": "SIf8rfU9pIGd"
   },
   "source": [
    "Nous observons que le modèle prédit bien les différentes pannes puisque la majorité des points se situent sur la diagonale. On observe cependant quelques erreurs dans les prédictions.\n",
    "\n",
    "Mais comme nous avons créé des données via le SMOTE, nous pouvons nous demander si notre dataset est vraiment fiable, puisqu'il est en grande partie synthétisé. Pour se faire, on vérifie que le procédé de SMOTE ne corompt pas le dataset en comparant avec des données qui n'ont pas subis de SMOTE (cf la deuxième matrice).\n",
    "Nous retrouvons un pourcentage d'erreur d'environ 5% pour les 2 matrices, donc la synthèse des données par le SMOTE ne favorise pas les erreurs."
   ]
  },
  {
   "cell_type": "markdown",
   "metadata": {},
   "source": [
    "**Exportation of the model :**"
   ]
  },
  {
   "cell_type": "code",
   "execution_count": null,
   "metadata": {},
   "outputs": [],
   "source": [
    "# Ligne suivante à supprimer pour exporter le modèle\n",
    "'''improved_mlp_model.save('./saved_models/improved_mlp_model.h5', save_format='h5')\n",
    "\n",
    "converter = tf.lite.TFLiteConverter.from_keras_model(improved_mlp_model)\n",
    "tflite_model = converter.convert()\n",
    "with open('./saved_models/improved_mlp_model.tflite', 'wb') as f:\n",
    "    f.write(tflite_model)\n",
    "'''\n",
    "\n",
    "\n",
    "#Exportation des données\n",
    "Y_test_single_label_SMOTE = np.array([np.argmax(row) for row in Y_test_SMOTE])\n",
    "\n",
    "#Les tableaux de données exportées sont ceux avec le SMOTE correspondant aux données avec des classes équilibrées TODO\n",
    "np.savetxt(\"./saved_data/X_test.csv\", X_test_SMOTE.reshape(X_test_SMOTE.shape[0], -1), delimiter=\",\", fmt=\"%.6f\")  # On exporte en flottants\n",
    "np.savetxt(\"./saved_data/Y_test.csv\", Y_test_single_label_SMOTE.reshape(Y_test_single_label_SMOTE.shape[0], -1), delimiter=\",\", fmt=\"%d\")  # Save as .csv\n",
    "np.save(\"./saved_data/X_test.npy\", X_test_SMOTE)  # Save as .npy\n",
    "np.save(\"./saved_data/Y_test.npy\", Y_test_single_label_SMOTE)  # Save as .npy\n",
    "\n",
    "#On exporte aussi les données réelles équilibrées\n",
    "np.savetxt(\"./saved_data/X.csv\", X_res.reshape(X_res.shape[0], -1), delimiter=\",\", fmt=\"%.6f\")  # On exporte en flottants\n",
    "np.savetxt(\"./saved_data/Y.csv\", Y_res_multilabel.reshape(Y_res_multilabel.shape[0], -1), delimiter=\",\", fmt=\"%d\")  # Save as .csv\n",
    "np.save(\"./saved_data/X.npy\", X_res)  # Save as .npy\n",
    "np.save(\"./saved_data/Y.npy\", X_res)  # Save as .npy\n",
    "\n"
   ]
  },
  {
   "cell_type": "code",
   "execution_count": 47,
   "metadata": {},
   "outputs": [
    {
     "name": "stdout",
     "output_type": "stream",
     "text": [
      "\u001b[1m1/1\u001b[0m \u001b[32m━━━━━━━━━━━━━━━━━━━━\u001b[0m\u001b[37m\u001b[0m \u001b[1m0s\u001b[0m 41ms/step\n",
      "[[0. 1. 0. 0. 0.]]\n",
      "Input data: [[ 298.4  308.  1416.    38.2  198. ]]\n",
      "Predicted class: TWF\n",
      "Expected result : [0 1 0 0 0]\n"
     ]
    }
   ],
   "source": [
    "def test_single_input(model, input_data, class_names):\n",
    "    # Reshape the input data to match the model's expected input shape\n",
    "    input_data = np.array(input_data).reshape(1, -1)\n",
    "    \n",
    "    # Make a prediction\n",
    "    prediction = model.predict(input_data)\n",
    "    # Convert the prediction to a binary format\n",
    "    prediction_bin = np.zeros_like(prediction)\n",
    "    prediction_bin[np.arange(prediction.shape[0]), np.argmax(prediction, axis=1)] = 1\n",
    "    print(prediction_bin)\n",
    "\n",
    "    # Get the predicted class\n",
    "    predicted_class = class_names[np.argmax(prediction)]\n",
    "    \n",
    "    print(f\"Input data: {input_data}\")\n",
    "    print(f\"Predicted class: {predicted_class}\")\n",
    "\n",
    "# Example input data (replace with actual input data)\n",
    "index = np.where(Y[:, 1] == 1)[0][5]  # Trouver le premier index où TWF est 1\n",
    "\n",
    "example_input = X[index]\n",
    "\n",
    "# Test the model on the example input\n",
    "test_single_input(improved_mlp_model, example_input, class_names)\n",
    "print(\"Expected result :\", Y[index])"
   ]
  }
 ],
 "metadata": {
  "colab": {
   "provenance": []
  },
  "kernelspec": {
   "display_name": "Python 3",
   "language": "python",
   "name": "python3"
  },
  "language_info": {
   "codemirror_mode": {
    "name": "ipython",
    "version": 3
   },
   "file_extension": ".py",
   "mimetype": "text/x-python",
   "name": "python",
   "nbconvert_exporter": "python",
   "pygments_lexer": "ipython3",
   "version": "3.12.9"
  }
 },
 "nbformat": 4,
 "nbformat_minor": 0
}
