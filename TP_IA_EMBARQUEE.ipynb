{
 "cells": [
  {
   "cell_type": "markdown",
   "metadata": {
    "id": "ZLQS0KLMycmb"
   },
   "source": [
    "## **PRACTICAL SESSION 1** — Deep Learning for predictive maintenance"
   ]
  },
  {
   "cell_type": "markdown",
   "metadata": {
    "id": "3mjNAfgj4K1_"
   },
   "source": [
    "The dataset used is the **AI4I 2020** Predictive Maintenance Dataset, which contains 10,000 instances of industrial sensor data. Each instance represents the operating condition of a machine and is associated with a label indicating whether a failure has occurred and, if so, what type of failure it is.\n",
    "\n",
    "The 5 possible labels are:\n",
    "\n",
    "\n",
    "\n",
    "*   **TWF**: Tool Wear Failure\n",
    "*   **HDF**: Heat Dissipation Failure\n",
    "*   **PWF**: Power Failure\n",
    "*   **OSF**: Overstrain Failure\n",
    "*   **RNF**: Random Failure\n",
    "\n",
    "\n",
    "The data is available on eCAMPUS as CSV file called: \"ai4i2020.csv\"\n",
    "\n"
   ]
  },
  {
   "cell_type": "markdown",
   "metadata": {
    "id": "4_LBMVsgRI9W"
   },
   "source": [
    "## **PRACTICAL SESSION Goal** — Ceate a deep leanring model allowing to realize a predictive maintenance mission"
   ]
  },
  {
   "cell_type": "markdown",
   "metadata": {
    "id": "wt7L0p4MbIIw"
   },
   "source": [
    "## **1 - Analysis of the dataset**\n",
    "\n"
   ]
  },
  {
   "cell_type": "markdown",
   "metadata": {
    "id": "0JFIZ6mtRapt"
   },
   "source": [
    "All libraries used ***SHOULD BE PLACED*** in the code cell below"
   ]
  },
  {
   "cell_type": "code",
   "execution_count": 84,
   "metadata": {
    "id": "UQp7FGSb5Vlv"
   },
   "outputs": [
    {
     "name": "stdout",
     "output_type": "stream",
     "text": [
      "2.2.4\n"
     ]
    }
   ],
   "source": [
    "import pandas as pd\n",
    "import numpy as np\n",
    "import matplotlib.pyplot as plt\n",
    "\n",
    "from sklearn.model_selection import train_test_split\n",
    "\n",
    "import tensorflow as tf\n",
    "from tensorflow.keras import regularizers\n",
    "from tensorflow.keras.models import Sequential\n",
    "from tensorflow.keras.layers import Dense\n",
    "from tensorflow.keras.optimizers import Adam\n",
    "from sklearn.preprocessing import StandardScaler\n",
    "from sklearn.utils.class_weight import compute_class_weight\n",
    "\n",
    "from sklearn.metrics import confusion_matrix, ConfusionMatrixDisplay\n",
    "from sklearn.metrics import classification_report\n",
    "from sklearn import datasets, metrics, svm\n",
    "\n",
    "from collections import Counter\n",
    "from sklearn.preprocessing import StandardScaler\n",
    "from imblearn.over_sampling import SMOTE\n",
    "from imblearn.under_sampling import RandomUnderSampler\n",
    "\n",
    "print(np.__version__)\n",
    "\n"
   ]
  },
  {
   "cell_type": "markdown",
   "metadata": {
    "id": "eFRcS74MDeSf"
   },
   "source": [
    "**QUESTION:** Load dataset and display some lines of the csv file."
   ]
  },
  {
   "cell_type": "code",
   "execution_count": 85,
   "metadata": {
    "id": "9l044FZ_5-fN"
   },
   "outputs": [
    {
     "data": {
      "text/html": [
       "<div>\n",
       "<style scoped>\n",
       "    .dataframe tbody tr th:only-of-type {\n",
       "        vertical-align: middle;\n",
       "    }\n",
       "\n",
       "    .dataframe tbody tr th {\n",
       "        vertical-align: top;\n",
       "    }\n",
       "\n",
       "    .dataframe thead th {\n",
       "        text-align: right;\n",
       "    }\n",
       "</style>\n",
       "<table border=\"1\" class=\"dataframe\">\n",
       "  <thead>\n",
       "    <tr style=\"text-align: right;\">\n",
       "      <th></th>\n",
       "      <th>UDI</th>\n",
       "      <th>Product ID</th>\n",
       "      <th>Type</th>\n",
       "      <th>Air temperature [K]</th>\n",
       "      <th>Process temperature [K]</th>\n",
       "      <th>Rotational speed [rpm]</th>\n",
       "      <th>Torque [Nm]</th>\n",
       "      <th>Tool wear [min]</th>\n",
       "      <th>Machine failure</th>\n",
       "      <th>TWF</th>\n",
       "      <th>HDF</th>\n",
       "      <th>PWF</th>\n",
       "      <th>OSF</th>\n",
       "      <th>RNF</th>\n",
       "    </tr>\n",
       "  </thead>\n",
       "  <tbody>\n",
       "    <tr>\n",
       "      <th>0</th>\n",
       "      <td>1</td>\n",
       "      <td>M14860</td>\n",
       "      <td>M</td>\n",
       "      <td>298.1</td>\n",
       "      <td>308.6</td>\n",
       "      <td>1551</td>\n",
       "      <td>42.8</td>\n",
       "      <td>0</td>\n",
       "      <td>0</td>\n",
       "      <td>0</td>\n",
       "      <td>0</td>\n",
       "      <td>0</td>\n",
       "      <td>0</td>\n",
       "      <td>0</td>\n",
       "    </tr>\n",
       "    <tr>\n",
       "      <th>1</th>\n",
       "      <td>2</td>\n",
       "      <td>L47181</td>\n",
       "      <td>L</td>\n",
       "      <td>298.2</td>\n",
       "      <td>308.7</td>\n",
       "      <td>1408</td>\n",
       "      <td>46.3</td>\n",
       "      <td>3</td>\n",
       "      <td>0</td>\n",
       "      <td>0</td>\n",
       "      <td>0</td>\n",
       "      <td>0</td>\n",
       "      <td>0</td>\n",
       "      <td>0</td>\n",
       "    </tr>\n",
       "    <tr>\n",
       "      <th>2</th>\n",
       "      <td>3</td>\n",
       "      <td>L47182</td>\n",
       "      <td>L</td>\n",
       "      <td>298.1</td>\n",
       "      <td>308.5</td>\n",
       "      <td>1498</td>\n",
       "      <td>49.4</td>\n",
       "      <td>5</td>\n",
       "      <td>0</td>\n",
       "      <td>0</td>\n",
       "      <td>0</td>\n",
       "      <td>0</td>\n",
       "      <td>0</td>\n",
       "      <td>0</td>\n",
       "    </tr>\n",
       "    <tr>\n",
       "      <th>3</th>\n",
       "      <td>4</td>\n",
       "      <td>L47183</td>\n",
       "      <td>L</td>\n",
       "      <td>298.2</td>\n",
       "      <td>308.6</td>\n",
       "      <td>1433</td>\n",
       "      <td>39.5</td>\n",
       "      <td>7</td>\n",
       "      <td>0</td>\n",
       "      <td>0</td>\n",
       "      <td>0</td>\n",
       "      <td>0</td>\n",
       "      <td>0</td>\n",
       "      <td>0</td>\n",
       "    </tr>\n",
       "    <tr>\n",
       "      <th>4</th>\n",
       "      <td>5</td>\n",
       "      <td>L47184</td>\n",
       "      <td>L</td>\n",
       "      <td>298.2</td>\n",
       "      <td>308.7</td>\n",
       "      <td>1408</td>\n",
       "      <td>40.0</td>\n",
       "      <td>9</td>\n",
       "      <td>0</td>\n",
       "      <td>0</td>\n",
       "      <td>0</td>\n",
       "      <td>0</td>\n",
       "      <td>0</td>\n",
       "      <td>0</td>\n",
       "    </tr>\n",
       "  </tbody>\n",
       "</table>\n",
       "</div>"
      ],
      "text/plain": [
       "   UDI Product ID Type  Air temperature [K]  Process temperature [K]  \\\n",
       "0    1     M14860    M                298.1                    308.6   \n",
       "1    2     L47181    L                298.2                    308.7   \n",
       "2    3     L47182    L                298.1                    308.5   \n",
       "3    4     L47183    L                298.2                    308.6   \n",
       "4    5     L47184    L                298.2                    308.7   \n",
       "\n",
       "   Rotational speed [rpm]  Torque [Nm]  Tool wear [min]  Machine failure  TWF  \\\n",
       "0                    1551         42.8                0                0    0   \n",
       "1                    1408         46.3                3                0    0   \n",
       "2                    1498         49.4                5                0    0   \n",
       "3                    1433         39.5                7                0    0   \n",
       "4                    1408         40.0                9                0    0   \n",
       "\n",
       "   HDF  PWF  OSF  RNF  \n",
       "0    0    0    0    0  \n",
       "1    0    0    0    0  \n",
       "2    0    0    0    0  \n",
       "3    0    0    0    0  \n",
       "4    0    0    0    0  "
      ]
     },
     "execution_count": 85,
     "metadata": {},
     "output_type": "execute_result"
    }
   ],
   "source": [
    "data = pd.read_csv(\"ai4i2020.csv\")\n",
    "data.head()"
   ]
  },
  {
   "cell_type": "markdown",
   "metadata": {},
   "source": [
    "We can see that the input data are :\n",
    "- UDI\n",
    "- Product ID\n",
    "- Product type\n",
    "- Air temperature\n",
    "- Process temperature\n",
    "- Rotational speed\n",
    "- Torque\n",
    "- Tool wear\n",
    "- Machine failure"
   ]
  },
  {
   "cell_type": "markdown",
   "metadata": {
    "id": "joQOXoqaD8JA"
   },
   "source": [
    "**QUESTION:** Display the distribution of machine failures and non-failures with a bar graph."
   ]
  },
  {
   "cell_type": "code",
   "execution_count": 86,
   "metadata": {
    "id": "r3Q1l9JoMs7m"
   },
   "outputs": [
    {
     "data": {
      "image/png": "[encoded data removed]",
      "text/plain": [
       "<Figure size 640x480 with 1 Axes>"
      ]
     },
     "metadata": {},
     "output_type": "display_data"
    },
    {
     "name": "stdout",
     "output_type": "stream",
     "text": [
      "Nombre d'occurrences de chaque état :\n",
      " Machine failure\n",
      "0    9661\n",
      "1     339\n",
      "Name: count, dtype: int64\n",
      "Pourcentage de machines en panne : 3.39%\n"
     ]
    }
   ],
   "source": [
    "counts_failure = data['Machine failure'].value_counts()\n",
    "\n",
    "plt.bar(counts_failure.index, counts_failure.values, color=[\"green\", \"red\"])\n",
    "\n",
    "plt.xticks([0, 1], [\"Working\", \"Failure\"])  # Noms des catégories\n",
    "plt.xlabel(\"État de la machine\")\n",
    "plt.ylabel(\"Nombre d'occurrences\")\n",
    "plt.title(\"Répartition des machines en fonctionnement et en panne\")\n",
    "\n",
    "plt.show()\n",
    "print(\"Nombre d'occurrences de chaque état :\\n\", counts_failure)\n",
    "\n",
    "print(\"Pourcentage de machines en panne : {:.2f}%\".format(counts_failure[1] / counts_failure.sum() * 100))"
   ]
  },
  {
   "cell_type": "markdown",
   "metadata": {
    "id": "vCNIqXVyEkrR"
   },
   "source": [
    "**ANALYSIS QUESTION:** What do you observe?"
   ]
  },
  {
   "cell_type": "markdown",
   "metadata": {
    "id": "6BMGtlIWE-C0"
   },
   "source": [
    "\n",
    "Lorsque nous affichons les données nous mettons les RNF dans la colonne Working. En effet lorsqu'un RNF a lieu cela n'est pas répertorié comme une 'Machine Failure'. On les retrouve donc dans la colonne Working ce qui est cohérent puisque ces problèmes sont aléatoires et que l'objectif de notre modèle est de prévoir les problèmes sur les machines. Nous ne pouvons pas prévoir les problèmes aléatoires, il est donc cohérent que nous ne comptabilisions pas ces Fail aléatoires comme des Fails puisque nous ne souhaitons pas les prendre en compte dans l'apprentissage.\n",
    "\n",
    "Au final nous voyons que nous avons peu de données pour les Failure (uniquement 339). Cela va donc compliquer l'apprentissage."
   ]
  },
  {
   "cell_type": "markdown",
   "metadata": {
    "id": "huU5I4x8SzlN"
   },
   "source": [
    "**ANALYSIS QUESTION:** What will be the consequence of this phenomenon on the model's learning?"
   ]
  },
  {
   "cell_type": "markdown",
   "metadata": {
    "id": "JHmYROP0TLIS"
   },
   "source": [
    "Nous avons peu de données répertoriant des Fails dans notre Dataset. Notre objectif est d'identifier les pannes sur la machine et nous avons seulement 339 réferencements de pannes. Ainsi, même si notre Dataset est de grande taille il n'est pas très complet car 96,51% des données correspondent à un fonctionnement normal.\n",
    "\n",
    "Notre apprentissage risque donc d'être peu précis à cause d'une faible quantité de données."
   ]
  },
  {
   "cell_type": "markdown",
   "metadata": {},
   "source": []
  },
  {
   "cell_type": "markdown",
   "metadata": {
    "id": "0s-mzCCsSasl"
   },
   "source": [
    "**QUESTION:** Create a bar chart showing the distribution of different failure types (TWF, HDF, PWF, OSF, RNF). Display the exact values above each bar in the chart.\""
   ]
  },
  {
   "cell_type": "code",
   "execution_count": 87,
   "metadata": {
    "id": "nQyJCfamMdJN"
   },
   "outputs": [
    {
     "data": {
      "image/png": "[encoded data removed]",
      "text/plain": [
       "<Figure size 800x500 with 1 Axes>"
      ]
     },
     "metadata": {},
     "output_type": "display_data"
    }
   ],
   "source": [
    "import pandas as pd\n",
    "import matplotlib.pyplot as plt\n",
    "\n",
    "dataset = pd.read_csv(\"ai4i2020.csv\")\n",
    "\n",
    "failure_types = ['TWF', 'HDF', 'PWF', 'OSF', 'RNF']\n",
    "failure_counts = dataset[failure_types].sum()\n",
    "\n",
    "plt.figure(figsize=(8, 5))\n",
    "bars = plt.bar(failure_counts.index, failure_counts.values, color='skyblue')\n",
    "\n",
    "# value above each bar\n",
    "for bar in bars:\n",
    "    plt.text(bar.get_x() + bar.get_width()/2, bar.get_height(), \n",
    "             int(bar.get_height()), ha='center', va='bottom', fontsize=12)\n",
    "\n",
    "plt.xlabel(\"Type de Failure\")\n",
    "plt.ylabel(\"Nombre\")\n",
    "plt.title(\"Distribution des différentes failures\")\n",
    "plt.xticks(rotation=45)\n",
    "plt.grid(axis='y', linestyle='--', alpha=0.7)\n",
    "plt.show()\n"
   ]
  },
  {
   "cell_type": "markdown",
   "metadata": {
    "id": "NXyHa73yU8g_"
   },
   "source": [
    "**ANALYSIS QUESTION:** What do you observe?"
   ]
  },
  {
   "cell_type": "markdown",
   "metadata": {
    "id": "WRDFE_dsVBBU"
   },
   "source": [
    "\"Write here your response\""
   ]
  },
  {
   "cell_type": "markdown",
   "metadata": {
    "id": "cvaO2bEIMxLd"
   },
   "source": [
    "**QUESTION:** Create a bar chart showing the distribution of failure types (TWF, HDF, PWF, OSF, RNF) among machines that experienced a failure (Machine failure == 1). Additionally, add a \"No Specific Failure\" category to count cases where a machine failed but no specific failure type was recorded. Display the exact values above each bar in the chart.\""
   ]
  },
  {
   "cell_type": "code",
   "execution_count": 88,
   "metadata": {
    "id": "e97htGyyMsle"
   },
   "outputs": [
    {
     "data": {
      "image/png": "[encoded data removed]",
      "text/plain": [
       "<Figure size 800x500 with 1 Axes>"
      ]
     },
     "metadata": {},
     "output_type": "display_data"
    }
   ],
   "source": [
    "dataset = pd.read_csv(\"ai4i2020.csv\")\n",
    "failed_machines = dataset[dataset[\"Machine failure\"] == 1]\n",
    "failure_types = [\"TWF\", \"HDF\", \"PWF\", \"OSF\", \"RNF\"]\n",
    "failure_counts = failed_machines[failure_types].sum()\n",
    "no_specific_failure = (failed_machines[failure_types].sum(axis=1) == 0).sum()\n",
    "\n",
    "failure_counts[\"No Specific Failure\"] = no_specific_failure\n",
    "\n",
    "plt.figure(figsize=(8, 5))\n",
    "bars = plt.bar(failure_counts.index, failure_counts.values, color='lightcoral')\n",
    "\n",
    "for bar in bars:\n",
    "    plt.text(bar.get_x() + bar.get_width()/2, bar.get_height(), \n",
    "             int(bar.get_height()), ha='center', va='bottom', fontsize=12)\n",
    "\n",
    "plt.xlabel(\"Type de failure\")\n",
    "plt.ylabel(\"Nombre\")\n",
    "plt.title(\"Distribution des types de failure parmi les machines qui ont fail\")\n",
    "plt.xticks(rotation=45)\n",
    "plt.grid(axis='y', linestyle='--', alpha=0.7)\n",
    "\n",
    "plt.show()\n"
   ]
  },
  {
   "cell_type": "markdown",
   "metadata": {
    "id": "U6_3vAQCOUGb"
   },
   "source": [
    "**ANALYSIS QUESTION:** What do you obsrve compared to the previous question ? What can you conclude?"
   ]
  },
  {
   "cell_type": "markdown",
   "metadata": {
    "id": "i-6t7nqlOjMo"
   },
   "source": [
    "On pense que la seule donnée RNF est sûrement une erreur dans le dataset, puisque RNF et TWF sont à 1. Cela veut dire que la machine failure est contabilisée 2 fois, en tant que random et en tant que failure définie. Cela est contradictoire."
   ]
  },
  {
   "cell_type": "markdown",
   "metadata": {
    "id": "muXeS0eVVW6H"
   },
   "source": [
    "**QUESTION:** Display the names of the different columns in the dataset with their respective data types."
   ]
  },
  {
   "cell_type": "code",
   "execution_count": 89,
   "metadata": {
    "id": "pa9Tptu7nPMp"
   },
   "outputs": [
    {
     "name": "stdout",
     "output_type": "stream",
     "text": [
      "UDI                          int64\n",
      "Product ID                  object\n",
      "Type                        object\n",
      "Air temperature [K]        float64\n",
      "Process temperature [K]    float64\n",
      "Rotational speed [rpm]       int64\n",
      "Torque [Nm]                float64\n",
      "Tool wear [min]              int64\n",
      "Machine failure              int64\n",
      "TWF                          int64\n",
      "HDF                          int64\n",
      "PWF                          int64\n",
      "OSF                          int64\n",
      "RNF                          int64\n",
      "dtype: object\n"
     ]
    }
   ],
   "source": [
    "print(dataset.dtypes)\n"
   ]
  },
  {
   "cell_type": "markdown",
   "metadata": {
    "id": "cezua1bMVTCM"
   },
   "source": [
    "**ANALYSIS QUESTION:** To train the model, what will be the inputs and outputs (What are the names of the columns that you will use?)? Justify your response.\n",
    "Remember, you want to predict if the machine will fail, and if so, what kind of failure. You need to yse previous results to jsurtify your response."
   ]
  },
  {
   "cell_type": "markdown",
   "metadata": {
    "id": "0gy8oDgxbjol"
   },
   "source": [
    "**Outputs**\n",
    "Nous voulons prévoir si une machine va fail et son type de failure donc on a les outputs suivants :\n",
    "\n",
    "- machine failure (0 ou 1)\n",
    "- le type de failure (TWF, HDF, PWF, OSF, RNF qui sont à 0 ou 1)\n",
    "\n",
    "**Inputs**\n",
    "Le model doit utiliser les conditions dans lesquelles est la machine, et ses paramètres pour prédire la failure. Donc les inputs sont :\n",
    "\n",
    "- Air temperature\n",
    "- Process temperature\n",
    "- Rotational speed \n",
    "- Torque \n",
    "- Tool wear \n",
    "\n",
    "On ne prend pas UDI, product ID et Type puisqu'ils ne renseigne aucune donnée utilisable pour prédire la failure."
   ]
  },
  {
   "cell_type": "markdown",
   "metadata": {
    "id": "CFXLkBzTiafx"
   },
   "source": [
    "## **2- Train model Without balancing the dataset**\n",
    "\n",
    "---\n",
    "\n"
   ]
  },
  {
   "cell_type": "markdown",
   "metadata": {
    "id": "plBeUOCKvVNU"
   },
   "source": [
    "In this section, you must build and train a model without rebalancing the dataset."
   ]
  },
  {
   "cell_type": "markdown",
   "metadata": {
    "id": "yj7CMqdVbxg2"
   },
   "source": [
    "**QUESTION:** Create X_train, Y_train, X_test, and Y_test. How many elements are present in X_train, Y_train, X_test, and Y_test? (Print the values)"
   ]
  },
  {
   "cell_type": "markdown",
   "metadata": {},
   "source": [
    "On ne prend pas comme entrée le type de produit puisque nous considérons que cela n'influence pas la machine. Il serait tout de même intéressant de tester un modèle prenant en compte ce paramètre."
   ]
  },
  {
   "cell_type": "code",
   "execution_count": 90,
   "metadata": {
    "id": "Wdght-L8wQQQ"
   },
   "outputs": [
    {
     "name": "stdout",
     "output_type": "stream",
     "text": [
      "(8000, 5)\n",
      "Nombre d'éléments dans X_train : (8000, 5)\n",
      "Nombre d'éléments dans Y_train : (8000, 5)\n",
      "Nombre d'éléments dans X_test : (2000, 5)\n",
      "Nombre d'éléments dans Y_test : (2000, 5)\n"
     ]
    }
   ],
   "source": [
    "dataset['No Failure'] = 1 - dataset[\"Machine failure\"]\n",
    "#La première classe correspondra à \"pas d'erreur\"\n",
    "\n",
    "X = dataset[[\"Air temperature [K]\", \"Process temperature [K]\", \"Rotational speed [rpm]\", \"Torque [Nm]\", \"Tool wear [min]\"]].to_numpy()\n",
    "Y = dataset[[\"No Failure\", \"TWF\", \"HDF\", \"PWF\", \"OSF\"]].to_numpy()\n",
    "#La première classe correspondra à \"pas d'erreur\", les autres sont les erreurs possibles sans compter \"RNF\"\n",
    "\n",
    "# Normalisation des données ?\n",
    "#scaler = StandardScaler()\n",
    "#X_scaled = scaler.fit_transform(X)\n",
    "X_scaled = X #On ne normalise pas\n",
    "# Reshape des données pour les rendre compatibles avec Conv1D\n",
    "#X_scaled = X_scaled.reshape((X_scaled.shape[0], X_scaled.shape[1]))\n",
    "\n",
    "# Division en jeu d'entraînement (80%) et de test (20%)\n",
    "X_train, X_test, Y_train, Y_test = train_test_split(X_scaled, Y, test_size=0.2, random_state=42)\n",
    "print(X_train.shape)\n",
    "# Afficher le nombre d'éléments dans chaque ensemble\n",
    "print(f\"Nombre d'éléments dans X_train : {X_train.shape}\")\n",
    "print(f\"Nombre d'éléments dans Y_train : {Y_train.shape}\")\n",
    "print(f\"Nombre d'éléments dans X_test : {X_test.shape}\")\n",
    "print(f\"Nombre d'éléments dans Y_test : {Y_test.shape}\")"
   ]
  },
  {
   "cell_type": "markdown",
   "metadata": {
    "id": "eqBuZsqKdQ7u"
   },
   "source": [
    "**QUESTION** Code below the model architecture"
   ]
  },
  {
   "cell_type": "markdown",
   "metadata": {},
   "source": [
    "Nous mettons en place un réseau de neurone MLP."
   ]
  },
  {
   "cell_type": "code",
   "execution_count": 91,
   "metadata": {
    "id": "F35j0VRDdNLc"
   },
   "outputs": [
    {
     "data": {
      "text/html": [
       "<pre style=\"white-space:pre;overflow-x:auto;line-height:normal;font-family:Menlo,'DejaVu Sans Mono',consolas,'Courier New',monospace\"><span style=\"font-weight: bold\">Model: \"improved_mlp_model\"</span>\n",
       "</pre>\n"
      ],
      "text/plain": [
       "\u001b[1mModel: \"improved_mlp_model\"\u001b[0m\n"
      ]
     },
     "metadata": {},
     "output_type": "display_data"
    },
    {
     "data": {
      "text/html": [
       "<pre style=\"white-space:pre;overflow-x:auto;line-height:normal;font-family:Menlo,'DejaVu Sans Mono',consolas,'Courier New',monospace\">┏━━━━━━━━━━━━━━━━━━━━━━━━━━━━━━━━━┳━━━━━━━━━━━━━━━━━━━━━━━━┳━━━━━━━━━━━━━━━┓\n",
       "┃<span style=\"font-weight: bold\"> Layer (type)                    </span>┃<span style=\"font-weight: bold\"> Output Shape           </span>┃<span style=\"font-weight: bold\">       Param # </span>┃\n",
       "┡━━━━━━━━━━━━━━━━━━━━━━━━━━━━━━━━━╇━━━━━━━━━━━━━━━━━━━━━━━━╇━━━━━━━━━━━━━━━┩\n",
       "│ input_layer_11 (<span style=\"color: #0087ff; text-decoration-color: #0087ff\">InputLayer</span>)     │ (<span style=\"color: #00d7ff; text-decoration-color: #00d7ff\">None</span>, <span style=\"color: #00af00; text-decoration-color: #00af00\">5</span>)              │             <span style=\"color: #00af00; text-decoration-color: #00af00\">0</span> │\n",
       "├─────────────────────────────────┼────────────────────────┼───────────────┤\n",
       "│ dense_43 (<span style=\"color: #0087ff; text-decoration-color: #0087ff\">Dense</span>)                │ (<span style=\"color: #00d7ff; text-decoration-color: #00d7ff\">None</span>, <span style=\"color: #00af00; text-decoration-color: #00af00\">64</span>)             │           <span style=\"color: #00af00; text-decoration-color: #00af00\">384</span> │\n",
       "├─────────────────────────────────┼────────────────────────┼───────────────┤\n",
       "│ dense_44 (<span style=\"color: #0087ff; text-decoration-color: #0087ff\">Dense</span>)                │ (<span style=\"color: #00d7ff; text-decoration-color: #00d7ff\">None</span>, <span style=\"color: #00af00; text-decoration-color: #00af00\">32</span>)             │         <span style=\"color: #00af00; text-decoration-color: #00af00\">2,080</span> │\n",
       "├─────────────────────────────────┼────────────────────────┼───────────────┤\n",
       "│ dense_45 (<span style=\"color: #0087ff; text-decoration-color: #0087ff\">Dense</span>)                │ (<span style=\"color: #00d7ff; text-decoration-color: #00d7ff\">None</span>, <span style=\"color: #00af00; text-decoration-color: #00af00\">5</span>)              │           <span style=\"color: #00af00; text-decoration-color: #00af00\">165</span> │\n",
       "└─────────────────────────────────┴────────────────────────┴───────────────┘\n",
       "</pre>\n"
      ],
      "text/plain": [
       "┏━━━━━━━━━━━━━━━━━━━━━━━━━━━━━━━━━┳━━━━━━━━━━━━━━━━━━━━━━━━┳━━━━━━━━━━━━━━━┓\n",
       "┃\u001b[1m \u001b[0m\u001b[1mLayer (type)                   \u001b[0m\u001b[1m \u001b[0m┃\u001b[1m \u001b[0m\u001b[1mOutput Shape          \u001b[0m\u001b[1m \u001b[0m┃\u001b[1m \u001b[0m\u001b[1m      Param #\u001b[0m\u001b[1m \u001b[0m┃\n",
       "┡━━━━━━━━━━━━━━━━━━━━━━━━━━━━━━━━━╇━━━━━━━━━━━━━━━━━━━━━━━━╇━━━━━━━━━━━━━━━┩\n",
       "│ input_layer_11 (\u001b[38;5;33mInputLayer\u001b[0m)     │ (\u001b[38;5;45mNone\u001b[0m, \u001b[38;5;34m5\u001b[0m)              │             \u001b[38;5;34m0\u001b[0m │\n",
       "├─────────────────────────────────┼────────────────────────┼───────────────┤\n",
       "│ dense_43 (\u001b[38;5;33mDense\u001b[0m)                │ (\u001b[38;5;45mNone\u001b[0m, \u001b[38;5;34m64\u001b[0m)             │           \u001b[38;5;34m384\u001b[0m │\n",
       "├─────────────────────────────────┼────────────────────────┼───────────────┤\n",
       "│ dense_44 (\u001b[38;5;33mDense\u001b[0m)                │ (\u001b[38;5;45mNone\u001b[0m, \u001b[38;5;34m32\u001b[0m)             │         \u001b[38;5;34m2,080\u001b[0m │\n",
       "├─────────────────────────────────┼────────────────────────┼───────────────┤\n",
       "│ dense_45 (\u001b[38;5;33mDense\u001b[0m)                │ (\u001b[38;5;45mNone\u001b[0m, \u001b[38;5;34m5\u001b[0m)              │           \u001b[38;5;34m165\u001b[0m │\n",
       "└─────────────────────────────────┴────────────────────────┴───────────────┘\n"
      ]
     },
     "metadata": {},
     "output_type": "display_data"
    },
    {
     "data": {
      "text/html": [
       "<pre style=\"white-space:pre;overflow-x:auto;line-height:normal;font-family:Menlo,'DejaVu Sans Mono',consolas,'Courier New',monospace\"><span style=\"font-weight: bold\"> Total params: </span><span style=\"color: #00af00; text-decoration-color: #00af00\">2,629</span> (10.27 KB)\n",
       "</pre>\n"
      ],
      "text/plain": [
       "\u001b[1m Total params: \u001b[0m\u001b[38;5;34m2,629\u001b[0m (10.27 KB)\n"
      ]
     },
     "metadata": {},
     "output_type": "display_data"
    },
    {
     "data": {
      "text/html": [
       "<pre style=\"white-space:pre;overflow-x:auto;line-height:normal;font-family:Menlo,'DejaVu Sans Mono',consolas,'Courier New',monospace\"><span style=\"font-weight: bold\"> Trainable params: </span><span style=\"color: #00af00; text-decoration-color: #00af00\">2,629</span> (10.27 KB)\n",
       "</pre>\n"
      ],
      "text/plain": [
       "\u001b[1m Trainable params: \u001b[0m\u001b[38;5;34m2,629\u001b[0m (10.27 KB)\n"
      ]
     },
     "metadata": {},
     "output_type": "display_data"
    },
    {
     "data": {
      "text/html": [
       "<pre style=\"white-space:pre;overflow-x:auto;line-height:normal;font-family:Menlo,'DejaVu Sans Mono',consolas,'Courier New',monospace\"><span style=\"font-weight: bold\"> Non-trainable params: </span><span style=\"color: #00af00; text-decoration-color: #00af00\">0</span> (0.00 B)\n",
       "</pre>\n"
      ],
      "text/plain": [
       "\u001b[1m Non-trainable params: \u001b[0m\u001b[38;5;34m0\u001b[0m (0.00 B)\n"
      ]
     },
     "metadata": {},
     "output_type": "display_data"
    }
   ],
   "source": [
    "inputs = tf.keras.Input(shape=(X_train.shape[1],))  # Suppression de la dimension supplémentaire\n",
    "x = tf.keras.layers.Dense(32, activation='relu')(inputs)  # Plus de neurones dans la première couche cachée\n",
    "x = tf.keras.layers.Dense(64, activation='relu')(inputs) \n",
    "x = tf.keras.layers.Dense(32, activation='relu')(x)  # Ajout d'une deuxième couche cachée\n",
    "outputs = tf.keras.layers.Dense(Y_train.shape[1], activation='softmax')(x)  # Couche de sortie pour 5 classes\n",
    "my_mlp_model = tf.keras.Model(inputs=inputs, outputs=outputs, name=\"improved_mlp_model\")\n",
    "\n",
    "my_mlp_model.summary()\n",
    "\n",
    "# Compilation du modèle\n",
    "my_mlp_model.compile(optimizer='adam', loss='categorical_crossentropy', metrics=['accuracy'])\n"
   ]
  },
  {
   "cell_type": "markdown",
   "metadata": {
    "id": "dIONoP2Jdg8Q"
   },
   "source": [
    "**QUESTION** Code below the algorithms allowing to train model\n",
    "\n",
    "**WARNING!** You need to plot the training and test accuracy and loss to check if our model is overfitting"
   ]
  },
  {
   "cell_type": "code",
   "execution_count": 92,
   "metadata": {
    "id": "jJ2bYxZydhW2"
   },
   "outputs": [
    {
     "name": "stdout",
     "output_type": "stream",
     "text": [
      "Epoch 1/20\n",
      "\u001b[1m250/250\u001b[0m \u001b[32m━━━━━━━━━━━━━━━━━━━━\u001b[0m\u001b[37m\u001b[0m \u001b[1m1s\u001b[0m 897us/step - accuracy: 0.8924 - loss: 11.3761\n",
      "Epoch 2/20\n",
      "\u001b[1m250/250\u001b[0m \u001b[32m━━━━━━━━━━━━━━━━━━━━\u001b[0m\u001b[37m\u001b[0m \u001b[1m0s\u001b[0m 868us/step - accuracy: 0.9424 - loss: 0.9688\n",
      "Epoch 3/20\n",
      "\u001b[1m250/250\u001b[0m \u001b[32m━━━━━━━━━━━━━━━━━━━━\u001b[0m\u001b[37m\u001b[0m \u001b[1m0s\u001b[0m 829us/step - accuracy: 0.9534 - loss: 0.4954\n",
      "Epoch 4/20\n",
      "\u001b[1m250/250\u001b[0m \u001b[32m━━━━━━━━━━━━━━━━━━━━\u001b[0m\u001b[37m\u001b[0m \u001b[1m0s\u001b[0m 870us/step - accuracy: 0.9450 - loss: 1.8889\n",
      "Epoch 5/20\n",
      "\u001b[1m250/250\u001b[0m \u001b[32m━━━━━━━━━━━━━━━━━━━━\u001b[0m\u001b[37m\u001b[0m \u001b[1m0s\u001b[0m 870us/step - accuracy: 0.9485 - loss: 0.4411\n",
      "Epoch 6/20\n",
      "\u001b[1m250/250\u001b[0m \u001b[32m━━━━━━━━━━━━━━━━━━━━\u001b[0m\u001b[37m\u001b[0m \u001b[1m0s\u001b[0m 909us/step - accuracy: 0.9485 - loss: 0.6922\n",
      "Epoch 7/20\n",
      "\u001b[1m250/250\u001b[0m \u001b[32m━━━━━━━━━━━━━━━━━━━━\u001b[0m\u001b[37m\u001b[0m \u001b[1m0s\u001b[0m 870us/step - accuracy: 0.9518 - loss: 0.3918\n",
      "Epoch 8/20\n",
      "\u001b[1m250/250\u001b[0m \u001b[32m━━━━━━━━━━━━━━━━━━━━\u001b[0m\u001b[37m\u001b[0m \u001b[1m0s\u001b[0m 1ms/step - accuracy: 0.9512 - loss: 0.7863  \n",
      "Epoch 9/20\n",
      "\u001b[1m250/250\u001b[0m \u001b[32m━━━━━━━━━━━━━━━━━━━━\u001b[0m\u001b[37m\u001b[0m \u001b[1m0s\u001b[0m 914us/step - accuracy: 0.9532 - loss: 0.4748\n",
      "Epoch 10/20\n",
      "\u001b[1m250/250\u001b[0m \u001b[32m━━━━━━━━━━━━━━━━━━━━\u001b[0m\u001b[37m\u001b[0m \u001b[1m0s\u001b[0m 1ms/step - accuracy: 0.9433 - loss: 0.6304  \n",
      "Epoch 11/20\n",
      "\u001b[1m250/250\u001b[0m \u001b[32m━━━━━━━━━━━━━━━━━━━━\u001b[0m\u001b[37m\u001b[0m \u001b[1m0s\u001b[0m 996us/step - accuracy: 0.9518 - loss: 0.5864\n",
      "Epoch 12/20\n",
      "\u001b[1m250/250\u001b[0m \u001b[32m━━━━━━━━━━━━━━━━━━━━\u001b[0m\u001b[37m\u001b[0m \u001b[1m0s\u001b[0m 1ms/step - accuracy: 0.9371 - loss: 0.8049\n",
      "Epoch 13/20\n",
      "\u001b[1m250/250\u001b[0m \u001b[32m━━━━━━━━━━━━━━━━━━━━\u001b[0m\u001b[37m\u001b[0m \u001b[1m0s\u001b[0m 989us/step - accuracy: 0.9580 - loss: 0.3655\n",
      "Epoch 14/20\n",
      "\u001b[1m250/250\u001b[0m \u001b[32m━━━━━━━━━━━━━━━━━━━━\u001b[0m\u001b[37m\u001b[0m \u001b[1m0s\u001b[0m 1ms/step - accuracy: 0.9518 - loss: 0.3757  \n",
      "Epoch 15/20\n",
      "\u001b[1m250/250\u001b[0m \u001b[32m━━━━━━━━━━━━━━━━━━━━\u001b[0m\u001b[37m\u001b[0m \u001b[1m0s\u001b[0m 936us/step - accuracy: 0.9468 - loss: 0.5172\n",
      "Epoch 16/20\n",
      "\u001b[1m250/250\u001b[0m \u001b[32m━━━━━━━━━━━━━━━━━━━━\u001b[0m\u001b[37m\u001b[0m \u001b[1m0s\u001b[0m 924us/step - accuracy: 0.9514 - loss: 0.3076\n",
      "Epoch 17/20\n",
      "\u001b[1m250/250\u001b[0m \u001b[32m━━━━━━━━━━━━━━━━━━━━\u001b[0m\u001b[37m\u001b[0m \u001b[1m0s\u001b[0m 1ms/step - accuracy: 0.9528 - loss: 0.3104  \n",
      "Epoch 18/20\n",
      "\u001b[1m250/250\u001b[0m \u001b[32m━━━━━━━━━━━━━━━━━━━━\u001b[0m\u001b[37m\u001b[0m \u001b[1m0s\u001b[0m 1ms/step - accuracy: 0.9523 - loss: 0.3582\n",
      "Epoch 19/20\n",
      "\u001b[1m250/250\u001b[0m \u001b[32m━━━━━━━━━━━━━━━━━━━━\u001b[0m\u001b[37m\u001b[0m \u001b[1m0s\u001b[0m 1ms/step - accuracy: 0.9560 - loss: 0.3375\n",
      "Epoch 20/20\n",
      "\u001b[1m250/250\u001b[0m \u001b[32m━━━━━━━━━━━━━━━━━━━━\u001b[0m\u001b[37m\u001b[0m \u001b[1m0s\u001b[0m 1ms/step - accuracy: 0.9455 - loss: 0.5237\n",
      "\u001b[1m63/63\u001b[0m \u001b[32m━━━━━━━━━━━━━━━━━━━━\u001b[0m\u001b[37m\u001b[0m \u001b[1m0s\u001b[0m 1ms/step - accuracy: 0.9679 - loss: 0.5171  \n",
      "Test accuracy: 0.9704999923706055\n"
     ]
    }
   ],
   "source": [
    "nb_epochs=20\n",
    "batch_size=32\n",
    "\n",
    "training_history = my_mlp_model.fit(X_train,Y_train,\n",
    "                                    epochs=nb_epochs,\n",
    "                                    batch_size=batch_size)\n",
    "\n",
    "# Évaluation du modèle sur les données de test\n",
    "test_loss, test_acc = my_mlp_model.evaluate(X_test, Y_test)\n",
    "print(f\"Test accuracy: {test_acc}\")"
   ]
  },
  {
   "cell_type": "code",
   "execution_count": 93,
   "metadata": {},
   "outputs": [
    {
     "data": {
      "image/png": "[encoded data removed]",
      "text/plain": [
       "<Figure size 640x480 with 1 Axes>"
      ]
     },
     "metadata": {},
     "output_type": "display_data"
    },
    {
     "data": {
      "image/png": "[encoded data removed]",
      "text/plain": [
       "<Figure size 640x480 with 1 Axes>"
      ]
     },
     "metadata": {},
     "output_type": "display_data"
    },
    {
     "name": "stdout",
     "output_type": "stream",
     "text": [
      "Final Accuracy on test set: 0.9704999923706055\n"
     ]
    }
   ],
   "source": [
    "def display_training_curves(training_history):\n",
    "  # display loss\n",
    "  plt.plot(training_history.history['loss'],label='loss')\n",
    "  plt.xlabel(\"epoch\")\n",
    "  plt.legend(bbox_to_anchor=(1.05, 1), loc=2)\n",
    "  plt.show()\n",
    "  #display accuracy\n",
    "  plt.plot(training_history.history['accuracy'],label='acc')\n",
    "  plt.xlabel(\"epoch\")\n",
    "  plt.legend(bbox_to_anchor=(1.05, 1), loc=2)\n",
    "  plt.show()\n",
    "\n",
    "display_training_curves(training_history)\n",
    "\n",
    "print(\"Final Accuracy on test set:\", test_acc)\n"
   ]
  },
  {
   "cell_type": "markdown",
   "metadata": {
    "id": "yvmyHnqYpbf-"
   },
   "source": [
    "    **QUESTION** Plot the confusion matrix and the classification report"
   ]
  },
  {
   "cell_type": "markdown",
   "metadata": {
    "id": "FUXSeJ1ZpsSP"
   },
   "source": [
    "**Tips:**\n",
    "\n",
    "*   classification report link\n",
    "\n",
    "> https://scikit-learn.org/stable/modules/generated/sklearn.metrics.classification_report.html\n",
    "\n",
    "*   Matrix confusion\n",
    "\n",
    "> https://scikit-learn.org/stable/modules/generated/sklearn.metrics.ConfusionMatrixDisplay.html\n",
    "\n",
    "\n",
    "\n"
   ]
  },
  {
   "cell_type": "code",
   "execution_count": 94,
   "metadata": {
    "id": "m4q5wvHNnAdu"
   },
   "outputs": [
    {
     "name": "stdout",
     "output_type": "stream",
     "text": [
      "\u001b[1m63/63\u001b[0m \u001b[32m━━━━━━━━━━━━━━━━━━━━\u001b[0m\u001b[37m\u001b[0m \u001b[1m0s\u001b[0m 1ms/step  \n",
      "[[1.0000000e+00 8.3102680e-09 4.7199563e-08 3.8031858e-21 6.5034329e-14]\n",
      " [9.9998057e-01 2.1312033e-15 1.9443829e-05 6.5973930e-19 2.0014143e-17]\n",
      " [9.9999940e-01 2.6236969e-14 5.8386263e-07 2.0864487e-19 1.8901708e-18]\n",
      " ...\n",
      " [9.9742496e-01 3.0137609e-21 2.5750978e-03 5.0644312e-16 1.6079469e-20]\n",
      " [1.0000000e+00 4.1935872e-21 8.7568751e-28 6.9006848e-17 0.0000000e+00]\n",
      " [9.9606651e-01 4.1979537e-21 3.9335219e-03 2.7398914e-16 4.0348103e-20]]\n",
      "Classification report for classifier my_mlp_model:\n",
      "              precision    recall  f1-score   support\n",
      "\n",
      "  No Failure       0.97      1.00      0.99      1941\n",
      "         TWF       0.00      0.00      0.00        11\n",
      "         HDF       0.00      0.00      0.00        17\n",
      "         PWF       0.00      0.00      0.00        18\n",
      "         OSF       0.00      0.00      0.00        13\n",
      "\n",
      "   micro avg       0.97      0.97      0.97      2000\n",
      "   macro avg       0.19      0.20      0.20      2000\n",
      "weighted avg       0.94      0.97      0.96      2000\n",
      " samples avg       0.97      0.97      0.97      2000\n",
      "\n",
      "\n"
     ]
    },
    {
     "name": "stderr",
     "output_type": "stream",
     "text": [
      "C:\\Users\\mathi\\AppData\\Local\\Packages\\PythonSoftwareFoundation.Python.3.12_qbz5n2kfra8p0\\LocalCache\\local-packages\\Python312\\site-packages\\sklearn\\metrics\\_classification.py:1565: UndefinedMetricWarning: Precision is ill-defined and being set to 0.0 in labels with no predicted samples. Use `zero_division` parameter to control this behavior.\n",
      "  _warn_prf(average, modifier, f\"{metric.capitalize()} is\", len(result))\n"
     ]
    },
    {
     "data": {
      "text/plain": [
       "<sklearn.metrics._plot.confusion_matrix.ConfusionMatrixDisplay at 0x24e7a3fd5b0>"
      ]
     },
     "execution_count": 94,
     "metadata": {},
     "output_type": "execute_result"
    },
    {
     "data": {
      "image/png": "[encoded data removed]",
      "text/plain": [
       "<Figure size 640x480 with 2 Axes>"
      ]
     },
     "metadata": {},
     "output_type": "display_data"
    }
   ],
   "source": [
    "predictions = my_mlp_model.predict(X_test)\n",
    "print(predictions)\n",
    "predictions_bin = np.zeros_like(predictions)\n",
    "predictions_bin[np.arange(predictions.shape[0]), np.argmax(predictions, axis=1)] = 1\n",
    "\n",
    "\n",
    "Y_test_bin  = np.zeros_like(Y_test)\n",
    "Y_test_bin[np.arange(Y_test.shape[0]), np.argmax(Y_test, axis=1)] = 1\n",
    "\n",
    "class_names = [\"No Failure\", \"TWF\", \"HDF\", \"PWF\", \"OSF\"]\n",
    "\n",
    "print(\n",
    "    f\"Classification report for classifier my_mlp_model:\\n\"\n",
    "    f\"{classification_report(Y_test_bin, predictions_bin, target_names=class_names)}\\n\"\n",
    ")\n",
    "\n",
    "cm = confusion_matrix(Y_test_bin.argmax(axis=1), predictions_bin.argmax(axis=1))\n",
    "cm_display = ConfusionMatrixDisplay(confusion_matrix=cm)\n",
    "cm_display.plot()"
   ]
  },
  {
   "cell_type": "markdown",
   "metadata": {
    "id": "ImGsmryGkKhj"
   },
   "source": [
    "**ANALYSIS QUESTION** What do you observe? What can you conclude?"
   ]
  },
  {
   "cell_type": "markdown",
   "metadata": {
    "id": "y1f5OneQknZy"
   },
   "source": [
    "On voit bien sur la matrice de confusion que le modèle fait des bonnes prédictions pour la classe 0 mais pas pour les autres.\n",
    "En effet, la classe 0 correspond à \"No Failure\" et pour rappel, nous avions trouvé les résultats suivants dans la première partie de ce rapport : \n",
    "Nombre d'occurrences de chaque état :\n",
    "| Machine failure | Count |\n",
    "|----------------|-------|\n",
    "| 0              | 9661  |\n",
    "| 1              | 339   |\n",
    "\n",
    "\n",
    "On voit donc que dans le Dataset complet, 97% des données correspondent à une absence de défaut.\n",
    "\n",
    "Ainsi, lorsque le modèle apprend il catégorise en permancence dans la classe 0 ce qui fait que l'accuracy est de 97% comme on peut le voir sur les graphiques plus haut lors de l'apprentissage.\n",
    "\n",
    "Il est donc nécessaire de modifier le dataset pour que les données de la classe 0 soient en proportion similaires à celles des autres classes."
   ]
  },
  {
   "cell_type": "markdown",
   "metadata": {
    "id": "EYUyUAN5ji0x"
   },
   "source": [
    "## **3- Train model With balancing the dataset**\n",
    "\n",
    "---"
   ]
  },
  {
   "cell_type": "markdown",
   "metadata": {
    "id": "EQWut50JhKdD"
   },
   "source": [
    " Methods for rebalancing a dataset:\n",
    "\n",
    "\n",
    "*   Use oversampling techniques (e.g., SMOTE) to generate synthetic data for minority classes\n",
    "\n",
    "\n",
    "> https://imbalanced-learn.org/stable/references/generated/imblearn.over_sampling.SMOTE.html\n",
    "\n",
    "\n",
    "\n",
    "*   Apply undersampling techniques (e.g., random undersampling, Tomek Links, Edited Nearest Neighbors) to reduce the majority class size\n",
    "\n",
    "\n",
    "\n",
    "> https://imbalanced-learn.org/stable/references/generated/imblearn.under_sampling.RandomUnderSampler.html\n",
    "\n",
    "\n",
    "\n",
    "*   Use class weighting during model training to penalize errors on minority classes\n",
    "\n",
    "\n",
    "\n",
    "> https://www.tensorflow.org/tutorials/structured_data/imbalanced_data?hl=fr\n"
   ]
  },
  {
   "cell_type": "markdown",
   "metadata": {
    "id": "--pWJzaUnXdY"
   },
   "source": [
    "**QUESTION:** Create X_train, Y_train, X_test, and Y_test. How many elements are present in X_train, Y_train, X_test, and Y_test? (Print the values)"
   ]
  },
  {
   "cell_type": "code",
   "execution_count": null,
   "metadata": {},
   "outputs": [
    {
     "name": "stdout",
     "output_type": "stream",
     "text": [
      "Counter({np.int64(0): 9670, np.int64(2): 115, np.int64(3): 91, np.int64(4): 78, np.int64(1): 46})\n",
      "Original dataset shape: Counter({np.int64(0): 9670, np.int64(2): 115, np.int64(3): 91, np.int64(4): 78, np.int64(1): 46})\n",
      "Resampled dataset shape with SMOTE: Counter({np.int64(0): 9670, np.int64(3): 9670, np.int64(1): 9670, np.int64(4): 9670, np.int64(2): 9670})\n",
      "[[0. 1. 0. 0. 0.]\n",
      " [0. 1. 0. 0. 0.]\n",
      " [0. 1. 0. 0. 0.]\n",
      " ...\n",
      " [0. 1. 0. 0. 0.]\n",
      " [0. 1. 0. 0. 0.]\n",
      " [0. 1. 0. 0. 0.]]\n",
      "Nombre d'éléments dans X_train : (38680, 5)\n",
      "Nombre d'éléments dans Y_train : (38680, 5)\n",
      "Nombre d'éléments dans X_test : (9670, 5)\n",
      "Nombre d'éléments dans Y_test : (9670, 5)\n"
     ]
    }
   ],
   "source": [
    "# Normalisation des données\n",
    "#scaler = StandardScaler()\n",
    "#X_scaled = scaler.fit_transform(X)\n",
    "\n",
    "\n",
    "# Convertir les étiquettes multilabel en une seule étiquette par échantillon\n",
    "Y_single_label = np.array([np.argmax(row) for row in Y])\n",
    "print(Counter(Y_single_label))  # Afficher la distribution originale des classes\n",
    "\n",
    "# Afficher la distribution originale des classes\n",
    "print('Original dataset shape:', Counter(Y_single_label))\n",
    "\n",
    "# Appliquer SMOTE pour équilibrer les classes\n",
    "sm = SMOTE(random_state=42)\n",
    "#Si on veut appliquer uniquement SMOTE on remplace Y_res par Y_single_label\n",
    "X_res, Y_res = sm.fit_resample(X_scaled, Y_single_label)\n",
    "\n",
    "# Afficher la distribution des classes après rééchantillonnage\n",
    "print('Resampled dataset shape with SMOTE:', Counter(Y_res))\n",
    "\n",
    "#A commenter si on veut appliquer uniquement SMOTE\n",
    "# Appliquer RandomUnderSampler pour équilibrer les classes avec sampling_strategy='auto'\n",
    "rus = RandomUnderSampler(sampling_strategy='auto', random_state=42)\n",
    "X_res, Y_res_single_label = rus.fit_resample(X_res, Y_res)\n",
    "\n",
    "# Afficher la distribution des classes après rééchantillonnage\n",
    "print('Resampled dataset shape:', Counter(Y_res_single_label))\n",
    "\n",
    "# Convertir les étiquettes rééchantillonnées en format multilabel (one-hot encoding)\n",
    "Y_res_multilabel = np.zeros((Y_res_single_label.size, Y.shape[1]))\n",
    "Y_res_multilabel[np.arange(Y_res_single_label.size), Y_res_single_label] = 1\n",
    "#Attention, avec cette version si une sample est 0 1 1 0 0 elle sera mise dans la classe 1 et la classe 2\n",
    "\n",
    "\n",
    "# Diviser les données rééchantillonnées en ensembles d'entraînement et de test\n",
    "X_train_SMOTE, X_test_SMOTE, Y_train_SMOTE, Y_test_SMOTE = train_test_split(X_res, Y_res_multilabel, test_size=0.2, random_state=42)\n",
    "\n",
    "# Afficher les éléments de Y_test dont le premier élément est 1\n",
    "#Seulement pour des tests\n",
    "Y_test_filtered = Y_test_SMOTE[Y_test_SMOTE[:, 1] == 1]\n",
    "print(Y_test_filtered)\n",
    "\n",
    "# Afficher le nombre d'éléments dans chaque ensemble\n",
    "print(f\"Nombre d'éléments dans X_train : {X_train_SMOTE.shape}\")\n",
    "print(f\"Nombre d'éléments dans Y_train : {Y_train_SMOTE.shape}\")\n",
    "print(f\"Nombre d'éléments dans X_test : {X_test_SMOTE.shape}\")\n",
    "print(f\"Nombre d'éléments dans Y_test : {Y_test_SMOTE.shape}\")"
   ]
  },
  {
   "cell_type": "markdown",
   "metadata": {
    "id": "-YcZXIadnbcm"
   },
   "source": [
    "**ANALYSIS QUESTION:** Explain the choices you made to balance the dataset."
   ]
  },
  {
   "cell_type": "markdown",
   "metadata": {
    "id": "Rku3pnWxnxhI"
   },
   "source": [
    "TODO : Change\n",
    "\n",
    "Nous ne souhaitions pas utiliser la méthode d'Undersampling puisque nous avons déjà peu d'échantillon présentant des failures. Cela aurait fait perdre beaucoup d'information et notre dataset aurait été très petit.\n",
    "\n",
    "Nous avons donc testé la méthode SMOTE, qui va permettre de générer des échantillons pour les classes en minorité. Ainsi, on enrichira notre dataset au lieu de l'appauvrir comme la technique précédente."
   ]
  },
  {
   "cell_type": "markdown",
   "metadata": {
    "id": "BVryPCQFn4Dd"
   },
   "source": [
    "**QUESTION:** Code below the model architecture\n"
   ]
  },
  {
   "cell_type": "markdown",
   "metadata": {
    "id": "Q5BGfI7TpVDD"
   },
   "source": [
    "**TIP:** It could be interesting to keep it the same as before"
   ]
  },
  {
   "cell_type": "code",
   "execution_count": null,
   "metadata": {
    "id": "S0UbMHN6OC51"
   },
   "outputs": [
    {
     "data": {
      "text/html": [
       "<pre style=\"white-space:pre;overflow-x:auto;line-height:normal;font-family:Menlo,'DejaVu Sans Mono',consolas,'Courier New',monospace\"><span style=\"font-weight: bold\">Model: \"improved_mlp_model\"</span>\n",
       "</pre>\n"
      ],
      "text/plain": [
       "\u001b[1mModel: \"improved_mlp_model\"\u001b[0m\n"
      ]
     },
     "metadata": {},
     "output_type": "display_data"
    },
    {
     "data": {
      "text/html": [
       "<pre style=\"white-space:pre;overflow-x:auto;line-height:normal;font-family:Menlo,'DejaVu Sans Mono',consolas,'Courier New',monospace\">┏━━━━━━━━━━━━━━━━━━━━━━━━━━━━━━━━━┳━━━━━━━━━━━━━━━━━━━━━━━━┳━━━━━━━━━━━━━━━┓\n",
       "┃<span style=\"font-weight: bold\"> Layer (type)                    </span>┃<span style=\"font-weight: bold\"> Output Shape           </span>┃<span style=\"font-weight: bold\">       Param # </span>┃\n",
       "┡━━━━━━━━━━━━━━━━━━━━━━━━━━━━━━━━━╇━━━━━━━━━━━━━━━━━━━━━━━━╇━━━━━━━━━━━━━━━┩\n",
       "│ input_layer_16 (<span style=\"color: #0087ff; text-decoration-color: #0087ff\">InputLayer</span>)     │ (<span style=\"color: #00d7ff; text-decoration-color: #00d7ff\">None</span>, <span style=\"color: #00af00; text-decoration-color: #00af00\">5</span>)              │             <span style=\"color: #00af00; text-decoration-color: #00af00\">0</span> │\n",
       "├─────────────────────────────────┼────────────────────────┼───────────────┤\n",
       "│ dense_63 (<span style=\"color: #0087ff; text-decoration-color: #0087ff\">Dense</span>)                │ (<span style=\"color: #00d7ff; text-decoration-color: #00d7ff\">None</span>, <span style=\"color: #00af00; text-decoration-color: #00af00\">64</span>)             │           <span style=\"color: #00af00; text-decoration-color: #00af00\">384</span> │\n",
       "├─────────────────────────────────┼────────────────────────┼───────────────┤\n",
       "│ dense_64 (<span style=\"color: #0087ff; text-decoration-color: #0087ff\">Dense</span>)                │ (<span style=\"color: #00d7ff; text-decoration-color: #00d7ff\">None</span>, <span style=\"color: #00af00; text-decoration-color: #00af00\">32</span>)             │         <span style=\"color: #00af00; text-decoration-color: #00af00\">2,080</span> │\n",
       "├─────────────────────────────────┼────────────────────────┼───────────────┤\n",
       "│ dense_65 (<span style=\"color: #0087ff; text-decoration-color: #0087ff\">Dense</span>)                │ (<span style=\"color: #00d7ff; text-decoration-color: #00d7ff\">None</span>, <span style=\"color: #00af00; text-decoration-color: #00af00\">5</span>)              │           <span style=\"color: #00af00; text-decoration-color: #00af00\">165</span> │\n",
       "└─────────────────────────────────┴────────────────────────┴───────────────┘\n",
       "</pre>\n"
      ],
      "text/plain": [
       "┏━━━━━━━━━━━━━━━━━━━━━━━━━━━━━━━━━┳━━━━━━━━━━━━━━━━━━━━━━━━┳━━━━━━━━━━━━━━━┓\n",
       "┃\u001b[1m \u001b[0m\u001b[1mLayer (type)                   \u001b[0m\u001b[1m \u001b[0m┃\u001b[1m \u001b[0m\u001b[1mOutput Shape          \u001b[0m\u001b[1m \u001b[0m┃\u001b[1m \u001b[0m\u001b[1m      Param #\u001b[0m\u001b[1m \u001b[0m┃\n",
       "┡━━━━━━━━━━━━━━━━━━━━━━━━━━━━━━━━━╇━━━━━━━━━━━━━━━━━━━━━━━━╇━━━━━━━━━━━━━━━┩\n",
       "│ input_layer_16 (\u001b[38;5;33mInputLayer\u001b[0m)     │ (\u001b[38;5;45mNone\u001b[0m, \u001b[38;5;34m5\u001b[0m)              │             \u001b[38;5;34m0\u001b[0m │\n",
       "├─────────────────────────────────┼────────────────────────┼───────────────┤\n",
       "│ dense_63 (\u001b[38;5;33mDense\u001b[0m)                │ (\u001b[38;5;45mNone\u001b[0m, \u001b[38;5;34m64\u001b[0m)             │           \u001b[38;5;34m384\u001b[0m │\n",
       "├─────────────────────────────────┼────────────────────────┼───────────────┤\n",
       "│ dense_64 (\u001b[38;5;33mDense\u001b[0m)                │ (\u001b[38;5;45mNone\u001b[0m, \u001b[38;5;34m32\u001b[0m)             │         \u001b[38;5;34m2,080\u001b[0m │\n",
       "├─────────────────────────────────┼────────────────────────┼───────────────┤\n",
       "│ dense_65 (\u001b[38;5;33mDense\u001b[0m)                │ (\u001b[38;5;45mNone\u001b[0m, \u001b[38;5;34m5\u001b[0m)              │           \u001b[38;5;34m165\u001b[0m │\n",
       "└─────────────────────────────────┴────────────────────────┴───────────────┘\n"
      ]
     },
     "metadata": {},
     "output_type": "display_data"
    },
    {
     "data": {
      "text/html": [
       "<pre style=\"white-space:pre;overflow-x:auto;line-height:normal;font-family:Menlo,'DejaVu Sans Mono',consolas,'Courier New',monospace\"><span style=\"font-weight: bold\"> Total params: </span><span style=\"color: #00af00; text-decoration-color: #00af00\">2,629</span> (10.27 KB)\n",
       "</pre>\n"
      ],
      "text/plain": [
       "\u001b[1m Total params: \u001b[0m\u001b[38;5;34m2,629\u001b[0m (10.27 KB)\n"
      ]
     },
     "metadata": {},
     "output_type": "display_data"
    },
    {
     "data": {
      "text/html": [
       "<pre style=\"white-space:pre;overflow-x:auto;line-height:normal;font-family:Menlo,'DejaVu Sans Mono',consolas,'Courier New',monospace\"><span style=\"font-weight: bold\"> Trainable params: </span><span style=\"color: #00af00; text-decoration-color: #00af00\">2,629</span> (10.27 KB)\n",
       "</pre>\n"
      ],
      "text/plain": [
       "\u001b[1m Trainable params: \u001b[0m\u001b[38;5;34m2,629\u001b[0m (10.27 KB)\n"
      ]
     },
     "metadata": {},
     "output_type": "display_data"
    },
    {
     "data": {
      "text/html": [
       "<pre style=\"white-space:pre;overflow-x:auto;line-height:normal;font-family:Menlo,'DejaVu Sans Mono',consolas,'Courier New',monospace\"><span style=\"font-weight: bold\"> Non-trainable params: </span><span style=\"color: #00af00; text-decoration-color: #00af00\">0</span> (0.00 B)\n",
       "</pre>\n"
      ],
      "text/plain": [
       "\u001b[1m Non-trainable params: \u001b[0m\u001b[38;5;34m0\u001b[0m (0.00 B)\n"
      ]
     },
     "metadata": {},
     "output_type": "display_data"
    }
   ],
   "source": [
    "inputs = tf.keras.Input(shape=(X_train_SMOTE.shape[1],))  # Première couche de la taille des données d'entrée (5)\n",
    "x = tf.keras.layers.Dense(32, activation='relu')(inputs)  # 3 couches cachées\n",
    "x = tf.keras.layers.Dense(64, activation='relu')(inputs) \n",
    "x = tf.keras.layers.Dense(32, activation='relu')(x) \n",
    "outputs = tf.keras.layers.Dense(Y_train_SMOTE.shape[1], activation='softmax')(x)  # Couche de sortie pour 5 classes\n",
    "improved_mlp_model = tf.keras.Model(inputs=inputs, outputs=outputs, name=\"improved_mlp_model\")\n",
    "\n",
    "improved_mlp_model.summary()\n",
    "\n",
    "# Compilation du modèle\n",
    "improved_mlp_model.compile(optimizer='adam', loss='categorical_crossentropy', metrics=['accuracy'])\n"
   ]
  },
  {
   "cell_type": "markdown",
   "metadata": {
    "id": "wBZyS7DdofFq"
   },
   "source": [
    "**QUESTION** Code below the algorithms allowing to train model\n"
   ]
  },
  {
   "cell_type": "code",
   "execution_count": 121,
   "metadata": {
    "id": "my6Ck5JbMDOG"
   },
   "outputs": [
    {
     "name": "stdout",
     "output_type": "stream",
     "text": [
      "Epoch 1/40\n",
      "\u001b[1m1209/1209\u001b[0m \u001b[32m━━━━━━━━━━━━━━━━━━━━\u001b[0m\u001b[37m\u001b[0m \u001b[1m2s\u001b[0m 901us/step - accuracy: 0.4756 - loss: 13.9986\n",
      "Epoch 2/40\n",
      "\u001b[1m1209/1209\u001b[0m \u001b[32m━━━━━━━━━━━━━━━━━━━━\u001b[0m\u001b[37m\u001b[0m \u001b[1m1s\u001b[0m 991us/step - accuracy: 0.7267 - loss: 0.9233\n",
      "Epoch 3/40\n",
      "\u001b[1m1209/1209\u001b[0m \u001b[32m━━━━━━━━━━━━━━━━━━━━\u001b[0m\u001b[37m\u001b[0m \u001b[1m1s\u001b[0m 1ms/step - accuracy: 0.7696 - loss: 0.8153\n",
      "Epoch 4/40\n",
      "\u001b[1m1209/1209\u001b[0m \u001b[32m━━━━━━━━━━━━━━━━━━━━\u001b[0m\u001b[37m\u001b[0m \u001b[1m1s\u001b[0m 858us/step - accuracy: 0.7849 - loss: 0.7572\n",
      "Epoch 5/40\n",
      "\u001b[1m1209/1209\u001b[0m \u001b[32m━━━━━━━━━━━━━━━━━━━━\u001b[0m\u001b[37m\u001b[0m \u001b[1m1s\u001b[0m 893us/step - accuracy: 0.7928 - loss: 0.7609\n",
      "Epoch 6/40\n",
      "\u001b[1m1209/1209\u001b[0m \u001b[32m━━━━━━━━━━━━━━━━━━━━\u001b[0m\u001b[37m\u001b[0m \u001b[1m1s\u001b[0m 826us/step - accuracy: 0.8134 - loss: 0.6905\n",
      "Epoch 7/40\n",
      "\u001b[1m1209/1209\u001b[0m \u001b[32m━━━━━━━━━━━━━━━━━━━━\u001b[0m\u001b[37m\u001b[0m \u001b[1m1s\u001b[0m 845us/step - accuracy: 0.8346 - loss: 0.5814\n",
      "Epoch 8/40\n",
      "\u001b[1m1209/1209\u001b[0m \u001b[32m━━━━━━━━━━━━━━━━━━━━\u001b[0m\u001b[37m\u001b[0m \u001b[1m1s\u001b[0m 930us/step - accuracy: 0.8267 - loss: 0.6110\n",
      "Epoch 9/40\n",
      "\u001b[1m1209/1209\u001b[0m \u001b[32m━━━━━━━━━━━━━━━━━━━━\u001b[0m\u001b[37m\u001b[0m \u001b[1m1s\u001b[0m 892us/step - accuracy: 0.8313 - loss: 0.6000\n",
      "Epoch 10/40\n",
      "\u001b[1m1209/1209\u001b[0m \u001b[32m━━━━━━━━━━━━━━━━━━━━\u001b[0m\u001b[37m\u001b[0m \u001b[1m1s\u001b[0m 859us/step - accuracy: 0.8438 - loss: 0.5335\n",
      "Epoch 11/40\n",
      "\u001b[1m1209/1209\u001b[0m \u001b[32m━━━━━━━━━━━━━━━━━━━━\u001b[0m\u001b[37m\u001b[0m \u001b[1m1s\u001b[0m 805us/step - accuracy: 0.8612 - loss: 0.4565\n",
      "Epoch 12/40\n",
      "\u001b[1m1209/1209\u001b[0m \u001b[32m━━━━━━━━━━━━━━━━━━━━\u001b[0m\u001b[37m\u001b[0m \u001b[1m1s\u001b[0m 847us/step - accuracy: 0.8683 - loss: 0.4240\n",
      "Epoch 13/40\n",
      "\u001b[1m1209/1209\u001b[0m \u001b[32m━━━━━━━━━━━━━━━━━━━━\u001b[0m\u001b[37m\u001b[0m \u001b[1m1s\u001b[0m 952us/step - accuracy: 0.8768 - loss: 0.3853\n",
      "Epoch 14/40\n",
      "\u001b[1m1209/1209\u001b[0m \u001b[32m━━━━━━━━━━━━━━━━━━━━\u001b[0m\u001b[37m\u001b[0m \u001b[1m1s\u001b[0m 997us/step - accuracy: 0.8756 - loss: 0.3929\n",
      "Epoch 15/40\n",
      "\u001b[1m1209/1209\u001b[0m \u001b[32m━━━━━━━━━━━━━━━━━━━━\u001b[0m\u001b[37m\u001b[0m \u001b[1m1s\u001b[0m 852us/step - accuracy: 0.8861 - loss: 0.3600\n",
      "Epoch 16/40\n",
      "\u001b[1m1209/1209\u001b[0m \u001b[32m━━━━━━━━━━━━━━━━━━━━\u001b[0m\u001b[37m\u001b[0m \u001b[1m1s\u001b[0m 937us/step - accuracy: 0.8867 - loss: 0.3630\n",
      "Epoch 17/40\n",
      "\u001b[1m1209/1209\u001b[0m \u001b[32m━━━━━━━━━━━━━━━━━━━━\u001b[0m\u001b[37m\u001b[0m \u001b[1m1s\u001b[0m 869us/step - accuracy: 0.8915 - loss: 0.3391\n",
      "Epoch 18/40\n",
      "\u001b[1m1209/1209\u001b[0m \u001b[32m━━━━━━━━━━━━━━━━━━━━\u001b[0m\u001b[37m\u001b[0m \u001b[1m1s\u001b[0m 880us/step - accuracy: 0.8999 - loss: 0.3219\n",
      "Epoch 19/40\n",
      "\u001b[1m1209/1209\u001b[0m \u001b[32m━━━━━━━━━━━━━━━━━━━━\u001b[0m\u001b[37m\u001b[0m \u001b[1m1s\u001b[0m 865us/step - accuracy: 0.9008 - loss: 0.3224\n",
      "Epoch 20/40\n",
      "\u001b[1m1209/1209\u001b[0m \u001b[32m━━━━━━━━━━━━━━━━━━━━\u001b[0m\u001b[37m\u001b[0m \u001b[1m1s\u001b[0m 894us/step - accuracy: 0.9020 - loss: 0.3076\n",
      "Epoch 21/40\n",
      "\u001b[1m1209/1209\u001b[0m \u001b[32m━━━━━━━━━━━━━━━━━━━━\u001b[0m\u001b[37m\u001b[0m \u001b[1m1s\u001b[0m 1ms/step - accuracy: 0.9061 - loss: 0.3028\n",
      "Epoch 22/40\n",
      "\u001b[1m1209/1209\u001b[0m \u001b[32m━━━━━━━━━━━━━━━━━━━━\u001b[0m\u001b[37m\u001b[0m \u001b[1m1s\u001b[0m 1ms/step - accuracy: 0.9106 - loss: 0.2843\n",
      "Epoch 23/40\n",
      "\u001b[1m1209/1209\u001b[0m \u001b[32m━━━━━━━━━━━━━━━━━━━━\u001b[0m\u001b[37m\u001b[0m \u001b[1m1s\u001b[0m 1ms/step - accuracy: 0.9101 - loss: 0.2841\n",
      "Epoch 24/40\n",
      "\u001b[1m1209/1209\u001b[0m \u001b[32m━━━━━━━━━━━━━━━━━━━━\u001b[0m\u001b[37m\u001b[0m \u001b[1m1s\u001b[0m 1ms/step - accuracy: 0.9156 - loss: 0.2645\n",
      "Epoch 25/40\n",
      "\u001b[1m1209/1209\u001b[0m \u001b[32m━━━━━━━━━━━━━━━━━━━━\u001b[0m\u001b[37m\u001b[0m \u001b[1m1s\u001b[0m 1ms/step - accuracy: 0.9184 - loss: 0.2593\n",
      "Epoch 26/40\n",
      "\u001b[1m1209/1209\u001b[0m \u001b[32m━━━━━━━━━━━━━━━━━━━━\u001b[0m\u001b[37m\u001b[0m \u001b[1m1s\u001b[0m 1ms/step - accuracy: 0.9136 - loss: 0.2642\n",
      "Epoch 27/40\n",
      "\u001b[1m1209/1209\u001b[0m \u001b[32m━━━━━━━━━━━━━━━━━━━━\u001b[0m\u001b[37m\u001b[0m \u001b[1m1s\u001b[0m 1ms/step - accuracy: 0.9195 - loss: 0.2497\n",
      "Epoch 28/40\n",
      "\u001b[1m1209/1209\u001b[0m \u001b[32m━━━━━━━━━━━━━━━━━━━━\u001b[0m\u001b[37m\u001b[0m \u001b[1m1s\u001b[0m 1ms/step - accuracy: 0.9183 - loss: 0.2568\n",
      "Epoch 29/40\n",
      "\u001b[1m1209/1209\u001b[0m \u001b[32m━━━━━━━━━━━━━━━━━━━━\u001b[0m\u001b[37m\u001b[0m \u001b[1m1s\u001b[0m 1ms/step - accuracy: 0.9192 - loss: 0.2485\n",
      "Epoch 30/40\n",
      "\u001b[1m1209/1209\u001b[0m \u001b[32m━━━━━━━━━━━━━━━━━━━━\u001b[0m\u001b[37m\u001b[0m \u001b[1m2s\u001b[0m 1ms/step - accuracy: 0.9191 - loss: 0.2492\n",
      "Epoch 31/40\n",
      "\u001b[1m1209/1209\u001b[0m \u001b[32m━━━━━━━━━━━━━━━━━━━━\u001b[0m\u001b[37m\u001b[0m \u001b[1m1s\u001b[0m 1ms/step - accuracy: 0.9230 - loss: 0.2420\n",
      "Epoch 32/40\n",
      "\u001b[1m1209/1209\u001b[0m \u001b[32m━━━━━━━━━━━━━━━━━━━━\u001b[0m\u001b[37m\u001b[0m \u001b[1m1s\u001b[0m 1ms/step - accuracy: 0.9195 - loss: 0.2509\n",
      "Epoch 33/40\n",
      "\u001b[1m1209/1209\u001b[0m \u001b[32m━━━━━━━━━━━━━━━━━━━━\u001b[0m\u001b[37m\u001b[0m \u001b[1m1s\u001b[0m 1ms/step - accuracy: 0.9246 - loss: 0.2328\n",
      "Epoch 34/40\n",
      "\u001b[1m1209/1209\u001b[0m \u001b[32m━━━━━━━━━━━━━━━━━━━━\u001b[0m\u001b[37m\u001b[0m \u001b[1m1s\u001b[0m 1ms/step - accuracy: 0.9249 - loss: 0.2319\n",
      "Epoch 35/40\n",
      "\u001b[1m1209/1209\u001b[0m \u001b[32m━━━━━━━━━━━━━━━━━━━━\u001b[0m\u001b[37m\u001b[0m \u001b[1m1s\u001b[0m 1ms/step - accuracy: 0.9240 - loss: 0.2336\n",
      "Epoch 36/40\n",
      "\u001b[1m1209/1209\u001b[0m \u001b[32m━━━━━━━━━━━━━━━━━━━━\u001b[0m\u001b[37m\u001b[0m \u001b[1m1s\u001b[0m 1ms/step - accuracy: 0.9266 - loss: 0.2255\n",
      "Epoch 37/40\n",
      "\u001b[1m1209/1209\u001b[0m \u001b[32m━━━━━━━━━━━━━━━━━━━━\u001b[0m\u001b[37m\u001b[0m \u001b[1m1s\u001b[0m 1ms/step - accuracy: 0.9274 - loss: 0.2241\n",
      "Epoch 38/40\n",
      "\u001b[1m1209/1209\u001b[0m \u001b[32m━━━━━━━━━━━━━━━━━━━━\u001b[0m\u001b[37m\u001b[0m \u001b[1m1s\u001b[0m 1ms/step - accuracy: 0.9283 - loss: 0.2280\n",
      "Epoch 39/40\n",
      "\u001b[1m1209/1209\u001b[0m \u001b[32m━━━━━━━━━━━━━━━━━━━━\u001b[0m\u001b[37m\u001b[0m \u001b[1m1s\u001b[0m 1ms/step - accuracy: 0.9257 - loss: 0.2318\n",
      "Epoch 40/40\n",
      "\u001b[1m1209/1209\u001b[0m \u001b[32m━━━━━━━━━━━━━━━━━━━━\u001b[0m\u001b[37m\u001b[0m \u001b[1m1s\u001b[0m 1ms/step - accuracy: 0.9307 - loss: 0.2171\n",
      "\u001b[1m303/303\u001b[0m \u001b[32m━━━━━━━━━━━━━━━━━━━━\u001b[0m\u001b[37m\u001b[0m \u001b[1m0s\u001b[0m 934us/step - accuracy: 0.9315 - loss: 0.2162\n",
      "Test accuracy: 0.9271975159645081\n"
     ]
    },
    {
     "data": {
      "image/png": "[encoded data removed]",
      "text/plain": [
       "<Figure size 640x480 with 1 Axes>"
      ]
     },
     "metadata": {},
     "output_type": "display_data"
    },
    {
     "data": {
      "image/png": "[encoded data removed]",
      "text/plain": [
       "<Figure size 640x480 with 1 Axes>"
      ]
     },
     "metadata": {},
     "output_type": "display_data"
    },
    {
     "name": "stdout",
     "output_type": "stream",
     "text": [
      "Final Accuracy on test set: 0.9271975159645081\n"
     ]
    }
   ],
   "source": [
    "nb_epochs=40\n",
    "batch_size=32\n",
    "\n",
    "training_history = improved_mlp_model.fit(X_train_SMOTE,Y_train_SMOTE,\n",
    "                                    epochs=nb_epochs,\n",
    "                                    batch_size=batch_size)\n",
    "\n",
    "# Évaluation du modèle sur les données de test\n",
    "test_loss, test_acc = improved_mlp_model.evaluate(X_test_SMOTE, Y_test_SMOTE)\n",
    "print(f\"Test accuracy: {test_acc}\")\n",
    "\n",
    "display_training_curves(training_history)\n",
    "print(\"Final Accuracy on test set:\", test_acc)"
   ]
  },
  {
   "cell_type": "markdown",
   "metadata": {
    "id": "77ftkfv5oqp0"
   },
   "source": [
    "**QUESTION** Plot the confusion matrix and the classification report"
   ]
  },
  {
   "cell_type": "code",
   "execution_count": 122,
   "metadata": {
    "id": "kRmkOI_co5d9"
   },
   "outputs": [
    {
     "name": "stdout",
     "output_type": "stream",
     "text": [
      "\u001b[1m303/303\u001b[0m \u001b[32m━━━━━━━━━━━━━━━━━━━━\u001b[0m\u001b[37m\u001b[0m \u001b[1m0s\u001b[0m 752us/step\n",
      "Classification report for classifier improved_mlp_model:\n",
      "              precision    recall  f1-score   support\n",
      "\n",
      "  No Failure       0.99      0.81      0.89      1959\n",
      "         TWF       0.93      0.91      0.92      1858\n",
      "         HDF       0.86      0.97      0.91      1956\n",
      "         PWF       0.99      0.98      0.98      1966\n",
      "         OSF       0.89      0.97      0.93      1931\n",
      "\n",
      "   micro avg       0.93      0.93      0.93      9670\n",
      "   macro avg       0.93      0.93      0.93      9670\n",
      "weighted avg       0.93      0.93      0.93      9670\n",
      " samples avg       0.93      0.93      0.93      9670\n",
      "\n",
      "\n"
     ]
    },
    {
     "data": {
      "text/plain": [
       "<sklearn.metrics._plot.confusion_matrix.ConfusionMatrixDisplay at 0x24e8244e9f0>"
      ]
     },
     "execution_count": 122,
     "metadata": {},
     "output_type": "execute_result"
    },
    {
     "data": {
      "image/png": "[encoded data removed]",
      "text/plain": [
       "<Figure size 640x480 with 2 Axes>"
      ]
     },
     "metadata": {},
     "output_type": "display_data"
    }
   ],
   "source": [
    "predictions = improved_mlp_model.predict(X_test_SMOTE)\n",
    "\n",
    "predictions_bin = np.zeros_like(predictions)\n",
    "predictions_bin[np.arange(predictions.shape[0]), np.argmax(predictions, axis=1)] = 1\n",
    "\n",
    "\n",
    "Y_test_bin  = np.zeros_like(Y_test_SMOTE)\n",
    "Y_test_bin[np.arange(Y_test_SMOTE.shape[0]), np.argmax(Y_test_SMOTE, axis=1)] = 1\n",
    "\n",
    "\n",
    "print(\n",
    "    f\"Classification report for classifier improved_mlp_model:\\n\"\n",
    "    f\"{classification_report(Y_test_bin, predictions_bin, target_names=class_names)}\\n\"\n",
    ")\n",
    "\n",
    "cm = confusion_matrix(Y_test_bin.argmax(axis=1), predictions_bin.argmax(axis=1))\n",
    "cm_display = ConfusionMatrixDisplay(confusion_matrix=cm)\n",
    "cm_display.plot()"
   ]
  },
  {
   "cell_type": "markdown",
   "metadata": {
    "id": "Zn5BBAI3pHXf"
   },
   "source": [
    "**ANALYSIS QUESTION** What do you observe? What can you conclude?"
   ]
  },
  {
   "cell_type": "markdown",
   "metadata": {
    "id": "SIf8rfU9pIGd"
   },
   "source": [
    "\"Write your response here\""
   ]
  },
  {
   "cell_type": "markdown",
   "metadata": {},
   "source": [
    "**Exportation of the model :**"
   ]
  },
  {
   "cell_type": "code",
   "execution_count": 123,
   "metadata": {},
   "outputs": [],
   "source": [
    "'''improved_mlp_model.save('./saved_models/improved_mlp_model.h5', save_format='h5')\n",
    "\n",
    "converter = tf.lite.TFLiteConverter.from_keras_model(improved_mlp_model)\n",
    "tflite_model = converter.convert()\n",
    "with open('./saved_models/improved_mlp_model.tflite', 'wb') as f:\n",
    "    f.write(tflite_model)\n",
    "'''\n",
    "\n",
    "Y_test_single_label = np.array([np.argmax(row) for row in Y_test_SMOTE])\n",
    "\n",
    "#Les tableaux de données exportées sont ceux avec le SMOTE correspondant aux données avec des classes équilibrées TODO\n",
    "np.savetxt(\"./saved_data/X_test.csv\", X_test_SMOTE.reshape(X_test_SMOTE.shape[0], -1), delimiter=\",\", fmt=\"%.6f\")  # On exporte en flottants\n",
    "np.savetxt(\"./saved_data/Y_test.csv\", Y_test_single_label.reshape(Y_test_single_label.shape[0], -1), delimiter=\",\", fmt=\"%d\")  # Save as .csv\n",
    "np.save(\"./saved_data/X_test.npy\", X_test_SMOTE)  # Save as .npy\n",
    "np.save(\"./saved_data/Y_test.npy\", Y_test_single_label)  # Save as .npy"
   ]
  },
  {
   "cell_type": "code",
   "execution_count": 124,
   "metadata": {},
   "outputs": [
    {
     "name": "stdout",
     "output_type": "stream",
     "text": [
      "\u001b[1m1/1\u001b[0m \u001b[32m━━━━━━━━━━━━━━━━━━━━\u001b[0m\u001b[37m\u001b[0m \u001b[1m0s\u001b[0m 35ms/step\n",
      "[[1. 0. 0. 0. 0.]]\n",
      "Input data: [[ 298.4  308.  1416.    38.2  198. ]]\n",
      "Predicted class: No Failure\n",
      "Expected result : [0 1 0 0 0]\n"
     ]
    }
   ],
   "source": [
    "def test_single_input(model, input_data, class_names):\n",
    "    # Reshape the input data to match the model's expected input shape\n",
    "    input_data = np.array(input_data).reshape(1, -1)\n",
    "    \n",
    "    # Make a prediction\n",
    "    prediction = model.predict(input_data)\n",
    "    # Convert the prediction to a binary format\n",
    "    prediction_bin = np.zeros_like(prediction)\n",
    "    prediction_bin[np.arange(prediction.shape[0]), np.argmax(prediction, axis=1)] = 1\n",
    "    print(prediction_bin)\n",
    "\n",
    "    # Get the predicted class\n",
    "    predicted_class = class_names[np.argmax(prediction)]\n",
    "    \n",
    "    print(f\"Input data: {input_data}\")\n",
    "    print(f\"Predicted class: {predicted_class}\")\n",
    "\n",
    "# Example input data (replace with actual input data)\n",
    "index = np.where(Y[:, 1] == 1)[0][5]  # Trouver le premier index où TWF est 1\n",
    "\n",
    "example_input = X[index]\n",
    "\n",
    "# Test the model on the example input\n",
    "test_single_input(improved_mlp_model, example_input, class_names)\n",
    "print(\"Expected result :\", Y[index])"
   ]
  }
 ],
 "metadata": {
  "colab": {
   "provenance": []
  },
  "kernelspec": {
   "display_name": "Python 3",
   "language": "python",
   "name": "python3"
  },
  "language_info": {
   "codemirror_mode": {
    "name": "ipython",
    "version": 3
   },
   "file_extension": ".py",
   "mimetype": "text/x-python",
   "name": "python",
   "nbconvert_exporter": "python",
   "pygments_lexer": "ipython3",
   "version": "3.12.9"
  }
 },
 "nbformat": 4,
 "nbformat_minor": 0
}
