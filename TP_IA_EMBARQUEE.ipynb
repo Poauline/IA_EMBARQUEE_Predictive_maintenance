{
  "cells": [
    {
      "cell_type": "markdown",
      "metadata": {
        "id": "ZLQS0KLMycmb"
      },
      "source": [
        "## **PRACTICAL SESSION 1** — Deep Learning for predictive maintenance"
      ]
    },
    {
      "cell_type": "markdown",
      "metadata": {
        "id": "3mjNAfgj4K1_"
      },
      "source": [
        "The dataset used is the **AI4I 2020** Predictive Maintenance Dataset, which contains 10,000 instances of industrial sensor data. Each instance represents the operating condition of a machine and is associated with a label indicating whether a failure has occurred and, if so, what type of failure it is.\n",
        "\n",
        "The 5 possible labels are:\n",
        "\n",
        "\n",
        "\n",
        "*   **TWF**: Tool Wear Failure\n",
        "*   **HDF**: Heat Dissipation Failure\n",
        "*   **PWF**: Power Failure\n",
        "*   **OSF**: Overstrain Failure\n",
        "*   **RNF**: Random Failure\n",
        "\n",
        "\n",
        "The data is available on eCAMPUS as CSV file called: \"ai4i2020.csv\"\n",
        "\n"
      ]
    },
    {
      "cell_type": "markdown",
      "metadata": {
        "id": "4_LBMVsgRI9W"
      },
      "source": [
        "## **PRACTICAL SESSION Goal** — Ceate a deep leanring model allowing to realize a predictive maintenance mission"
      ]
    },
    {
      "cell_type": "markdown",
      "metadata": {
        "id": "wt7L0p4MbIIw"
      },
      "source": [
        "## **1 - Analysis of the dataset**\n",
        "\n"
      ]
    },
    {
      "cell_type": "markdown",
      "metadata": {
        "id": "0JFIZ6mtRapt"
      },
      "source": [
        "All libraries used ***SHOULD BE PLACED*** in the code cell below"
      ]
    },
    {
      "cell_type": "code",
      "execution_count": 5,
      "metadata": {
        "id": "UQp7FGSb5Vlv"
      },
      "outputs": [],
      "source": [
        "import pandas as pd\n",
        "import numpy as np\n",
        "import matplotlib.pyplot as plt"
      ]
    },
    {
      "cell_type": "markdown",
      "metadata": {
        "id": "eFRcS74MDeSf"
      },
      "source": [
        "**QUESTION:** Load dataset and display some lines of the csv file."
      ]
    },
    {
      "cell_type": "code",
      "execution_count": 6,
      "metadata": {
        "id": "9l044FZ_5-fN"
      },
      "outputs": [
        {
          "data": {
            "text/html": [
              "<div>\n",
              "<style scoped>\n",
              "    .dataframe tbody tr th:only-of-type {\n",
              "        vertical-align: middle;\n",
              "    }\n",
              "\n",
              "    .dataframe tbody tr th {\n",
              "        vertical-align: top;\n",
              "    }\n",
              "\n",
              "    .dataframe thead th {\n",
              "        text-align: right;\n",
              "    }\n",
              "</style>\n",
              "<table border=\"1\" class=\"dataframe\">\n",
              "  <thead>\n",
              "    <tr style=\"text-align: right;\">\n",
              "      <th></th>\n",
              "      <th>UDI</th>\n",
              "      <th>Product ID</th>\n",
              "      <th>Type</th>\n",
              "      <th>Air temperature [K]</th>\n",
              "      <th>Process temperature [K]</th>\n",
              "      <th>Rotational speed [rpm]</th>\n",
              "      <th>Torque [Nm]</th>\n",
              "      <th>Tool wear [min]</th>\n",
              "      <th>Machine failure</th>\n",
              "      <th>TWF</th>\n",
              "      <th>HDF</th>\n",
              "      <th>PWF</th>\n",
              "      <th>OSF</th>\n",
              "      <th>RNF</th>\n",
              "    </tr>\n",
              "  </thead>\n",
              "  <tbody>\n",
              "    <tr>\n",
              "      <th>0</th>\n",
              "      <td>1</td>\n",
              "      <td>M14860</td>\n",
              "      <td>M</td>\n",
              "      <td>298.1</td>\n",
              "      <td>308.6</td>\n",
              "      <td>1551</td>\n",
              "      <td>42.8</td>\n",
              "      <td>0</td>\n",
              "      <td>0</td>\n",
              "      <td>0</td>\n",
              "      <td>0</td>\n",
              "      <td>0</td>\n",
              "      <td>0</td>\n",
              "      <td>0</td>\n",
              "    </tr>\n",
              "    <tr>\n",
              "      <th>1</th>\n",
              "      <td>2</td>\n",
              "      <td>L47181</td>\n",
              "      <td>L</td>\n",
              "      <td>298.2</td>\n",
              "      <td>308.7</td>\n",
              "      <td>1408</td>\n",
              "      <td>46.3</td>\n",
              "      <td>3</td>\n",
              "      <td>0</td>\n",
              "      <td>0</td>\n",
              "      <td>0</td>\n",
              "      <td>0</td>\n",
              "      <td>0</td>\n",
              "      <td>0</td>\n",
              "    </tr>\n",
              "    <tr>\n",
              "      <th>2</th>\n",
              "      <td>3</td>\n",
              "      <td>L47182</td>\n",
              "      <td>L</td>\n",
              "      <td>298.1</td>\n",
              "      <td>308.5</td>\n",
              "      <td>1498</td>\n",
              "      <td>49.4</td>\n",
              "      <td>5</td>\n",
              "      <td>0</td>\n",
              "      <td>0</td>\n",
              "      <td>0</td>\n",
              "      <td>0</td>\n",
              "      <td>0</td>\n",
              "      <td>0</td>\n",
              "    </tr>\n",
              "    <tr>\n",
              "      <th>3</th>\n",
              "      <td>4</td>\n",
              "      <td>L47183</td>\n",
              "      <td>L</td>\n",
              "      <td>298.2</td>\n",
              "      <td>308.6</td>\n",
              "      <td>1433</td>\n",
              "      <td>39.5</td>\n",
              "      <td>7</td>\n",
              "      <td>0</td>\n",
              "      <td>0</td>\n",
              "      <td>0</td>\n",
              "      <td>0</td>\n",
              "      <td>0</td>\n",
              "      <td>0</td>\n",
              "    </tr>\n",
              "    <tr>\n",
              "      <th>4</th>\n",
              "      <td>5</td>\n",
              "      <td>L47184</td>\n",
              "      <td>L</td>\n",
              "      <td>298.2</td>\n",
              "      <td>308.7</td>\n",
              "      <td>1408</td>\n",
              "      <td>40.0</td>\n",
              "      <td>9</td>\n",
              "      <td>0</td>\n",
              "      <td>0</td>\n",
              "      <td>0</td>\n",
              "      <td>0</td>\n",
              "      <td>0</td>\n",
              "      <td>0</td>\n",
              "    </tr>\n",
              "  </tbody>\n",
              "</table>\n",
              "</div>"
            ],
            "text/plain": [
              "   UDI Product ID Type  Air temperature [K]  Process temperature [K]  \\\n",
              "0    1     M14860    M                298.1                    308.6   \n",
              "1    2     L47181    L                298.2                    308.7   \n",
              "2    3     L47182    L                298.1                    308.5   \n",
              "3    4     L47183    L                298.2                    308.6   \n",
              "4    5     L47184    L                298.2                    308.7   \n",
              "\n",
              "   Rotational speed [rpm]  Torque [Nm]  Tool wear [min]  Machine failure  TWF  \\\n",
              "0                    1551         42.8                0                0    0   \n",
              "1                    1408         46.3                3                0    0   \n",
              "2                    1498         49.4                5                0    0   \n",
              "3                    1433         39.5                7                0    0   \n",
              "4                    1408         40.0                9                0    0   \n",
              "\n",
              "   HDF  PWF  OSF  RNF  \n",
              "0    0    0    0    0  \n",
              "1    0    0    0    0  \n",
              "2    0    0    0    0  \n",
              "3    0    0    0    0  \n",
              "4    0    0    0    0  "
            ]
          },
          "execution_count": 6,
          "metadata": {},
          "output_type": "execute_result"
        }
      ],
      "source": [
        "data = pd.read_csv(\"ai4i2020.csv\")\n",
        "data.head()"
      ]
    },
    {
      "cell_type": "markdown",
      "metadata": {},
      "source": [
        "We can see that the input data are :\n",
        "- UDI\n",
        "- Product ID\n",
        "- Product type\n",
        "- Air temperature\n",
        "- Process temperature\n",
        "- Rotational speed\n",
        "- Torque\n",
        "- Tool wear\n",
        "- Machine failure"
      ]
    },
    {
      "cell_type": "markdown",
      "metadata": {
        "id": "joQOXoqaD8JA"
      },
      "source": [
        "**QUESTION:** Display the distribution of machine failures and non-failures with a bar graph."
      ]
    },
    {
      "cell_type": "code",
      "execution_count": 9,
      "metadata": {
        "id": "r3Q1l9JoMs7m"
      },
      "outputs": [
        {
          "data": {
            "image/png": "[encoded data removed]",
            "text/plain": [
              "<Figure size 640x480 with 1 Axes>"
            ]
          },
          "metadata": {},
          "output_type": "display_data"
        },
        {
          "name": "stdout",
          "output_type": "stream",
          "text": [
            "Nombre d'occurrences de chaque état :\n",
            " Machine failure\n",
            "0    9661\n",
            "1     339\n",
            "Name: count, dtype: int64\n"
          ]
        }
      ],
      "source": [
        "counts_failure = data['Machine failure'].value_counts()\n",
        "\n",
        "plt.bar(counts_failure.index, counts_failure.values, color=[\"green\", \"red\"])\n",
        "\n",
        "plt.xticks([0, 1], [\"Working\", \"Failure\"])  # Noms des catégories\n",
        "plt.xlabel(\"État de la machine\")\n",
        "plt.ylabel(\"Nombre d'occurrences\")\n",
        "plt.title(\"Répartition des machines en fonctionnement et en panne\")\n",
        "\n",
        "plt.show()\n",
        "print(\"Nombre d'occurrences de chaque état :\\n\", counts_failure)"
      ]
    },
    {
      "cell_type": "markdown",
      "metadata": {
        "id": "vCNIqXVyEkrR"
      },
      "source": [
        "**ANALYSIS QUESTION:** What do you observe?"
      ]
    },
    {
      "cell_type": "markdown",
      "metadata": {
        "id": "6BMGtlIWE-C0"
      },
      "source": [
        "\n",
        "Lorsque nous affichons les données nous mettons les RNF dans la colonne Working. En effet lorsqu'un RNF a lieu cela n'est pas répertorié comme une 'Machine Failure'. On les retrouve donc dans la colonne Working ce qui est cohérent puisque ces problèmes sont aléatoires et que l'objectif de notre modèle est de prévoir les problèmes sur les machines. Nous ne pouvons pas prévoir les problèmes aléatoires, il est donc cohérent que nous ne comptabilisions pas ces Fail aléatoires comme des Fails puisque nous ne souhaitons pas les prendre en compte dans l'apprentissage.\n",
        "\n",
        "Au final nous voyons que nous avons peu de données pour les Failure (uniquement 339). Cela va donc compliquer l'apprentissage."
      ]
    },
    {
      "cell_type": "markdown",
      "metadata": {
        "id": "huU5I4x8SzlN"
      },
      "source": [
        "**ANALYSIS QUESTION:** What will be the consequence of this phenomenon on the model's learning?"
      ]
    },
    {
      "cell_type": "markdown",
      "metadata": {
        "id": "JHmYROP0TLIS"
      },
      "source": [
        "Nous avons peu de données répertoriant des Fails dans notre Dataset. Notre objectif est d'identifier les pannes sur la machine et nous avons seulement 339 réferencements de pannes. Ainsi, même si notre Dataset est de grande taille il n'est pas très complet car 96,51% des données correspondent à un fonctionnement normal.\n",
        "\n",
        "Notre apprentissage risque donc d'être peu précis à cause d'une faible quantité de données."
      ]
    },
    {
      "cell_type": "markdown",
      "metadata": {},
      "source": []
    },
    {
      "cell_type": "markdown",
      "metadata": {
        "id": "0s-mzCCsSasl"
      },
      "source": [
        "**QUESTION:** Create a bar chart showing the distribution of different failure types (TWF, HDF, PWF, OSF, RNF). Display the exact values above each bar in the chart.\""
      ]
    },
    {
      "cell_type": "code",
      "execution_count": 9,
      "metadata": {
        "id": "nQyJCfamMdJN"
      },
      "outputs": [
        {
          "data": {
            "image/png": "[encoded data removed]",
            "text/plain": [
              "<Figure size 800x500 with 1 Axes>"
            ]
          },
          "metadata": {},
          "output_type": "display_data"
        }
      ],
      "source": [
        "import pandas as pd\n",
        "import matplotlib.pyplot as plt\n",
        "\n",
        "dataset = pd.read_csv(\"ai4i2020.csv\")\n",
        "\n",
        "failure_types = ['TWF', 'HDF', 'PWF', 'OSF', 'RNF']\n",
        "failure_counts = dataset[failure_types].sum()\n",
        "\n",
        "plt.figure(figsize=(8, 5))\n",
        "bars = plt.bar(failure_counts.index, failure_counts.values, color='skyblue')\n",
        "\n",
        "# value above each bar\n",
        "for bar in bars:\n",
        "    plt.text(bar.get_x() + bar.get_width()/2, bar.get_height(), \n",
        "             int(bar.get_height()), ha='center', va='bottom', fontsize=12)\n",
        "\n",
        "plt.xlabel(\"Type de Failure\")\n",
        "plt.ylabel(\"Nombre\")\n",
        "plt.title(\"Distribution des différentes failures\")\n",
        "plt.xticks(rotation=45)\n",
        "plt.grid(axis='y', linestyle='--', alpha=0.7)\n",
        "plt.show()\n"
      ]
    },
    {
      "cell_type": "markdown",
      "metadata": {
        "id": "NXyHa73yU8g_"
      },
      "source": [
        "**ANALYSIS QUESTION:** What do you observe?"
      ]
    },
    {
      "cell_type": "markdown",
      "metadata": {
        "id": "WRDFE_dsVBBU"
      },
      "source": [
        "\"Write here your response\""
      ]
    },
    {
      "cell_type": "markdown",
      "metadata": {
        "id": "cvaO2bEIMxLd"
      },
      "source": [
        "**QUESTION:** Create a bar chart showing the distribution of failure types (TWF, HDF, PWF, OSF, RNF) among machines that experienced a failure (Machine failure == 1). Additionally, add a \"No Specific Failure\" category to count cases where a machine failed but no specific failure type was recorded. Display the exact values above each bar in the chart.\""
      ]
    },
    {
      "cell_type": "code",
      "execution_count": 10,
      "metadata": {
        "id": "e97htGyyMsle"
      },
      "outputs": [
        {
          "data": {
            "image/png": "[encoded data removed]",
            "text/plain": [
              "<Figure size 800x500 with 1 Axes>"
            ]
          },
          "metadata": {},
          "output_type": "display_data"
        }
      ],
      "source": [
        "dataset = pd.read_csv(\"ai4i2020.csv\")\n",
        "failed_machines = dataset[dataset[\"Machine failure\"] == 1]\n",
        "failure_types = [\"TWF\", \"HDF\", \"PWF\", \"OSF\", \"RNF\"]\n",
        "failure_counts = failed_machines[failure_types].sum()\n",
        "no_specific_failure = (failed_machines[failure_types].sum(axis=1) == 0).sum()\n",
        "\n",
        "failure_counts[\"No Specific Failure\"] = no_specific_failure\n",
        "\n",
        "plt.figure(figsize=(8, 5))\n",
        "bars = plt.bar(failure_counts.index, failure_counts.values, color='lightcoral')\n",
        "\n",
        "for bar in bars:\n",
        "    plt.text(bar.get_x() + bar.get_width()/2, bar.get_height(), \n",
        "             int(bar.get_height()), ha='center', va='bottom', fontsize=12)\n",
        "\n",
        "plt.xlabel(\"Type de failure\")\n",
        "plt.ylabel(\"Nombre\")\n",
        "plt.title(\"Distribution des types de failure parmi les machines qui ont fail\")\n",
        "plt.xticks(rotation=45)\n",
        "plt.grid(axis='y', linestyle='--', alpha=0.7)\n",
        "\n",
        "plt.show()\n"
      ]
    },
    {
      "cell_type": "markdown",
      "metadata": {
        "id": "U6_3vAQCOUGb"
      },
      "source": [
        "**ANALYSIS QUESTION:** What do you obsrve comapred to the previous question ? What can you conclude?"
      ]
    },
    {
      "cell_type": "markdown",
      "metadata": {
        "id": "i-6t7nqlOjMo"
      },
      "source": [
        "On pense que la seule donnée RNF est sûrement une erreur dans le dataset, puisque RNF et TWF sont à 1. Cela veut dire que la machine failure est contabilisée 2 fois, en tant que random et en tant que failure définie. Cela est contradictoire."
      ]
    },
    {
      "cell_type": "markdown",
      "metadata": {
        "id": "muXeS0eVVW6H"
      },
      "source": [
        "**QUESTION:** Display the names of the different columns in the dataset with their respective data types."
      ]
    },
    {
      "cell_type": "code",
      "execution_count": 8,
      "metadata": {
        "id": "pa9Tptu7nPMp"
      },
      "outputs": [
        {
          "name": "stdout",
          "output_type": "stream",
          "text": [
            "UDI                          int64\n",
            "Product ID                  object\n",
            "Type                        object\n",
            "Air temperature [K]        float64\n",
            "Process temperature [K]    float64\n",
            "Rotational speed [rpm]       int64\n",
            "Torque [Nm]                float64\n",
            "Tool wear [min]              int64\n",
            "Machine failure              int64\n",
            "TWF                          int64\n",
            "HDF                          int64\n",
            "PWF                          int64\n",
            "OSF                          int64\n",
            "RNF                          int64\n",
            "dtype: object\n"
          ]
        }
      ],
      "source": [
        "dataset = pd.read_csv(\"ai4i2020.csv\")\n",
        "\n",
        "print(dataset.dtypes)\n"
      ]
    },
    {
      "cell_type": "markdown",
      "metadata": {
        "id": "cezua1bMVTCM"
      },
      "source": [
        "**ANALYSIS QUESTION:** To train the model, what will be the inputs and outputs (What are the names of the columns that you will use?)? Justify your response.\n",
        "Remember, you want to predict if the machine will fail, and if so, what kind of failure. You need to yse previous results to jsurtify your response."
      ]
    },
    {
      "cell_type": "markdown",
      "metadata": {
        "id": "0gy8oDgxbjol"
      },
      "source": [
        "**Outputs**\n",
        "Nous voulons prévoir si une machine va fail et son type de failure donc on a les outputs suivants :\n",
        "\n",
        "- machine failure (0 ou 1)\n",
        "- le type de failure (TWF, HDF, PWF, OSF, RNF qui sont à 0 ou 1)\n",
        "\n",
        "**Inputs**\n",
        "Le model doit utiliser les conditions dans lesquelles est la machine, et ses paramètres pour prédire la failure. Donc les inputs sont :\n",
        "\n",
        "- Air temperature\n",
        "- Process temperature\n",
        "- Rotational speed \n",
        "- Torque \n",
        "- Tool wear \n",
        "\n",
        "On ne prend pas UDI, product ID et Type puisqu'ils ne renseigne aucune donnée utilisable pour prédire la failure."
      ]
    },
    {
      "cell_type": "markdown",
      "metadata": {
        "id": "CFXLkBzTiafx"
      },
      "source": [
        "## **2- Train model Without balancing the dataset**\n",
        "\n",
        "---\n",
        "\n"
      ]
    },
    {
      "cell_type": "markdown",
      "metadata": {
        "id": "plBeUOCKvVNU"
      },
      "source": [
        "In this section, you must build and train a model without rebalancing the dataset."
      ]
    },
    {
      "cell_type": "markdown",
      "metadata": {
        "id": "yj7CMqdVbxg2"
      },
      "source": [
        "**QUESTION:** Create X_train, Y_train, X_test, and Y_test. How many elements are present in X_train, Y_train, X_test, and Y_test? (Print the values)"
      ]
    },
    {
      "cell_type": "code",
      "execution_count": null,
      "metadata": {
        "id": "Wdght-L8wQQQ"
      },
      "outputs": [],
      "source": []
    },
    {
      "cell_type": "markdown",
      "metadata": {
        "id": "eqBuZsqKdQ7u"
      },
      "source": [
        "**QUESTION** Code below the model architecture"
      ]
    },
    {
      "cell_type": "code",
      "execution_count": null,
      "metadata": {
        "id": "F35j0VRDdNLc"
      },
      "outputs": [],
      "source": []
    },
    {
      "cell_type": "markdown",
      "metadata": {
        "id": "dIONoP2Jdg8Q"
      },
      "source": [
        "**QUESTION** Code below the algorithms allowing to train model\n",
        "\n",
        "**WARNING!** You need to plot the training and test accuracy and loss to check if our model is overfitting"
      ]
    },
    {
      "cell_type": "code",
      "execution_count": null,
      "metadata": {
        "id": "jJ2bYxZydhW2"
      },
      "outputs": [],
      "source": []
    },
    {
      "cell_type": "markdown",
      "metadata": {
        "id": "yvmyHnqYpbf-"
      },
      "source": [
        "**QUESTION** Plot the confusion matrix and the classification report"
      ]
    },
    {
      "cell_type": "markdown",
      "metadata": {
        "id": "FUXSeJ1ZpsSP"
      },
      "source": [
        "**Tips:**\n",
        "\n",
        "*   classification report link\n",
        "\n",
        "> https://scikit-learn.org/stable/modules/generated/sklearn.metrics.classification_report.html\n",
        "\n",
        "*   Matrix confusion\n",
        "\n",
        "> https://scikit-learn.org/stable/modules/generated/sklearn.metrics.ConfusionMatrixDisplay.html\n",
        "\n",
        "\n",
        "\n"
      ]
    },
    {
      "cell_type": "code",
      "execution_count": null,
      "metadata": {
        "id": "m4q5wvHNnAdu"
      },
      "outputs": [],
      "source": []
    },
    {
      "cell_type": "markdown",
      "metadata": {
        "id": "ImGsmryGkKhj"
      },
      "source": [
        "**ANALYSIS QUESTION** What do you observe? What can you conclude?"
      ]
    },
    {
      "cell_type": "markdown",
      "metadata": {
        "id": "y1f5OneQknZy"
      },
      "source": [
        "\"Write your response here\""
      ]
    },
    {
      "cell_type": "markdown",
      "metadata": {
        "id": "EYUyUAN5ji0x"
      },
      "source": [
        "## **3- Train model With balancing the dataset**\n",
        "\n",
        "---"
      ]
    },
    {
      "cell_type": "markdown",
      "metadata": {
        "id": "EQWut50JhKdD"
      },
      "source": [
        " Methods for rebalancing a dataset:\n",
        "\n",
        "\n",
        "*   Use oversampling techniques (e.g., SMOTE) to generate synthetic data for minority classes\n",
        "\n",
        "\n",
        "> https://imbalanced-learn.org/stable/references/generated/imblearn.over_sampling.SMOTE.html\n",
        "\n",
        "\n",
        "\n",
        "*   Apply undersampling techniques (e.g., random undersampling, Tomek Links, Edited Nearest Neighbors) to reduce the majority class size\n",
        "\n",
        "\n",
        "\n",
        "> https://imbalanced-learn.org/stable/references/generated/imblearn.under_sampling.RandomUnderSampler.html\n",
        "\n",
        "\n",
        "\n",
        "*   Use class weighting during model training to penalize errors on minority classes\n",
        "\n",
        "\n",
        "\n",
        "> https://www.tensorflow.org/tutorials/structured_data/imbalanced_data?hl=fr\n"
      ]
    },
    {
      "cell_type": "markdown",
      "metadata": {
        "id": "--pWJzaUnXdY"
      },
      "source": [
        "**QUESTION:** Create X_train, Y_train, X_test, and Y_test. How many elements are present in X_train, Y_train, X_test, and Y_test? (Print the values)"
      ]
    },
    {
      "cell_type": "code",
      "execution_count": null,
      "metadata": {
        "id": "aLW74cwbdr1U"
      },
      "outputs": [],
      "source": []
    },
    {
      "cell_type": "markdown",
      "metadata": {
        "id": "-YcZXIadnbcm"
      },
      "source": [
        "**ANALYSIS QUESTION:** Explain the choices you made to balance the dataset."
      ]
    },
    {
      "cell_type": "markdown",
      "metadata": {
        "id": "Rku3pnWxnxhI"
      },
      "source": [
        "\"Write your response here\""
      ]
    },
    {
      "cell_type": "markdown",
      "metadata": {
        "id": "BVryPCQFn4Dd"
      },
      "source": [
        "**QUESTION:** Code below the model architecture\n"
      ]
    },
    {
      "cell_type": "markdown",
      "metadata": {
        "id": "Q5BGfI7TpVDD"
      },
      "source": [
        "**TIP:** It could be interesting to keep it the same as before"
      ]
    },
    {
      "cell_type": "code",
      "execution_count": null,
      "metadata": {
        "id": "S0UbMHN6OC51"
      },
      "outputs": [],
      "source": []
    },
    {
      "cell_type": "markdown",
      "metadata": {
        "id": "wBZyS7DdofFq"
      },
      "source": [
        "**QUESTION** Code below the algorithms allowing to train model\n"
      ]
    },
    {
      "cell_type": "code",
      "execution_count": null,
      "metadata": {
        "id": "my6Ck5JbMDOG"
      },
      "outputs": [],
      "source": []
    },
    {
      "cell_type": "markdown",
      "metadata": {
        "id": "77ftkfv5oqp0"
      },
      "source": [
        "**QUESTION** Plot the confusion matrix and the classification report"
      ]
    },
    {
      "cell_type": "code",
      "execution_count": null,
      "metadata": {
        "id": "kRmkOI_co5d9"
      },
      "outputs": [],
      "source": []
    },
    {
      "cell_type": "markdown",
      "metadata": {
        "id": "Zn5BBAI3pHXf"
      },
      "source": [
        "**ANALYSIS QUESTION** What do you observe? What can you conclude?"
      ]
    },
    {
      "cell_type": "markdown",
      "metadata": {
        "id": "SIf8rfU9pIGd"
      },
      "source": [
        "\"Write your response here\""
      ]
    }
  ],
  "metadata": {
    "colab": {
      "provenance": []
    },
    "kernelspec": {
      "display_name": "Python 3",
      "name": "python3"
    },
    "language_info": {
      "codemirror_mode": {
        "name": "ipython",
        "version": 3
      },
      "file_extension": ".py",
      "mimetype": "text/x-python",
      "name": "python",
      "nbconvert_exporter": "python",
      "pygments_lexer": "ipython3",
      "version": "3.12.9"
    }
  },
  "nbformat": 4,
  "nbformat_minor": 0
}
