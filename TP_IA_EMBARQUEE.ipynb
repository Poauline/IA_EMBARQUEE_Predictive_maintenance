{
 "cells": [
  {
   "cell_type": "markdown",
   "metadata": {
    "id": "ZLQS0KLMycmb"
   },
   "source": [
    "## **PRACTICAL SESSION 1** — Deep Learning for predictive maintenance"
   ]
  },
  {
   "cell_type": "markdown",
   "metadata": {
    "id": "3mjNAfgj4K1_"
   },
   "source": [
    "The dataset used is the **AI4I 2020** Predictive Maintenance Dataset, which contains 10,000 instances of industrial sensor data. Each instance represents the operating condition of a machine and is associated with a label indicating whether a failure has occurred and, if so, what type of failure it is.\n",
    "\n",
    "The 5 possible labels are:\n",
    "\n",
    "\n",
    "\n",
    "*   **TWF**: Tool Wear Failure\n",
    "*   **HDF**: Heat Dissipation Failure\n",
    "*   **PWF**: Power Failure\n",
    "*   **OSF**: Overstrain Failure\n",
    "*   **RNF**: Random Failure\n",
    "\n",
    "\n",
    "The data is available on eCAMPUS as CSV file called: \"ai4i2020.csv\"\n",
    "\n"
   ]
  },
  {
   "cell_type": "markdown",
   "metadata": {
    "id": "4_LBMVsgRI9W"
   },
   "source": [
    "## **PRACTICAL SESSION Goal** — Ceate a deep leanring model allowing to realize a predictive maintenance mission"
   ]
  },
  {
   "cell_type": "markdown",
   "metadata": {
    "id": "wt7L0p4MbIIw"
   },
   "source": [
    "## **1 - Analysis of the dataset**\n",
    "\n"
   ]
  },
  {
   "cell_type": "markdown",
   "metadata": {
    "id": "0JFIZ6mtRapt"
   },
   "source": [
    "All libraries used ***SHOULD BE PLACED*** in the code cell below"
   ]
  },
  {
   "cell_type": "code",
   "execution_count": null,
   "metadata": {
    "id": "UQp7FGSb5Vlv"
   },
   "outputs": [
    {
     "name": "stdout",
     "output_type": "stream",
     "text": [
      "2.2.4\n"
     ]
    }
   ],
   "source": [
    "import pandas as pd\n",
    "import numpy as np\n",
    "import matplotlib.pyplot as plt\n",
    "\n",
    "from sklearn.model_selection import train_test_split\n",
    "\n",
    "import tensorflow as tf\n",
    "from tensorflow.keras import regularizers\n",
    "from tensorflow.keras.models import Sequential\n",
    "from tensorflow.keras.layers import Dense\n",
    "from tensorflow.keras.optimizers import Adam\n",
    "from sklearn.preprocessing import StandardScaler\n",
    "from sklearn.utils.class_weight import compute_class_weight\n",
    "\n",
    "from sklearn.metrics import confusion_matrix, ConfusionMatrixDisplay\n",
    "from sklearn.metrics import classification_report\n",
    "from sklearn import datasets, metrics, svm\n",
    "\n",
    "print(np.__version__)\n",
    "\n"
   ]
  },
  {
   "cell_type": "markdown",
   "metadata": {
    "id": "eFRcS74MDeSf"
   },
   "source": [
    "**QUESTION:** Load dataset and display some lines of the csv file."
   ]
  },
  {
   "cell_type": "code",
   "execution_count": 1,
   "metadata": {
    "id": "9l044FZ_5-fN"
   },
   "outputs": [
    {
     "ename": "NameError",
     "evalue": "name 'pd' is not defined",
     "output_type": "error",
     "traceback": [
      "\u001b[31m---------------------------------------------------------------------------\u001b[39m",
      "\u001b[31mNameError\u001b[39m                                 Traceback (most recent call last)",
      "\u001b[36mCell\u001b[39m\u001b[36m \u001b[39m\u001b[32mIn[1]\u001b[39m\u001b[32m, line 1\u001b[39m\n\u001b[32m----> \u001b[39m\u001b[32m1\u001b[39m data = \u001b[43mpd\u001b[49m.read_csv(\u001b[33m\"\u001b[39m\u001b[33mai4i2020.csv\u001b[39m\u001b[33m\"\u001b[39m)\n\u001b[32m      2\u001b[39m data.head()\n",
      "\u001b[31mNameError\u001b[39m: name 'pd' is not defined"
     ]
    }
   ],
   "source": [
    "data = pd.read_csv(\"ai4i2020.csv\")\n",
    "data.head()"
   ]
  },
  {
   "cell_type": "markdown",
   "metadata": {},
   "source": [
    "We can see that the input data are :\n",
    "- UDI\n",
    "- Product ID\n",
    "- Product type\n",
    "- Air temperature\n",
    "- Process temperature\n",
    "- Rotational speed\n",
    "- Torque\n",
    "- Tool wear\n",
    "- Machine failure"
   ]
  },
  {
   "cell_type": "markdown",
   "metadata": {
    "id": "joQOXoqaD8JA"
   },
   "source": [
    "**QUESTION:** Display the distribution of machine failures and non-failures with a bar graph."
   ]
  },
  {
   "cell_type": "code",
   "execution_count": null,
   "metadata": {
    "id": "r3Q1l9JoMs7m"
   },
   "outputs": [
    {
     "data": {
      "image/png": "[encoded data removed]",
      "text/plain": [
       "<Figure size 640x480 with 1 Axes>"
      ]
     },
     "metadata": {},
     "output_type": "display_data"
    },
    {
     "name": "stdout",
     "output_type": "stream",
     "text": [
      "Nombre d'occurrences de chaque état :\n",
      " Machine failure\n",
      "0    9661\n",
      "1     339\n",
      "Name: count, dtype: int64\n"
     ]
    }
   ],
   "source": [
    "counts_failure = data['Machine failure'].value_counts()\n",
    "\n",
    "plt.bar(counts_failure.index, counts_failure.values, color=[\"green\", \"red\"])\n",
    "\n",
    "plt.xticks([0, 1], [\"Working\", \"Failure\"])  # Noms des catégories\n",
    "plt.xlabel(\"État de la machine\")\n",
    "plt.ylabel(\"Nombre d'occurrences\")\n",
    "plt.title(\"Répartition des machines en fonctionnement et en panne\")\n",
    "\n",
    "plt.show()\n",
    "print(\"Nombre d'occurrences de chaque état :\\n\", counts_failure)"
   ]
  },
  {
   "cell_type": "markdown",
   "metadata": {
    "id": "vCNIqXVyEkrR"
   },
   "source": [
    "**ANALYSIS QUESTION:** What do you observe?"
   ]
  },
  {
   "cell_type": "markdown",
   "metadata": {
    "id": "6BMGtlIWE-C0"
   },
   "source": [
    "\n",
    "Lorsque nous affichons les données nous mettons les RNF dans la colonne Working. En effet lorsqu'un RNF a lieu cela n'est pas répertorié comme une 'Machine Failure'. On les retrouve donc dans la colonne Working ce qui est cohérent puisque ces problèmes sont aléatoires et que l'objectif de notre modèle est de prévoir les problèmes sur les machines. Nous ne pouvons pas prévoir les problèmes aléatoires, il est donc cohérent que nous ne comptabilisions pas ces Fail aléatoires comme des Fails puisque nous ne souhaitons pas les prendre en compte dans l'apprentissage.\n",
    "\n",
    "Au final nous voyons que nous avons peu de données pour les Failure (uniquement 339). Cela va donc compliquer l'apprentissage."
   ]
  },
  {
   "cell_type": "markdown",
   "metadata": {
    "id": "huU5I4x8SzlN"
   },
   "source": [
    "**ANALYSIS QUESTION:** What will be the consequence of this phenomenon on the model's learning?"
   ]
  },
  {
   "cell_type": "markdown",
   "metadata": {
    "id": "JHmYROP0TLIS"
   },
   "source": [
    "Nous avons peu de données répertoriant des Fails dans notre Dataset. Notre objectif est d'identifier les pannes sur la machine et nous avons seulement 339 réferencements de pannes. Ainsi, même si notre Dataset est de grande taille il n'est pas très complet car 96,51% des données correspondent à un fonctionnement normal.\n",
    "\n",
    "Notre apprentissage risque donc d'être peu précis à cause d'une faible quantité de données."
   ]
  },
  {
   "cell_type": "markdown",
   "metadata": {},
   "source": []
  },
  {
   "cell_type": "markdown",
   "metadata": {
    "id": "0s-mzCCsSasl"
   },
   "source": [
    "**QUESTION:** Create a bar chart showing the distribution of different failure types (TWF, HDF, PWF, OSF, RNF). Display the exact values above each bar in the chart.\""
   ]
  },
  {
   "cell_type": "code",
   "execution_count": null,
   "metadata": {
    "id": "nQyJCfamMdJN"
   },
   "outputs": [
    {
     "data": {
      "image/png": "[encoded data removed]",
      "text/plain": [
       "<Figure size 800x500 with 1 Axes>"
      ]
     },
     "metadata": {},
     "output_type": "display_data"
    }
   ],
   "source": [
    "import pandas as pd\n",
    "import matplotlib.pyplot as plt\n",
    "\n",
    "dataset = pd.read_csv(\"ai4i2020.csv\")\n",
    "\n",
    "failure_types = ['TWF', 'HDF', 'PWF', 'OSF', 'RNF']\n",
    "failure_counts = dataset[failure_types].sum()\n",
    "\n",
    "plt.figure(figsize=(8, 5))\n",
    "bars = plt.bar(failure_counts.index, failure_counts.values, color='skyblue')\n",
    "\n",
    "# value above each bar\n",
    "for bar in bars:\n",
    "    plt.text(bar.get_x() + bar.get_width()/2, bar.get_height(), \n",
    "             int(bar.get_height()), ha='center', va='bottom', fontsize=12)\n",
    "\n",
    "plt.xlabel(\"Type de Failure\")\n",
    "plt.ylabel(\"Nombre\")\n",
    "plt.title(\"Distribution des différentes failures\")\n",
    "plt.xticks(rotation=45)\n",
    "plt.grid(axis='y', linestyle='--', alpha=0.7)\n",
    "plt.show()\n"
   ]
  },
  {
   "cell_type": "markdown",
   "metadata": {
    "id": "NXyHa73yU8g_"
   },
   "source": [
    "**ANALYSIS QUESTION:** What do you observe?"
   ]
  },
  {
   "cell_type": "markdown",
   "metadata": {
    "id": "WRDFE_dsVBBU"
   },
   "source": [
    "\"Write here your response\""
   ]
  },
  {
   "cell_type": "markdown",
   "metadata": {
    "id": "cvaO2bEIMxLd"
   },
   "source": [
    "**QUESTION:** Create a bar chart showing the distribution of failure types (TWF, HDF, PWF, OSF, RNF) among machines that experienced a failure (Machine failure == 1). Additionally, add a \"No Specific Failure\" category to count cases where a machine failed but no specific failure type was recorded. Display the exact values above each bar in the chart.\""
   ]
  },
  {
   "cell_type": "code",
   "execution_count": null,
   "metadata": {
    "id": "e97htGyyMsle"
   },
   "outputs": [
    {
     "data": {
      "image/png": "[encoded data removed]",
      "text/plain": [
       "<Figure size 800x500 with 1 Axes>"
      ]
     },
     "metadata": {},
     "output_type": "display_data"
    }
   ],
   "source": [
    "dataset = pd.read_csv(\"ai4i2020.csv\")\n",
    "failed_machines = dataset[dataset[\"Machine failure\"] == 1]\n",
    "failure_types = [\"TWF\", \"HDF\", \"PWF\", \"OSF\", \"RNF\"]\n",
    "failure_counts = failed_machines[failure_types].sum()\n",
    "no_specific_failure = (failed_machines[failure_types].sum(axis=1) == 0).sum()\n",
    "\n",
    "failure_counts[\"No Specific Failure\"] = no_specific_failure\n",
    "\n",
    "plt.figure(figsize=(8, 5))\n",
    "bars = plt.bar(failure_counts.index, failure_counts.values, color='lightcoral')\n",
    "\n",
    "for bar in bars:\n",
    "    plt.text(bar.get_x() + bar.get_width()/2, bar.get_height(), \n",
    "             int(bar.get_height()), ha='center', va='bottom', fontsize=12)\n",
    "\n",
    "plt.xlabel(\"Type de failure\")\n",
    "plt.ylabel(\"Nombre\")\n",
    "plt.title(\"Distribution des types de failure parmi les machines qui ont fail\")\n",
    "plt.xticks(rotation=45)\n",
    "plt.grid(axis='y', linestyle='--', alpha=0.7)\n",
    "\n",
    "plt.show()\n"
   ]
  },
  {
   "cell_type": "markdown",
   "metadata": {
    "id": "U6_3vAQCOUGb"
   },
   "source": [
    "**ANALYSIS QUESTION:** What do you obsrve comapred to the previous question ? What can you conclude?"
   ]
  },
  {
   "cell_type": "markdown",
   "metadata": {
    "id": "i-6t7nqlOjMo"
   },
   "source": [
    "On pense que la seule donnée RNF est sûrement une erreur dans le dataset, puisque RNF et TWF sont à 1. Cela veut dire que la machine failure est contabilisée 2 fois, en tant que random et en tant que failure définie. Cela est contradictoire."
   ]
  },
  {
   "cell_type": "markdown",
   "metadata": {
    "id": "muXeS0eVVW6H"
   },
   "source": [
    "**QUESTION:** Display the names of the different columns in the dataset with their respective data types."
   ]
  },
  {
   "cell_type": "code",
   "execution_count": null,
   "metadata": {
    "id": "pa9Tptu7nPMp"
   },
   "outputs": [
    {
     "name": "stdout",
     "output_type": "stream",
     "text": [
      "UDI                          int64\n",
      "Product ID                  object\n",
      "Type                        object\n",
      "Air temperature [K]        float64\n",
      "Process temperature [K]    float64\n",
      "Rotational speed [rpm]       int64\n",
      "Torque [Nm]                float64\n",
      "Tool wear [min]              int64\n",
      "Machine failure              int64\n",
      "TWF                          int64\n",
      "HDF                          int64\n",
      "PWF                          int64\n",
      "OSF                          int64\n",
      "RNF                          int64\n",
      "dtype: object\n"
     ]
    }
   ],
   "source": [
    "print(dataset.dtypes)\n"
   ]
  },
  {
   "cell_type": "markdown",
   "metadata": {
    "id": "cezua1bMVTCM"
   },
   "source": [
    "**ANALYSIS QUESTION:** To train the model, what will be the inputs and outputs (What are the names of the columns that you will use?)? Justify your response.\n",
    "Remember, you want to predict if the machine will fail, and if so, what kind of failure. You need to yse previous results to jsurtify your response."
   ]
  },
  {
   "cell_type": "markdown",
   "metadata": {
    "id": "0gy8oDgxbjol"
   },
   "source": [
    "**Outputs**\n",
    "Nous voulons prévoir si une machine va fail et son type de failure donc on a les outputs suivants :\n",
    "\n",
    "- machine failure (0 ou 1)\n",
    "- le type de failure (TWF, HDF, PWF, OSF, RNF qui sont à 0 ou 1)\n",
    "\n",
    "**Inputs**\n",
    "Le model doit utiliser les conditions dans lesquelles est la machine, et ses paramètres pour prédire la failure. Donc les inputs sont :\n",
    "\n",
    "- Air temperature\n",
    "- Process temperature\n",
    "- Rotational speed \n",
    "- Torque \n",
    "- Tool wear \n",
    "\n",
    "On ne prend pas UDI, product ID et Type puisqu'ils ne renseigne aucune donnée utilisable pour prédire la failure."
   ]
  },
  {
   "cell_type": "markdown",
   "metadata": {
    "id": "CFXLkBzTiafx"
   },
   "source": [
    "## **2- Train model Without balancing the dataset**\n",
    "\n",
    "---\n",
    "\n"
   ]
  },
  {
   "cell_type": "markdown",
   "metadata": {
    "id": "plBeUOCKvVNU"
   },
   "source": [
    "In this section, you must build and train a model without rebalancing the dataset."
   ]
  },
  {
   "cell_type": "markdown",
   "metadata": {
    "id": "yj7CMqdVbxg2"
   },
   "source": [
    "**QUESTION:** Create X_train, Y_train, X_test, and Y_test. How many elements are present in X_train, Y_train, X_test, and Y_test? (Print the values)"
   ]
  },
  {
   "cell_type": "markdown",
   "metadata": {},
   "source": [
    "On ne prend pas comme entrée le type de produit puisque nous considérons que cela n'influence pas la machine. Il serait tout de même intéressant de tester un modèle prenant en compte ce paramètre."
   ]
  },
  {
   "cell_type": "code",
   "execution_count": null,
   "metadata": {
    "id": "Wdght-L8wQQQ"
   },
   "outputs": [
    {
     "name": "stdout",
     "output_type": "stream",
     "text": [
      "(8000, 5)\n",
      "Nombre d'éléments dans X_train : (8000, 5)\n",
      "Nombre d'éléments dans Y_train : (8000, 5)\n",
      "Nombre d'éléments dans X_test : (2000, 5)\n",
      "Nombre d'éléments dans Y_test : (2000, 5)\n"
     ]
    }
   ],
   "source": [
    "dataset['No Failure'] = 1 - dataset[\"Machine failure\"]\n",
    "#La première classe correspondra à \"pas d'erreur\"\n",
    "\n",
    "X = dataset[[\"Air temperature [K]\", \"Process temperature [K]\", \"Rotational speed [rpm]\", \"Torque [Nm]\", \"Tool wear [min]\"]].to_numpy()\n",
    "Y = dataset[[\"No Failure\", \"TWF\", \"HDF\", \"PWF\", \"OSF\"]].to_numpy()\n",
    "#La première classe correspondra à \"pas d'erreur\", les autres sont les erreurs possibles sans compter \"RNF\"\n",
    "\n",
    "# Normalisation des données ?\n",
    "#scaler = StandardScaler()\n",
    "#X_scaled = scaler.fit_transform(X)\n",
    "X_scaled = X #On ne normalise pas\n",
    "# Reshape des données pour les rendre compatibles avec Conv1D\n",
    "#X_scaled = X_scaled.reshape((X_scaled.shape[0], X_scaled.shape[1]))\n",
    "\n",
    "# Division en jeu d'entraînement (80%) et de test (20%)\n",
    "X_train, X_test, Y_train, Y_test = train_test_split(X_scaled, Y, test_size=0.2, random_state=42)\n",
    "print(X_train.shape)\n",
    "# Afficher le nombre d'éléments dans chaque ensemble\n",
    "print(f\"Nombre d'éléments dans X_train : {X_train.shape}\")\n",
    "print(f\"Nombre d'éléments dans Y_train : {Y_train.shape}\")\n",
    "print(f\"Nombre d'éléments dans X_test : {X_test.shape}\")\n",
    "print(f\"Nombre d'éléments dans Y_test : {Y_test.shape}\")"
   ]
  },
  {
   "cell_type": "markdown",
   "metadata": {
    "id": "eqBuZsqKdQ7u"
   },
   "source": [
    "**QUESTION** Code below the model architecture"
   ]
  },
  {
   "cell_type": "code",
   "execution_count": null,
   "metadata": {
    "id": "F35j0VRDdNLc"
   },
   "outputs": [
    {
     "data": {
      "text/html": [
       "<pre style=\"white-space:pre;overflow-x:auto;line-height:normal;font-family:Menlo,'DejaVu Sans Mono',consolas,'Courier New',monospace\"><span style=\"font-weight: bold\">Model: \"my_cnn_model\"</span>\n",
       "</pre>\n"
      ],
      "text/plain": [
       "\u001b[1mModel: \"my_cnn_model\"\u001b[0m\n"
      ]
     },
     "metadata": {},
     "output_type": "display_data"
    },
    {
     "data": {
      "text/html": [
       "<pre style=\"white-space:pre;overflow-x:auto;line-height:normal;font-family:Menlo,'DejaVu Sans Mono',consolas,'Courier New',monospace\">┏━━━━━━━━━━━━━━━━━━━━━━━━━━━━━━━━━┳━━━━━━━━━━━━━━━━━━━━━━━━┳━━━━━━━━━━━━━━━┓\n",
       "┃<span style=\"font-weight: bold\"> Layer (type)                    </span>┃<span style=\"font-weight: bold\"> Output Shape           </span>┃<span style=\"font-weight: bold\">       Param # </span>┃\n",
       "┡━━━━━━━━━━━━━━━━━━━━━━━━━━━━━━━━━╇━━━━━━━━━━━━━━━━━━━━━━━━╇━━━━━━━━━━━━━━━┩\n",
       "│ input_layer (<span style=\"color: #0087ff; text-decoration-color: #0087ff\">InputLayer</span>)        │ (<span style=\"color: #00d7ff; text-decoration-color: #00d7ff\">None</span>, <span style=\"color: #00af00; text-decoration-color: #00af00\">5</span>, <span style=\"color: #00af00; text-decoration-color: #00af00\">1</span>)           │             <span style=\"color: #00af00; text-decoration-color: #00af00\">0</span> │\n",
       "├─────────────────────────────────┼────────────────────────┼───────────────┤\n",
       "│ conv1d (<span style=\"color: #0087ff; text-decoration-color: #0087ff\">Conv1D</span>)                 │ (<span style=\"color: #00d7ff; text-decoration-color: #00d7ff\">None</span>, <span style=\"color: #00af00; text-decoration-color: #00af00\">4</span>, <span style=\"color: #00af00; text-decoration-color: #00af00\">32</span>)          │            <span style=\"color: #00af00; text-decoration-color: #00af00\">96</span> │\n",
       "├─────────────────────────────────┼────────────────────────┼───────────────┤\n",
       "│ dropout (<span style=\"color: #0087ff; text-decoration-color: #0087ff\">Dropout</span>)               │ (<span style=\"color: #00d7ff; text-decoration-color: #00d7ff\">None</span>, <span style=\"color: #00af00; text-decoration-color: #00af00\">4</span>, <span style=\"color: #00af00; text-decoration-color: #00af00\">32</span>)          │             <span style=\"color: #00af00; text-decoration-color: #00af00\">0</span> │\n",
       "├─────────────────────────────────┼────────────────────────┼───────────────┤\n",
       "│ conv1d_1 (<span style=\"color: #0087ff; text-decoration-color: #0087ff\">Conv1D</span>)               │ (<span style=\"color: #00d7ff; text-decoration-color: #00d7ff\">None</span>, <span style=\"color: #00af00; text-decoration-color: #00af00\">3</span>, <span style=\"color: #00af00; text-decoration-color: #00af00\">64</span>)          │         <span style=\"color: #00af00; text-decoration-color: #00af00\">4,160</span> │\n",
       "├─────────────────────────────────┼────────────────────────┼───────────────┤\n",
       "│ dropout_1 (<span style=\"color: #0087ff; text-decoration-color: #0087ff\">Dropout</span>)             │ (<span style=\"color: #00d7ff; text-decoration-color: #00d7ff\">None</span>, <span style=\"color: #00af00; text-decoration-color: #00af00\">3</span>, <span style=\"color: #00af00; text-decoration-color: #00af00\">64</span>)          │             <span style=\"color: #00af00; text-decoration-color: #00af00\">0</span> │\n",
       "├─────────────────────────────────┼────────────────────────┼───────────────┤\n",
       "│ flatten (<span style=\"color: #0087ff; text-decoration-color: #0087ff\">Flatten</span>)               │ (<span style=\"color: #00d7ff; text-decoration-color: #00d7ff\">None</span>, <span style=\"color: #00af00; text-decoration-color: #00af00\">192</span>)            │             <span style=\"color: #00af00; text-decoration-color: #00af00\">0</span> │\n",
       "├─────────────────────────────────┼────────────────────────┼───────────────┤\n",
       "│ dense (<span style=\"color: #0087ff; text-decoration-color: #0087ff\">Dense</span>)                   │ (<span style=\"color: #00d7ff; text-decoration-color: #00d7ff\">None</span>, <span style=\"color: #00af00; text-decoration-color: #00af00\">64</span>)             │        <span style=\"color: #00af00; text-decoration-color: #00af00\">12,352</span> │\n",
       "├─────────────────────────────────┼────────────────────────┼───────────────┤\n",
       "│ dropout_2 (<span style=\"color: #0087ff; text-decoration-color: #0087ff\">Dropout</span>)             │ (<span style=\"color: #00d7ff; text-decoration-color: #00d7ff\">None</span>, <span style=\"color: #00af00; text-decoration-color: #00af00\">64</span>)             │             <span style=\"color: #00af00; text-decoration-color: #00af00\">0</span> │\n",
       "├─────────────────────────────────┼────────────────────────┼───────────────┤\n",
       "│ dense_1 (<span style=\"color: #0087ff; text-decoration-color: #0087ff\">Dense</span>)                 │ (<span style=\"color: #00d7ff; text-decoration-color: #00d7ff\">None</span>, <span style=\"color: #00af00; text-decoration-color: #00af00\">5</span>)              │           <span style=\"color: #00af00; text-decoration-color: #00af00\">325</span> │\n",
       "└─────────────────────────────────┴────────────────────────┴───────────────┘\n",
       "</pre>\n"
      ],
      "text/plain": [
       "┏━━━━━━━━━━━━━━━━━━━━━━━━━━━━━━━━━┳━━━━━━━━━━━━━━━━━━━━━━━━┳━━━━━━━━━━━━━━━┓\n",
       "┃\u001b[1m \u001b[0m\u001b[1mLayer (type)                   \u001b[0m\u001b[1m \u001b[0m┃\u001b[1m \u001b[0m\u001b[1mOutput Shape          \u001b[0m\u001b[1m \u001b[0m┃\u001b[1m \u001b[0m\u001b[1m      Param #\u001b[0m\u001b[1m \u001b[0m┃\n",
       "┡━━━━━━━━━━━━━━━━━━━━━━━━━━━━━━━━━╇━━━━━━━━━━━━━━━━━━━━━━━━╇━━━━━━━━━━━━━━━┩\n",
       "│ input_layer (\u001b[38;5;33mInputLayer\u001b[0m)        │ (\u001b[38;5;45mNone\u001b[0m, \u001b[38;5;34m5\u001b[0m, \u001b[38;5;34m1\u001b[0m)           │             \u001b[38;5;34m0\u001b[0m │\n",
       "├─────────────────────────────────┼────────────────────────┼───────────────┤\n",
       "│ conv1d (\u001b[38;5;33mConv1D\u001b[0m)                 │ (\u001b[38;5;45mNone\u001b[0m, \u001b[38;5;34m4\u001b[0m, \u001b[38;5;34m32\u001b[0m)          │            \u001b[38;5;34m96\u001b[0m │\n",
       "├─────────────────────────────────┼────────────────────────┼───────────────┤\n",
       "│ dropout (\u001b[38;5;33mDropout\u001b[0m)               │ (\u001b[38;5;45mNone\u001b[0m, \u001b[38;5;34m4\u001b[0m, \u001b[38;5;34m32\u001b[0m)          │             \u001b[38;5;34m0\u001b[0m │\n",
       "├─────────────────────────────────┼────────────────────────┼───────────────┤\n",
       "│ conv1d_1 (\u001b[38;5;33mConv1D\u001b[0m)               │ (\u001b[38;5;45mNone\u001b[0m, \u001b[38;5;34m3\u001b[0m, \u001b[38;5;34m64\u001b[0m)          │         \u001b[38;5;34m4,160\u001b[0m │\n",
       "├─────────────────────────────────┼────────────────────────┼───────────────┤\n",
       "│ dropout_1 (\u001b[38;5;33mDropout\u001b[0m)             │ (\u001b[38;5;45mNone\u001b[0m, \u001b[38;5;34m3\u001b[0m, \u001b[38;5;34m64\u001b[0m)          │             \u001b[38;5;34m0\u001b[0m │\n",
       "├─────────────────────────────────┼────────────────────────┼───────────────┤\n",
       "│ flatten (\u001b[38;5;33mFlatten\u001b[0m)               │ (\u001b[38;5;45mNone\u001b[0m, \u001b[38;5;34m192\u001b[0m)            │             \u001b[38;5;34m0\u001b[0m │\n",
       "├─────────────────────────────────┼────────────────────────┼───────────────┤\n",
       "│ dense (\u001b[38;5;33mDense\u001b[0m)                   │ (\u001b[38;5;45mNone\u001b[0m, \u001b[38;5;34m64\u001b[0m)             │        \u001b[38;5;34m12,352\u001b[0m │\n",
       "├─────────────────────────────────┼────────────────────────┼───────────────┤\n",
       "│ dropout_2 (\u001b[38;5;33mDropout\u001b[0m)             │ (\u001b[38;5;45mNone\u001b[0m, \u001b[38;5;34m64\u001b[0m)             │             \u001b[38;5;34m0\u001b[0m │\n",
       "├─────────────────────────────────┼────────────────────────┼───────────────┤\n",
       "│ dense_1 (\u001b[38;5;33mDense\u001b[0m)                 │ (\u001b[38;5;45mNone\u001b[0m, \u001b[38;5;34m5\u001b[0m)              │           \u001b[38;5;34m325\u001b[0m │\n",
       "└─────────────────────────────────┴────────────────────────┴───────────────┘\n"
      ]
     },
     "metadata": {},
     "output_type": "display_data"
    },
    {
     "data": {
      "text/html": [
       "<pre style=\"white-space:pre;overflow-x:auto;line-height:normal;font-family:Menlo,'DejaVu Sans Mono',consolas,'Courier New',monospace\"><span style=\"font-weight: bold\"> Total params: </span><span style=\"color: #00af00; text-decoration-color: #00af00\">16,933</span> (66.14 KB)\n",
       "</pre>\n"
      ],
      "text/plain": [
       "\u001b[1m Total params: \u001b[0m\u001b[38;5;34m16,933\u001b[0m (66.14 KB)\n"
      ]
     },
     "metadata": {},
     "output_type": "display_data"
    },
    {
     "data": {
      "text/html": [
       "<pre style=\"white-space:pre;overflow-x:auto;line-height:normal;font-family:Menlo,'DejaVu Sans Mono',consolas,'Courier New',monospace\"><span style=\"font-weight: bold\"> Trainable params: </span><span style=\"color: #00af00; text-decoration-color: #00af00\">16,933</span> (66.14 KB)\n",
       "</pre>\n"
      ],
      "text/plain": [
       "\u001b[1m Trainable params: \u001b[0m\u001b[38;5;34m16,933\u001b[0m (66.14 KB)\n"
      ]
     },
     "metadata": {},
     "output_type": "display_data"
    },
    {
     "data": {
      "text/html": [
       "<pre style=\"white-space:pre;overflow-x:auto;line-height:normal;font-family:Menlo,'DejaVu Sans Mono',consolas,'Courier New',monospace\"><span style=\"font-weight: bold\"> Non-trainable params: </span><span style=\"color: #00af00; text-decoration-color: #00af00\">0</span> (0.00 B)\n",
       "</pre>\n"
      ],
      "text/plain": [
       "\u001b[1m Non-trainable params: \u001b[0m\u001b[38;5;34m0\u001b[0m (0.00 B)\n"
      ]
     },
     "metadata": {},
     "output_type": "display_data"
    }
   ],
   "source": [
    "# (1) DEFINE THE ARCHITECTURE OF MY MODEL\n",
    "l_input = tf.keras.Input(shape=(X_train.shape[1], 1))  # Input layer with 1D shape\n",
    "l = tf.keras.layers.Conv1D(32, kernel_size=2, activation='relu', kernel_regularizer=tf.keras.regularizers.l2(0.01))(l_input)\n",
    "#l = tf.keras.layers.MaxPooling1D(pool_size=1)(l)  # pool_size = 2\n",
    "l = tf.keras.layers.Dropout(0.2)(l)  # Lower dropout value\n",
    "\n",
    "l = tf.keras.layers.Conv1D(64, kernel_size=2, activation='relu', kernel_regularizer=tf.keras.regularizers.l2(0.01))(l)\n",
    "#l = tf.keras.layers.MaxPooling1D(pool_size=1)(l)  # pool_size = 2\n",
    "l = tf.keras.layers.Dropout(0.2)(l)  # Lower dropout value\n",
    "\n",
    "l = tf.keras.layers.Flatten()(l)\n",
    "l = tf.keras.layers.Dense(64, activation='relu', kernel_regularizer=tf.keras.regularizers.l2(0.01))(l)\n",
    "l = tf.keras.layers.Dropout(0.3)(l)  # Keep a reasonable dropout value\n",
    "\n",
    "outputs = tf.keras.layers.Dense(Y_train.shape[1], activation='sigmoid')(l)  # Utilisation de sigmoid pour une sortie multi-label\n",
    "\n",
    "# Define the model\n",
    "my_cnn_model = tf.keras.Model(inputs=l_input, outputs=outputs, name=\"my_cnn_model\")\n",
    "\n",
    "# Print model summary\n",
    "my_cnn_model.summary()\n",
    "\n",
    "# (2) DEFINE THE TRAINING HYPER-PARAMETERS WITH THE \"COMPILE\" METHOD:\n",
    "my_cnn_model.compile(optimizer='adam', loss='binary_crossentropy', metrics=['accuracy'])\n"
   ]
  },
  {
   "cell_type": "markdown",
   "metadata": {
    "id": "dIONoP2Jdg8Q"
   },
   "source": [
    "**QUESTION** Code below the algorithms allowing to train model\n",
    "\n",
    "**WARNING!** You need to plot the training and test accuracy and loss to check if our model is overfitting"
   ]
  },
  {
   "cell_type": "code",
   "execution_count": null,
   "metadata": {
    "id": "jJ2bYxZydhW2"
   },
   "outputs": [
    {
     "name": "stdout",
     "output_type": "stream",
     "text": [
      "Epoch 1/20\n",
      "\u001b[1m250/250\u001b[0m \u001b[32m━━━━━━━━━━━━━━━━━━━━\u001b[0m\u001b[37m\u001b[0m \u001b[1m5s\u001b[0m 2ms/step - accuracy: 0.9079 - loss: 6.3891\n",
      "Epoch 2/20\n",
      "\u001b[1m250/250\u001b[0m \u001b[32m━━━━━━━━━━━━━━━━━━━━\u001b[0m\u001b[37m\u001b[0m \u001b[1m1s\u001b[0m 2ms/step - accuracy: 0.9333 - loss: 1.1343\n",
      "Epoch 3/20\n",
      "\u001b[1m250/250\u001b[0m \u001b[32m━━━━━━━━━━━━━━━━━━━━\u001b[0m\u001b[37m\u001b[0m \u001b[1m1s\u001b[0m 2ms/step - accuracy: 0.9635 - loss: 0.8258\n",
      "Epoch 4/20\n",
      "\u001b[1m250/250\u001b[0m \u001b[32m━━━━━━━━━━━━━━━━━━━━\u001b[0m\u001b[37m\u001b[0m \u001b[1m1s\u001b[0m 3ms/step - accuracy: 0.9634 - loss: 0.6860\n",
      "Epoch 5/20\n",
      "\u001b[1m250/250\u001b[0m \u001b[32m━━━━━━━━━━━━━━━━━━━━\u001b[0m\u001b[37m\u001b[0m \u001b[1m1s\u001b[0m 3ms/step - accuracy: 0.9655 - loss: 0.5691\n",
      "Epoch 6/20\n",
      "\u001b[1m250/250\u001b[0m \u001b[32m━━━━━━━━━━━━━━━━━━━━\u001b[0m\u001b[37m\u001b[0m \u001b[1m1s\u001b[0m 2ms/step - accuracy: 0.9667 - loss: 0.4739\n",
      "Epoch 7/20\n",
      "\u001b[1m250/250\u001b[0m \u001b[32m━━━━━━━━━━━━━━━━━━━━\u001b[0m\u001b[37m\u001b[0m \u001b[1m1s\u001b[0m 3ms/step - accuracy: 0.9643 - loss: 0.4186\n",
      "Epoch 8/20\n",
      "\u001b[1m250/250\u001b[0m \u001b[32m━━━━━━━━━━━━━━━━━━━━\u001b[0m\u001b[37m\u001b[0m \u001b[1m1s\u001b[0m 3ms/step - accuracy: 0.9652 - loss: 0.3646\n",
      "Epoch 9/20\n",
      "\u001b[1m250/250\u001b[0m \u001b[32m━━━━━━━━━━━━━━━━━━━━\u001b[0m\u001b[37m\u001b[0m \u001b[1m1s\u001b[0m 2ms/step - accuracy: 0.9639 - loss: 0.3171\n",
      "Epoch 10/20\n",
      "\u001b[1m250/250\u001b[0m \u001b[32m━━━━━━━━━━━━━━━━━━━━\u001b[0m\u001b[37m\u001b[0m \u001b[1m1s\u001b[0m 2ms/step - accuracy: 0.9650 - loss: 0.2794\n",
      "Epoch 11/20\n",
      "\u001b[1m250/250\u001b[0m \u001b[32m━━━━━━━━━━━━━━━━━━━━\u001b[0m\u001b[37m\u001b[0m \u001b[1m1s\u001b[0m 3ms/step - accuracy: 0.9671 - loss: 0.2444\n",
      "Epoch 12/20\n",
      "\u001b[1m250/250\u001b[0m \u001b[32m━━━━━━━━━━━━━━━━━━━━\u001b[0m\u001b[37m\u001b[0m \u001b[1m1s\u001b[0m 3ms/step - accuracy: 0.9677 - loss: 0.2143\n",
      "Epoch 13/20\n",
      "\u001b[1m250/250\u001b[0m \u001b[32m━━━━━━━━━━━━━━━━━━━━\u001b[0m\u001b[37m\u001b[0m \u001b[1m1s\u001b[0m 2ms/step - accuracy: 0.9651 - loss: 0.1966\n",
      "Epoch 14/20\n",
      "\u001b[1m250/250\u001b[0m \u001b[32m━━━━━━━━━━━━━━━━━━━━\u001b[0m\u001b[37m\u001b[0m \u001b[1m1s\u001b[0m 2ms/step - accuracy: 0.9662 - loss: 0.1712\n",
      "Epoch 15/20\n",
      "\u001b[1m250/250\u001b[0m \u001b[32m━━━━━━━━━━━━━━━━━━━━\u001b[0m\u001b[37m\u001b[0m \u001b[1m1s\u001b[0m 3ms/step - accuracy: 0.9628 - loss: 0.1620\n",
      "Epoch 16/20\n",
      "\u001b[1m250/250\u001b[0m \u001b[32m━━━━━━━━━━━━━━━━━━━━\u001b[0m\u001b[37m\u001b[0m \u001b[1m1s\u001b[0m 2ms/step - accuracy: 0.9681 - loss: 0.1382\n",
      "Epoch 17/20\n",
      "\u001b[1m250/250\u001b[0m \u001b[32m━━━━━━━━━━━━━━━━━━━━\u001b[0m\u001b[37m\u001b[0m \u001b[1m1s\u001b[0m 2ms/step - accuracy: 0.9617 - loss: 0.1354\n",
      "Epoch 18/20\n",
      "\u001b[1m250/250\u001b[0m \u001b[32m━━━━━━━━━━━━━━━━━━━━\u001b[0m\u001b[37m\u001b[0m \u001b[1m1s\u001b[0m 3ms/step - accuracy: 0.9701 - loss: 0.1118\n",
      "Epoch 19/20\n",
      "\u001b[1m250/250\u001b[0m \u001b[32m━━━━━━━━━━━━━━━━━━━━\u001b[0m\u001b[37m\u001b[0m \u001b[1m1s\u001b[0m 3ms/step - accuracy: 0.9687 - loss: 0.1027\n",
      "Epoch 20/20\n",
      "\u001b[1m250/250\u001b[0m \u001b[32m━━━━━━━━━━━━━━━━━━━━\u001b[0m\u001b[37m\u001b[0m \u001b[1m1s\u001b[0m 2ms/step - accuracy: 0.9652 - loss: 0.1030\n",
      "\u001b[1m63/63\u001b[0m \u001b[32m━━━━━━━━━━━━━━━━━━━━\u001b[0m\u001b[37m\u001b[0m \u001b[1m0s\u001b[0m 2ms/step - accuracy: 0.9679 - loss: 0.0904\n",
      "Test accuracy: 0.9704999923706055\n"
     ]
    }
   ],
   "source": [
    "nb_epochs=20\n",
    "batch_size=32\n",
    "\"\"\"\n",
    "class_weights = compute_class_weight(class_weight='balanced', \n",
    "                                     classes=np.unique(np.argmax(Y_train, axis=1)), \n",
    "                                     y=np.argmax(Y_train, axis=1))\n",
    "\n",
    "class_weights_dict = {i: class_weights[i] for i in range(len(class_weights))}\n",
    "\"\"\"\n",
    "training_history = my_cnn_model.fit(X_train,Y_train,\n",
    "                                    epochs=nb_epochs,\n",
    "                                    batch_size=batch_size)\n",
    "\n",
    "# Évaluation du modèle sur les données de test\n",
    "test_loss, test_acc = my_cnn_model.evaluate(X_test, Y_test)\n",
    "print(f\"Test accuracy: {test_acc}\")"
   ]
  },
  {
   "cell_type": "code",
   "execution_count": null,
   "metadata": {},
   "outputs": [
    {
     "data": {
      "image/png": "[encoded data removed]",
      "text/plain": [
       "<Figure size 640x480 with 1 Axes>"
      ]
     },
     "metadata": {},
     "output_type": "display_data"
    },
    {
     "data": {
      "image/png": "[encoded data removed]",
      "text/plain": [
       "<Figure size 640x480 with 1 Axes>"
      ]
     },
     "metadata": {},
     "output_type": "display_data"
    },
    {
     "name": "stdout",
     "output_type": "stream",
     "text": [
      "Final Accuracy on test set: 0.9704999923706055\n"
     ]
    }
   ],
   "source": [
    "def display_training_curves(training_history):\n",
    "  # display loss\n",
    "  plt.plot(training_history.history['loss'],label='loss')\n",
    "  plt.xlabel(\"epoch\")\n",
    "  plt.legend(bbox_to_anchor=(1.05, 1), loc=2)\n",
    "  plt.show()\n",
    "  #display accuracy\n",
    "  plt.plot(training_history.history['accuracy'],label='acc')\n",
    "  plt.xlabel(\"epoch\")\n",
    "  plt.legend(bbox_to_anchor=(1.05, 1), loc=2)\n",
    "  plt.show()\n",
    "\n",
    "display_training_curves(training_history)\n",
    "\n",
    "print(\"Final Accuracy on test set:\", test_acc)\n"
   ]
  },
  {
   "cell_type": "markdown",
   "metadata": {
    "id": "yvmyHnqYpbf-"
   },
   "source": [
    "    **QUESTION** Plot the confusion matrix and the classification report"
   ]
  },
  {
   "cell_type": "markdown",
   "metadata": {
    "id": "FUXSeJ1ZpsSP"
   },
   "source": [
    "**Tips:**\n",
    "\n",
    "*   classification report link\n",
    "\n",
    "> https://scikit-learn.org/stable/modules/generated/sklearn.metrics.classification_report.html\n",
    "\n",
    "*   Matrix confusion\n",
    "\n",
    "> https://scikit-learn.org/stable/modules/generated/sklearn.metrics.ConfusionMatrixDisplay.html\n",
    "\n",
    "\n",
    "\n"
   ]
  },
  {
   "cell_type": "code",
   "execution_count": null,
   "metadata": {
    "id": "m4q5wvHNnAdu"
   },
   "outputs": [
    {
     "name": "stdout",
     "output_type": "stream",
     "text": [
      "\u001b[1m63/63\u001b[0m \u001b[32m━━━━━━━━━━━━━━━━━━━━\u001b[0m\u001b[37m\u001b[0m \u001b[1m0s\u001b[0m 1ms/step  \n",
      "[[9.4996518e-01 5.5710161e-03 1.3306002e-02 1.5769174e-02 1.3489129e-02]\n",
      " [9.4724518e-01 6.7047039e-03 1.5284622e-02 1.7614286e-02 1.5487282e-02]\n",
      " [9.4953424e-01 5.7842466e-03 1.3676387e-02 1.6130365e-02 1.3863784e-02]\n",
      " ...\n",
      " [9.4457793e-01 7.9626050e-03 1.7384410e-02 1.9518603e-02 1.7606484e-02]\n",
      " [9.8275214e-01 2.0676026e-04 1.0864901e-03 2.2100369e-03 1.1154768e-03]\n",
      " [9.4381666e-01 8.3015207e-03 1.7942313e-02 2.0006383e-02 1.8168695e-02]]\n",
      "Classification report for classifier my_cnn_model:\n",
      "              precision    recall  f1-score   support\n",
      "\n",
      "  No Failure       0.97      1.00      0.99      1941\n",
      "         TWF       0.00      0.00      0.00        11\n",
      "         HDF       0.00      0.00      0.00        17\n",
      "         PWF       0.00      0.00      0.00        18\n",
      "         OSF       0.00      0.00      0.00        13\n",
      "\n",
      "   micro avg       0.97      0.97      0.97      2000\n",
      "   macro avg       0.19      0.20      0.20      2000\n",
      "weighted avg       0.94      0.97      0.96      2000\n",
      " samples avg       0.97      0.97      0.97      2000\n",
      "\n",
      "\n"
     ]
    },
    {
     "name": "stderr",
     "output_type": "stream",
     "text": [
      "C:\\Users\\mathi\\AppData\\Local\\Packages\\PythonSoftwareFoundation.Python.3.12_qbz5n2kfra8p0\\LocalCache\\local-packages\\Python312\\site-packages\\sklearn\\metrics\\_classification.py:1565: UndefinedMetricWarning: Precision is ill-defined and being set to 0.0 in labels with no predicted samples. Use `zero_division` parameter to control this behavior.\n",
      "  _warn_prf(average, modifier, f\"{metric.capitalize()} is\", len(result))\n"
     ]
    },
    {
     "data": {
      "text/plain": [
       "<sklearn.metrics._plot.confusion_matrix.ConfusionMatrixDisplay at 0x1a3df268b60>"
      ]
     },
     "execution_count": 19,
     "metadata": {},
     "output_type": "execute_result"
    },
    {
     "data": {
      "image/png": "[encoded data removed]",
      "text/plain": [
       "<Figure size 640x480 with 2 Axes>"
      ]
     },
     "metadata": {},
     "output_type": "display_data"
    }
   ],
   "source": [
    "predictions = my_cnn_model.predict(X_test)\n",
    "print(predictions)\n",
    "predictions_bin = np.zeros_like(predictions)\n",
    "predictions_bin[np.arange(predictions.shape[0]), np.argmax(predictions, axis=1)] = 1\n",
    "\n",
    "\n",
    "Y_test_bin  = np.zeros_like(Y_test)\n",
    "Y_test_bin[np.arange(Y_test.shape[0]), np.argmax(Y_test, axis=1)] = 1\n",
    "\n",
    "class_names = [\"No Failure\", \"TWF\", \"HDF\", \"PWF\", \"OSF\"]\n",
    "\n",
    "print(\n",
    "    f\"Classification report for classifier my_cnn_model:\\n\"\n",
    "    f\"{classification_report(Y_test_bin, predictions_bin, target_names=class_names)}\\n\"\n",
    ")\n",
    "\n",
    "cm = confusion_matrix(Y_test_bin.argmax(axis=1), predictions_bin.argmax(axis=1))\n",
    "cm_display = ConfusionMatrixDisplay(confusion_matrix=cm)\n",
    "cm_display.plot()"
   ]
  },
  {
   "cell_type": "markdown",
   "metadata": {
    "id": "ImGsmryGkKhj"
   },
   "source": [
    "**ANALYSIS QUESTION** What do you observe? What can you conclude?"
   ]
  },
  {
   "cell_type": "markdown",
   "metadata": {
    "id": "y1f5OneQknZy"
   },
   "source": [
    "On voit bien sur la matrice de confusion que le modèle fait des bonnes prédictions pour la classe 0 mais pas pour les autres.\n",
    "En effet, la classe 0 correspond à \"No Failure\" et pour rappel, nous avions trouvé les résultats suivants dans la première partie de ce rapport : \n",
    "Nombre d'occurrences de chaque état :\n",
    " Machine failure\n",
    "0    9661\n",
    "1     339\n",
    "\n",
    "On voit donc que dans le Dataset complet, 96,6% des données correspondent à une absence de défaut.\n",
    "\n",
    "Ainsi, lorsque le modèle apprend il catégorise en permancence dans la classe 0 ce qui fait que l'accuracy est de 96% comme on peut le voir sur les graphiques plus haut lors de l'apprentissage.\n",
    "\n",
    "Il est donc nécessaire de modifier le dataset pour que les données de la classe 0 soient en proportion similaires à celles des autres classes."
   ]
  },
  {
   "cell_type": "markdown",
   "metadata": {
    "id": "EYUyUAN5ji0x"
   },
   "source": [
    "## **3- Train model With balancing the dataset**\n",
    "\n",
    "---"
   ]
  },
  {
   "cell_type": "markdown",
   "metadata": {
    "id": "EQWut50JhKdD"
   },
   "source": [
    " Methods for rebalancing a dataset:\n",
    "\n",
    "\n",
    "*   Use oversampling techniques (e.g., SMOTE) to generate synthetic data for minority classes\n",
    "\n",
    "\n",
    "> https://imbalanced-learn.org/stable/references/generated/imblearn.over_sampling.SMOTE.html\n",
    "\n",
    "\n",
    "\n",
    "*   Apply undersampling techniques (e.g., random undersampling, Tomek Links, Edited Nearest Neighbors) to reduce the majority class size\n",
    "\n",
    "\n",
    "\n",
    "> https://imbalanced-learn.org/stable/references/generated/imblearn.under_sampling.RandomUnderSampler.html\n",
    "\n",
    "\n",
    "\n",
    "*   Use class weighting during model training to penalize errors on minority classes\n",
    "\n",
    "\n",
    "\n",
    "> https://www.tensorflow.org/tutorials/structured_data/imbalanced_data?hl=fr\n"
   ]
  },
  {
   "cell_type": "markdown",
   "metadata": {
    "id": "--pWJzaUnXdY"
   },
   "source": [
    "**QUESTION:** Create X_train, Y_train, X_test, and Y_test. How many elements are present in X_train, Y_train, X_test, and Y_test? (Print the values)"
   ]
  },
  {
   "cell_type": "code",
   "execution_count": null,
   "metadata": {},
   "outputs": [
    {
     "name": "stdout",
     "output_type": "stream",
     "text": [
      "Counter({np.int64(0): 9670, np.int64(2): 115, np.int64(3): 91, np.int64(4): 78, np.int64(1): 46})\n",
      "Original dataset shape: Counter({np.int64(0): 9670, np.int64(2): 115, np.int64(3): 91, np.int64(4): 78, np.int64(1): 46})\n",
      "Resampled dataset shape: Counter({np.int64(0): 9670, np.int64(3): 9670, np.int64(1): 9670, np.int64(4): 9670, np.int64(2): 9670})\n",
      "Resampled dataset shape: Counter({np.int64(0): 9670, np.int64(1): 9670, np.int64(2): 9670, np.int64(3): 9670, np.int64(4): 9670})\n",
      "[[0. 1. 0. 0. 0.]\n",
      " [0. 1. 0. 0. 0.]\n",
      " [0. 1. 0. 0. 0.]\n",
      " ...\n",
      " [0. 1. 0. 0. 0.]\n",
      " [0. 1. 0. 0. 0.]\n",
      " [0. 1. 0. 0. 0.]]\n",
      "Nombre d'éléments dans X_train : (38680, 5)\n",
      "Nombre d'éléments dans Y_train : (38680, 5)\n",
      "Nombre d'éléments dans X_test : (9670, 5)\n",
      "Nombre d'éléments dans Y_test : (9670, 5)\n"
     ]
    }
   ],
   "source": [
    "from collections import Counter\n",
    "from sklearn.preprocessing import StandardScaler\n",
    "from imblearn.over_sampling import SMOTE\n",
    "from imblearn.under_sampling import RandomUnderSampler\n",
    "\n",
    "# Normalisation des données\n",
    "#scaler = StandardScaler()\n",
    "#X_scaled = scaler.fit_transform(X)\n",
    "\n",
    "\n",
    "# Convertir les étiquettes multilabel en une seule étiquette par échantillon\n",
    "Y_single_label = np.array([np.argmax(row) for row in Y])\n",
    "print(Counter(Y_single_label))  # Afficher la distribution originale des classes\n",
    "\n",
    "# Afficher la distribution originale des classes\n",
    "print('Original dataset shape:', Counter(Y_single_label))\n",
    "\n",
    "# Appliquer SMOTE pour équilibrer les classes\n",
    "sm = SMOTE(random_state=42)\n",
    "X_res, Y_res = sm.fit_resample(X_scaled, Y_single_label)\n",
    "\n",
    "# Afficher la distribution des classes après rééchantillonnage\n",
    "print('Resampled dataset shape:', Counter(Y_res))\n",
    "\n",
    "# Appliquer RandomUnderSampler pour équilibrer les classes avec sampling_strategy='auto'\n",
    "rus = RandomUnderSampler(sampling_strategy='auto', random_state=42)\n",
    "X_res, Y_res_single_label = rus.fit_resample(X_res, Y_res)\n",
    "\n",
    "# Afficher la distribution des classes après rééchantillonnage\n",
    "print('Resampled dataset shape:', Counter(Y_res_single_label))\n",
    "\n",
    "# Convertir les étiquettes rééchantillonnées en format multilabel (one-hot encoding)\n",
    "Y_res_multilabel = np.zeros((Y_res_single_label.size, Y.shape[1]))\n",
    "Y_res_multilabel[np.arange(Y_res_single_label.size), Y_res_single_label] = 1\n",
    "#Attention, avec cette version si une sample est 0 1 1 0 0 elle sera mise dans la classe 1 et la classe 2\n",
    "\n",
    "\n",
    "# Diviser les données rééchantillonnées en ensembles d'entraînement et de test\n",
    "X_train_SMOTE, X_test_SMOTE, Y_train_SMOTE, Y_test_SMOTE = train_test_split(X_res, Y_res_multilabel, test_size=0.2, random_state=42)\n",
    "\n",
    "# Afficher les éléments de Y_test dont le premier élément est 1\n",
    "#Seulement pour des tests\n",
    "Y_test_filtered = Y_test_SMOTE[Y_test_SMOTE[:, 1] == 1]\n",
    "print(Y_test_filtered)\n",
    "\n",
    "# Afficher le nombre d'éléments dans chaque ensemble\n",
    "print(f\"Nombre d'éléments dans X_train : {X_train_SMOTE.shape}\")\n",
    "print(f\"Nombre d'éléments dans Y_train : {Y_train_SMOTE.shape}\")\n",
    "print(f\"Nombre d'éléments dans X_test : {X_test_SMOTE.shape}\")\n",
    "print(f\"Nombre d'éléments dans Y_test : {Y_test_SMOTE.shape}\")"
   ]
  },
  {
   "cell_type": "markdown",
   "metadata": {
    "id": "-YcZXIadnbcm"
   },
   "source": [
    "**ANALYSIS QUESTION:** Explain the choices you made to balance the dataset."
   ]
  },
  {
   "cell_type": "markdown",
   "metadata": {
    "id": "Rku3pnWxnxhI"
   },
   "source": [
    "TODO : Change\n",
    "\n",
    "Nous ne souhaitions pas utiliser la méthode d'Undersampling puisque nous avons déjà peu d'échantillon présentant des failures. Cela aurait fait perdre beaucoup d'information et notre dataset aurait été très petit.\n",
    "\n",
    "Nous avons donc testé la méthode SMOTE, qui va permettre de générer des échantillons pour les classes en minorité. Ainsi, on enrichira notre dataset au lieu de l'appauvrir comme la technique précédente."
   ]
  },
  {
   "cell_type": "markdown",
   "metadata": {
    "id": "BVryPCQFn4Dd"
   },
   "source": [
    "**QUESTION:** Code below the model architecture\n"
   ]
  },
  {
   "cell_type": "markdown",
   "metadata": {
    "id": "Q5BGfI7TpVDD"
   },
   "source": [
    "**TIP:** It could be interesting to keep it the same as before"
   ]
  },
  {
   "cell_type": "code",
   "execution_count": null,
   "metadata": {
    "id": "S0UbMHN6OC51"
   },
   "outputs": [
    {
     "data": {
      "text/html": [
       "<pre style=\"white-space:pre;overflow-x:auto;line-height:normal;font-family:Menlo,'DejaVu Sans Mono',consolas,'Courier New',monospace\"><span style=\"font-weight: bold\">Model: \"improved_mlp_model\"</span>\n",
       "</pre>\n"
      ],
      "text/plain": [
       "\u001b[1mModel: \"improved_mlp_model\"\u001b[0m\n"
      ]
     },
     "metadata": {},
     "output_type": "display_data"
    },
    {
     "data": {
      "text/html": [
       "<pre style=\"white-space:pre;overflow-x:auto;line-height:normal;font-family:Menlo,'DejaVu Sans Mono',consolas,'Courier New',monospace\">┏━━━━━━━━━━━━━━━━━━━━━━━━━━━━━━━━━┳━━━━━━━━━━━━━━━━━━━━━━━━┳━━━━━━━━━━━━━━━┓\n",
       "┃<span style=\"font-weight: bold\"> Layer (type)                    </span>┃<span style=\"font-weight: bold\"> Output Shape           </span>┃<span style=\"font-weight: bold\">       Param # </span>┃\n",
       "┡━━━━━━━━━━━━━━━━━━━━━━━━━━━━━━━━━╇━━━━━━━━━━━━━━━━━━━━━━━━╇━━━━━━━━━━━━━━━┩\n",
       "│ input_layer_2 (<span style=\"color: #0087ff; text-decoration-color: #0087ff\">InputLayer</span>)      │ (<span style=\"color: #00d7ff; text-decoration-color: #00d7ff\">None</span>, <span style=\"color: #00af00; text-decoration-color: #00af00\">5</span>)              │             <span style=\"color: #00af00; text-decoration-color: #00af00\">0</span> │\n",
       "├─────────────────────────────────┼────────────────────────┼───────────────┤\n",
       "│ dense_7 (<span style=\"color: #0087ff; text-decoration-color: #0087ff\">Dense</span>)                 │ (<span style=\"color: #00d7ff; text-decoration-color: #00d7ff\">None</span>, <span style=\"color: #00af00; text-decoration-color: #00af00\">64</span>)             │           <span style=\"color: #00af00; text-decoration-color: #00af00\">384</span> │\n",
       "├─────────────────────────────────┼────────────────────────┼───────────────┤\n",
       "│ dense_8 (<span style=\"color: #0087ff; text-decoration-color: #0087ff\">Dense</span>)                 │ (<span style=\"color: #00d7ff; text-decoration-color: #00d7ff\">None</span>, <span style=\"color: #00af00; text-decoration-color: #00af00\">32</span>)             │         <span style=\"color: #00af00; text-decoration-color: #00af00\">2,080</span> │\n",
       "├─────────────────────────────────┼────────────────────────┼───────────────┤\n",
       "│ dense_9 (<span style=\"color: #0087ff; text-decoration-color: #0087ff\">Dense</span>)                 │ (<span style=\"color: #00d7ff; text-decoration-color: #00d7ff\">None</span>, <span style=\"color: #00af00; text-decoration-color: #00af00\">5</span>)              │           <span style=\"color: #00af00; text-decoration-color: #00af00\">165</span> │\n",
       "└─────────────────────────────────┴────────────────────────┴───────────────┘\n",
       "</pre>\n"
      ],
      "text/plain": [
       "┏━━━━━━━━━━━━━━━━━━━━━━━━━━━━━━━━━┳━━━━━━━━━━━━━━━━━━━━━━━━┳━━━━━━━━━━━━━━━┓\n",
       "┃\u001b[1m \u001b[0m\u001b[1mLayer (type)                   \u001b[0m\u001b[1m \u001b[0m┃\u001b[1m \u001b[0m\u001b[1mOutput Shape          \u001b[0m\u001b[1m \u001b[0m┃\u001b[1m \u001b[0m\u001b[1m      Param #\u001b[0m\u001b[1m \u001b[0m┃\n",
       "┡━━━━━━━━━━━━━━━━━━━━━━━━━━━━━━━━━╇━━━━━━━━━━━━━━━━━━━━━━━━╇━━━━━━━━━━━━━━━┩\n",
       "│ input_layer_2 (\u001b[38;5;33mInputLayer\u001b[0m)      │ (\u001b[38;5;45mNone\u001b[0m, \u001b[38;5;34m5\u001b[0m)              │             \u001b[38;5;34m0\u001b[0m │\n",
       "├─────────────────────────────────┼────────────────────────┼───────────────┤\n",
       "│ dense_7 (\u001b[38;5;33mDense\u001b[0m)                 │ (\u001b[38;5;45mNone\u001b[0m, \u001b[38;5;34m64\u001b[0m)             │           \u001b[38;5;34m384\u001b[0m │\n",
       "├─────────────────────────────────┼────────────────────────┼───────────────┤\n",
       "│ dense_8 (\u001b[38;5;33mDense\u001b[0m)                 │ (\u001b[38;5;45mNone\u001b[0m, \u001b[38;5;34m32\u001b[0m)             │         \u001b[38;5;34m2,080\u001b[0m │\n",
       "├─────────────────────────────────┼────────────────────────┼───────────────┤\n",
       "│ dense_9 (\u001b[38;5;33mDense\u001b[0m)                 │ (\u001b[38;5;45mNone\u001b[0m, \u001b[38;5;34m5\u001b[0m)              │           \u001b[38;5;34m165\u001b[0m │\n",
       "└─────────────────────────────────┴────────────────────────┴───────────────┘\n"
      ]
     },
     "metadata": {},
     "output_type": "display_data"
    },
    {
     "data": {
      "text/html": [
       "<pre style=\"white-space:pre;overflow-x:auto;line-height:normal;font-family:Menlo,'DejaVu Sans Mono',consolas,'Courier New',monospace\"><span style=\"font-weight: bold\"> Total params: </span><span style=\"color: #00af00; text-decoration-color: #00af00\">2,629</span> (10.27 KB)\n",
       "</pre>\n"
      ],
      "text/plain": [
       "\u001b[1m Total params: \u001b[0m\u001b[38;5;34m2,629\u001b[0m (10.27 KB)\n"
      ]
     },
     "metadata": {},
     "output_type": "display_data"
    },
    {
     "data": {
      "text/html": [
       "<pre style=\"white-space:pre;overflow-x:auto;line-height:normal;font-family:Menlo,'DejaVu Sans Mono',consolas,'Courier New',monospace\"><span style=\"font-weight: bold\"> Trainable params: </span><span style=\"color: #00af00; text-decoration-color: #00af00\">2,629</span> (10.27 KB)\n",
       "</pre>\n"
      ],
      "text/plain": [
       "\u001b[1m Trainable params: \u001b[0m\u001b[38;5;34m2,629\u001b[0m (10.27 KB)\n"
      ]
     },
     "metadata": {},
     "output_type": "display_data"
    },
    {
     "data": {
      "text/html": [
       "<pre style=\"white-space:pre;overflow-x:auto;line-height:normal;font-family:Menlo,'DejaVu Sans Mono',consolas,'Courier New',monospace\"><span style=\"font-weight: bold\"> Non-trainable params: </span><span style=\"color: #00af00; text-decoration-color: #00af00\">0</span> (0.00 B)\n",
       "</pre>\n"
      ],
      "text/plain": [
       "\u001b[1m Non-trainable params: \u001b[0m\u001b[38;5;34m0\u001b[0m (0.00 B)\n"
      ]
     },
     "metadata": {},
     "output_type": "display_data"
    }
   ],
   "source": [
    "inputs = tf.keras.Input(shape=(X_train_SMOTE.shape[1],))  # Suppression de la dimension supplémentaire\n",
    "x = tf.keras.layers.Dense(32, activation='relu')(inputs)  # Plus de neurones dans la première couche cachée\n",
    "x = tf.keras.layers.Dense(64, activation='relu')(inputs) \n",
    "x = tf.keras.layers.Dense(32, activation='relu')(x)  # Ajout d'une deuxième couche cachée\n",
    "outputs = tf.keras.layers.Dense(Y_train_SMOTE.shape[1], activation='softmax')(x)  # Couche de sortie pour 5 classes\n",
    "improved_mlp_model = tf.keras.Model(inputs=inputs, outputs=outputs, name=\"improved_mlp_model\")\n",
    "\n",
    "improved_mlp_model.summary()\n",
    "\n",
    "# Compilation du modèle\n",
    "improved_mlp_model.compile(optimizer='adam', loss='categorical_crossentropy', metrics=['accuracy'])\n"
   ]
  },
  {
   "cell_type": "markdown",
   "metadata": {
    "id": "wBZyS7DdofFq"
   },
   "source": [
    "**QUESTION** Code below the algorithms allowing to train model\n"
   ]
  },
  {
   "cell_type": "code",
   "execution_count": null,
   "metadata": {
    "id": "my6Ck5JbMDOG"
   },
   "outputs": [
    {
     "name": "stdout",
     "output_type": "stream",
     "text": [
      "Epoch 1/40\n",
      "\u001b[1m1209/1209\u001b[0m \u001b[32m━━━━━━━━━━━━━━━━━━━━\u001b[0m\u001b[37m\u001b[0m \u001b[1m3s\u001b[0m 1ms/step - accuracy: 0.4076 - loss: 16.8276\n",
      "Epoch 2/40\n",
      "\u001b[1m1209/1209\u001b[0m \u001b[32m━━━━━━━━━━━━━━━━━━━━\u001b[0m\u001b[37m\u001b[0m \u001b[1m2s\u001b[0m 1ms/step - accuracy: 0.7077 - loss: 0.9681\n",
      "Epoch 3/40\n",
      "\u001b[1m1209/1209\u001b[0m \u001b[32m━━━━━━━━━━━━━━━━━━━━\u001b[0m\u001b[37m\u001b[0m \u001b[1m2s\u001b[0m 2ms/step - accuracy: 0.7510 - loss: 0.8529\n",
      "Epoch 4/40\n",
      "\u001b[1m1209/1209\u001b[0m \u001b[32m━━━━━━━━━━━━━━━━━━━━\u001b[0m\u001b[37m\u001b[0m \u001b[1m2s\u001b[0m 2ms/step - accuracy: 0.7720 - loss: 0.7815\n",
      "Epoch 5/40\n",
      "\u001b[1m1209/1209\u001b[0m \u001b[32m━━━━━━━━━━━━━━━━━━━━\u001b[0m\u001b[37m\u001b[0m \u001b[1m2s\u001b[0m 2ms/step - accuracy: 0.7851 - loss: 0.8115\n",
      "Epoch 6/40\n",
      "\u001b[1m1209/1209\u001b[0m \u001b[32m━━━━━━━━━━━━━━━━━━━━\u001b[0m\u001b[37m\u001b[0m \u001b[1m2s\u001b[0m 2ms/step - accuracy: 0.8078 - loss: 0.7206\n",
      "Epoch 7/40\n",
      "\u001b[1m1209/1209\u001b[0m \u001b[32m━━━━━━━━━━━━━━━━━━━━\u001b[0m\u001b[37m\u001b[0m \u001b[1m2s\u001b[0m 2ms/step - accuracy: 0.8107 - loss: 0.6916\n",
      "Epoch 8/40\n",
      "\u001b[1m1209/1209\u001b[0m \u001b[32m━━━━━━━━━━━━━━━━━━━━\u001b[0m\u001b[37m\u001b[0m \u001b[1m2s\u001b[0m 1ms/step - accuracy: 0.8385 - loss: 0.5736\n",
      "Epoch 9/40\n",
      "\u001b[1m1209/1209\u001b[0m \u001b[32m━━━━━━━━━━━━━━━━━━━━\u001b[0m\u001b[37m\u001b[0m \u001b[1m2s\u001b[0m 2ms/step - accuracy: 0.8294 - loss: 0.6038\n",
      "Epoch 10/40\n",
      "\u001b[1m1209/1209\u001b[0m \u001b[32m━━━━━━━━━━━━━━━━━━━━\u001b[0m\u001b[37m\u001b[0m \u001b[1m2s\u001b[0m 2ms/step - accuracy: 0.8360 - loss: 0.5845\n",
      "Epoch 11/40\n",
      "\u001b[1m1209/1209\u001b[0m \u001b[32m━━━━━━━━━━━━━━━━━━━━\u001b[0m\u001b[37m\u001b[0m \u001b[1m2s\u001b[0m 2ms/step - accuracy: 0.8525 - loss: 0.5092\n",
      "Epoch 12/40\n",
      "\u001b[1m1209/1209\u001b[0m \u001b[32m━━━━━━━━━━━━━━━━━━━━\u001b[0m\u001b[37m\u001b[0m \u001b[1m2s\u001b[0m 2ms/step - accuracy: 0.8607 - loss: 0.4732\n",
      "Epoch 13/40\n",
      "\u001b[1m1209/1209\u001b[0m \u001b[32m━━━━━━━━━━━━━━━━━━━━\u001b[0m\u001b[37m\u001b[0m \u001b[1m2s\u001b[0m 2ms/step - accuracy: 0.8770 - loss: 0.4014\n",
      "Epoch 14/40\n",
      "\u001b[1m1209/1209\u001b[0m \u001b[32m━━━━━━━━━━━━━━━━━━━━\u001b[0m\u001b[37m\u001b[0m \u001b[1m2s\u001b[0m 2ms/step - accuracy: 0.8810 - loss: 0.3873\n",
      "Epoch 15/40\n",
      "\u001b[1m1209/1209\u001b[0m \u001b[32m━━━━━━━━━━━━━━━━━━━━\u001b[0m\u001b[37m\u001b[0m \u001b[1m2s\u001b[0m 2ms/step - accuracy: 0.8892 - loss: 0.3685\n",
      "Epoch 16/40\n",
      "\u001b[1m1209/1209\u001b[0m \u001b[32m━━━━━━━━━━━━━━━━━━━━\u001b[0m\u001b[37m\u001b[0m \u001b[1m2s\u001b[0m 2ms/step - accuracy: 0.8883 - loss: 0.3574\n",
      "Epoch 17/40\n",
      "\u001b[1m1209/1209\u001b[0m \u001b[32m━━━━━━━━━━━━━━━━━━━━\u001b[0m\u001b[37m\u001b[0m \u001b[1m2s\u001b[0m 2ms/step - accuracy: 0.8970 - loss: 0.3301\n",
      "Epoch 18/40\n",
      "\u001b[1m1209/1209\u001b[0m \u001b[32m━━━━━━━━━━━━━━━━━━━━\u001b[0m\u001b[37m\u001b[0m \u001b[1m2s\u001b[0m 2ms/step - accuracy: 0.8957 - loss: 0.3304\n",
      "Epoch 19/40\n",
      "\u001b[1m1209/1209\u001b[0m \u001b[32m━━━━━━━━━━━━━━━━━━━━\u001b[0m\u001b[37m\u001b[0m \u001b[1m2s\u001b[0m 2ms/step - accuracy: 0.9022 - loss: 0.3137\n",
      "Epoch 20/40\n",
      "\u001b[1m1209/1209\u001b[0m \u001b[32m━━━━━━━━━━━━━━━━━━━━\u001b[0m\u001b[37m\u001b[0m \u001b[1m2s\u001b[0m 1ms/step - accuracy: 0.9115 - loss: 0.2904\n",
      "Epoch 21/40\n",
      "\u001b[1m1209/1209\u001b[0m \u001b[32m━━━━━━━━━━━━━━━━━━━━\u001b[0m\u001b[37m\u001b[0m \u001b[1m2s\u001b[0m 1ms/step - accuracy: 0.9130 - loss: 0.2876\n",
      "Epoch 22/40\n",
      "\u001b[1m1209/1209\u001b[0m \u001b[32m━━━━━━━━━━━━━━━━━━━━\u001b[0m\u001b[37m\u001b[0m \u001b[1m2s\u001b[0m 1ms/step - accuracy: 0.9063 - loss: 0.2940\n",
      "Epoch 23/40\n",
      "\u001b[1m1209/1209\u001b[0m \u001b[32m━━━━━━━━━━━━━━━━━━━━\u001b[0m\u001b[37m\u001b[0m \u001b[1m2s\u001b[0m 1ms/step - accuracy: 0.9095 - loss: 0.2858\n",
      "Epoch 24/40\n",
      "\u001b[1m1209/1209\u001b[0m \u001b[32m━━━━━━━━━━━━━━━━━━━━\u001b[0m\u001b[37m\u001b[0m \u001b[1m2s\u001b[0m 1ms/step - accuracy: 0.9165 - loss: 0.2666\n",
      "Epoch 25/40\n",
      "\u001b[1m1209/1209\u001b[0m \u001b[32m━━━━━━━━━━━━━━━━━━━━\u001b[0m\u001b[37m\u001b[0m \u001b[1m2s\u001b[0m 1ms/step - accuracy: 0.9099 - loss: 0.2802\n",
      "Epoch 26/40\n",
      "\u001b[1m1209/1209\u001b[0m \u001b[32m━━━━━━━━━━━━━━━━━━━━\u001b[0m\u001b[37m\u001b[0m \u001b[1m2s\u001b[0m 2ms/step - accuracy: 0.9196 - loss: 0.2553\n",
      "Epoch 27/40\n",
      "\u001b[1m1209/1209\u001b[0m \u001b[32m━━━━━━━━━━━━━━━━━━━━\u001b[0m\u001b[37m\u001b[0m \u001b[1m2s\u001b[0m 2ms/step - accuracy: 0.9154 - loss: 0.2591\n",
      "Epoch 28/40\n",
      "\u001b[1m1209/1209\u001b[0m \u001b[32m━━━━━━━━━━━━━━━━━━━━\u001b[0m\u001b[37m\u001b[0m \u001b[1m2s\u001b[0m 1ms/step - accuracy: 0.9197 - loss: 0.2472\n",
      "Epoch 29/40\n",
      "\u001b[1m1209/1209\u001b[0m \u001b[32m━━━━━━━━━━━━━━━━━━━━\u001b[0m\u001b[37m\u001b[0m \u001b[1m2s\u001b[0m 1ms/step - accuracy: 0.9189 - loss: 0.2500\n",
      "Epoch 30/40\n",
      "\u001b[1m1209/1209\u001b[0m \u001b[32m━━━━━━━━━━━━━━━━━━━━\u001b[0m\u001b[37m\u001b[0m \u001b[1m2s\u001b[0m 1ms/step - accuracy: 0.9254 - loss: 0.2367\n",
      "Epoch 31/40\n",
      "\u001b[1m1209/1209\u001b[0m \u001b[32m━━━━━━━━━━━━━━━━━━━━\u001b[0m\u001b[37m\u001b[0m \u001b[1m2s\u001b[0m 1ms/step - accuracy: 0.9263 - loss: 0.2284\n",
      "Epoch 32/40\n",
      "\u001b[1m1209/1209\u001b[0m \u001b[32m━━━━━━━━━━━━━━━━━━━━\u001b[0m\u001b[37m\u001b[0m \u001b[1m2s\u001b[0m 1ms/step - accuracy: 0.9246 - loss: 0.2366\n",
      "Epoch 33/40\n",
      "\u001b[1m1209/1209\u001b[0m \u001b[32m━━━━━━━━━━━━━━━━━━━━\u001b[0m\u001b[37m\u001b[0m \u001b[1m2s\u001b[0m 1ms/step - accuracy: 0.9245 - loss: 0.2347\n",
      "Epoch 34/40\n",
      "\u001b[1m1209/1209\u001b[0m \u001b[32m━━━━━━━━━━━━━━━━━━━━\u001b[0m\u001b[37m\u001b[0m \u001b[1m2s\u001b[0m 1ms/step - accuracy: 0.9220 - loss: 0.2436\n",
      "Epoch 35/40\n",
      "\u001b[1m1209/1209\u001b[0m \u001b[32m━━━━━━━━━━━━━━━━━━━━\u001b[0m\u001b[37m\u001b[0m \u001b[1m2s\u001b[0m 1ms/step - accuracy: 0.9241 - loss: 0.2353\n",
      "Epoch 36/40\n",
      "\u001b[1m1209/1209\u001b[0m \u001b[32m━━━━━━━━━━━━━━━━━━━━\u001b[0m\u001b[37m\u001b[0m \u001b[1m2s\u001b[0m 1ms/step - accuracy: 0.9282 - loss: 0.2258\n",
      "Epoch 37/40\n",
      "\u001b[1m1209/1209\u001b[0m \u001b[32m━━━━━━━━━━━━━━━━━━━━\u001b[0m\u001b[37m\u001b[0m \u001b[1m2s\u001b[0m 1ms/step - accuracy: 0.9258 - loss: 0.2328\n",
      "Epoch 38/40\n",
      "\u001b[1m1209/1209\u001b[0m \u001b[32m━━━━━━━━━━━━━━━━━━━━\u001b[0m\u001b[37m\u001b[0m \u001b[1m2s\u001b[0m 1ms/step - accuracy: 0.9231 - loss: 0.2345\n",
      "Epoch 39/40\n",
      "\u001b[1m1209/1209\u001b[0m \u001b[32m━━━━━━━━━━━━━━━━━━━━\u001b[0m\u001b[37m\u001b[0m \u001b[1m2s\u001b[0m 1ms/step - accuracy: 0.9305 - loss: 0.2164\n",
      "Epoch 40/40\n",
      "\u001b[1m1209/1209\u001b[0m \u001b[32m━━━━━━━━━━━━━━━━━━━━\u001b[0m\u001b[37m\u001b[0m \u001b[1m2s\u001b[0m 1ms/step - accuracy: 0.9282 - loss: 0.2248\n",
      "\u001b[1m303/303\u001b[0m \u001b[32m━━━━━━━━━━━━━━━━━━━━\u001b[0m\u001b[37m\u001b[0m \u001b[1m1s\u001b[0m 1ms/step - accuracy: 0.9428 - loss: 0.1931\n",
      "Test accuracy: 0.9436401128768921\n"
     ]
    },
    {
     "data": {
      "image/png": "[encoded data removed]",
      "text/plain": [
       "<Figure size 640x480 with 1 Axes>"
      ]
     },
     "metadata": {},
     "output_type": "display_data"
    },
    {
     "data": {
      "image/png": "[encoded data removed]",
      "text/plain": [
       "<Figure size 640x480 with 1 Axes>"
      ]
     },
     "metadata": {},
     "output_type": "display_data"
    },
    {
     "name": "stdout",
     "output_type": "stream",
     "text": [
      "Final Accuracy on test set: 0.9436401128768921\n"
     ]
    }
   ],
   "source": [
    "nb_epochs=40\n",
    "batch_size=32\n",
    "\n",
    "training_history = improved_mlp_model.fit(X_train_SMOTE,Y_train_SMOTE,\n",
    "                                    epochs=nb_epochs,\n",
    "                                    batch_size=batch_size)\n",
    "\n",
    "# Évaluation du modèle sur les données de test\n",
    "test_loss, test_acc = improved_mlp_model.evaluate(X_test_SMOTE, Y_test_SMOTE)\n",
    "print(f\"Test accuracy: {test_acc}\")\n",
    "\n",
    "display_training_curves(training_history)\n",
    "print(\"Final Accuracy on test set:\", test_acc)"
   ]
  },
  {
   "cell_type": "markdown",
   "metadata": {
    "id": "77ftkfv5oqp0"
   },
   "source": [
    "**QUESTION** Plot the confusion matrix and the classification report"
   ]
  },
  {
   "cell_type": "code",
   "execution_count": null,
   "metadata": {
    "id": "kRmkOI_co5d9"
   },
   "outputs": [
    {
     "name": "stdout",
     "output_type": "stream",
     "text": [
      "\u001b[1m303/303\u001b[0m \u001b[32m━━━━━━━━━━━━━━━━━━━━\u001b[0m\u001b[37m\u001b[0m \u001b[1m0s\u001b[0m 745us/step\n",
      "Classification report for classifier improved_mlp_model:\n",
      "              precision    recall  f1-score   support\n",
      "\n",
      "  No Failure       1.00      0.82      0.90      1967\n",
      "         TWF       0.92      0.94      0.93      1845\n",
      "         HDF       0.91      0.96      0.94      1965\n",
      "         PWF       0.98      1.00      0.99      1959\n",
      "         OSF       0.92      1.00      0.96      1934\n",
      "\n",
      "   micro avg       0.94      0.94      0.94      9670\n",
      "   macro avg       0.95      0.94      0.94      9670\n",
      "weighted avg       0.95      0.94      0.94      9670\n",
      " samples avg       0.94      0.94      0.94      9670\n",
      "\n",
      "\n"
     ]
    },
    {
     "data": {
      "text/plain": [
       "<sklearn.metrics._plot.confusion_matrix.ConfusionMatrixDisplay at 0x1a3e2983e30>"
      ]
     },
     "execution_count": 33,
     "metadata": {},
     "output_type": "execute_result"
    },
    {
     "data": {
      "image/png": "[encoded data removed]",
      "text/plain": [
       "<Figure size 640x480 with 2 Axes>"
      ]
     },
     "metadata": {},
     "output_type": "display_data"
    }
   ],
   "source": [
    "predictions = improved_mlp_model.predict(X_test_SMOTE)\n",
    "\n",
    "predictions_bin = np.zeros_like(predictions)\n",
    "predictions_bin[np.arange(predictions.shape[0]), np.argmax(predictions, axis=1)] = 1\n",
    "\n",
    "\n",
    "Y_test_bin  = np.zeros_like(Y_test_SMOTE)\n",
    "Y_test_bin[np.arange(Y_test_SMOTE.shape[0]), np.argmax(Y_test_SMOTE, axis=1)] = 1\n",
    "\n",
    "\n",
    "print(\n",
    "    f\"Classification report for classifier improved_mlp_model:\\n\"\n",
    "    f\"{classification_report(Y_test_bin, predictions_bin, target_names=class_names)}\\n\"\n",
    ")\n",
    "\n",
    "cm = confusion_matrix(Y_test_bin.argmax(axis=1), predictions_bin.argmax(axis=1))\n",
    "cm_display = ConfusionMatrixDisplay(confusion_matrix=cm)\n",
    "cm_display.plot()"
   ]
  },
  {
   "cell_type": "markdown",
   "metadata": {
    "id": "Zn5BBAI3pHXf"
   },
   "source": [
    "**ANALYSIS QUESTION** What do you observe? What can you conclude?"
   ]
  },
  {
   "cell_type": "markdown",
   "metadata": {
    "id": "SIf8rfU9pIGd"
   },
   "source": [
    "\"Write your response here\""
   ]
  },
  {
   "cell_type": "markdown",
   "metadata": {},
   "source": [
    "**Exportation of the model :**"
   ]
  },
  {
   "cell_type": "code",
   "execution_count": null,
   "metadata": {},
   "outputs": [],
   "source": [
    "'''improved_mlp_model.save('./saved_models/improved_mlp_model.h5', save_format='h5')\n",
    "\n",
    "converter = tf.lite.TFLiteConverter.from_keras_model(improved_mlp_model)\n",
    "tflite_model = converter.convert()\n",
    "with open('./saved_models/improved_mlp_model.tflite', 'wb') as f:\n",
    "    f.write(tflite_model)\n",
    "'''\n",
    "\n",
    "Y_test_single_label = np.array([np.argmax(row) for row in Y_test_SMOTE])\n",
    "\n",
    "#Les tableaux de données exportées sont ceux avec le SMOTE correspondant aux données avec des classes équilibrées TODO\n",
    "np.savetxt(\"./saved_data/X_test.csv\", X_test_SMOTE.reshape(X_test_SMOTE.shape[0], -1), delimiter=\",\", fmt=\"%.6f\")  # On exporte en flottants\n",
    "np.savetxt(\"./saved_data/Y_test.csv\", Y_test_single_label.reshape(Y_test_single_label.shape[0], -1), delimiter=\",\", fmt=\"%d\")  # Save as .csv\n",
    "np.save(\"./saved_data/X_test.npy\", X_test_SMOTE)  # Save as .npy\n",
    "np.save(\"./saved_data/Y_test.npy\", Y_test_single_label)  # Save as .npy"
   ]
  },
  {
   "cell_type": "code",
   "execution_count": null,
   "metadata": {},
   "outputs": [
    {
     "name": "stdout",
     "output_type": "stream",
     "text": [
      "\u001b[1m1/1\u001b[0m \u001b[32m━━━━━━━━━━━━━━━━━━━━\u001b[0m\u001b[37m\u001b[0m \u001b[1m0s\u001b[0m 38ms/step\n",
      "[[0. 1. 0. 0. 0.]]\n",
      "Input data: [[ 298.4  308.  1416.    38.2  198. ]]\n",
      "Predicted class: TWF\n",
      "Expected result : [0 1 0 0 0]\n"
     ]
    }
   ],
   "source": [
    "def test_single_input(model, input_data, class_names):\n",
    "    # Reshape the input data to match the model's expected input shape\n",
    "    input_data = np.array(input_data).reshape(1, -1)\n",
    "    \n",
    "    # Make a prediction\n",
    "    prediction = model.predict(input_data)\n",
    "    # Convert the prediction to a binary format\n",
    "    prediction_bin = np.zeros_like(prediction)\n",
    "    prediction_bin[np.arange(prediction.shape[0]), np.argmax(prediction, axis=1)] = 1\n",
    "    print(prediction_bin)\n",
    "\n",
    "    # Get the predicted class\n",
    "    predicted_class = class_names[np.argmax(prediction)]\n",
    "    \n",
    "    print(f\"Input data: {input_data}\")\n",
    "    print(f\"Predicted class: {predicted_class}\")\n",
    "\n",
    "# Example input data (replace with actual input data)\n",
    "index = np.where(Y[:, 1] == 1)[0][5]  # Trouver le premier index où TWF est 1\n",
    "\n",
    "example_input = X[index]\n",
    "\n",
    "# Test the model on the example input\n",
    "test_single_input(improved_mlp_model, example_input, class_names)\n",
    "print(\"Expected result :\", Y[index])"
   ]
  }
 ],
 "metadata": {
  "colab": {
   "provenance": []
  },
  "kernelspec": {
   "display_name": "Python 3",
   "language": "python",
   "name": "python3"
  },
  "language_info": {
   "codemirror_mode": {
    "name": "ipython",
    "version": 3
   },
   "file_extension": ".py",
   "mimetype": "text/x-python",
   "name": "python",
   "nbconvert_exporter": "python",
   "pygments_lexer": "ipython3",
   "version": "3.12.9"
  }
 },
 "nbformat": 4,
 "nbformat_minor": 0
}
